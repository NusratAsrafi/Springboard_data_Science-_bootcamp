{
 "cells": [
  {
   "cell_type": "markdown",
   "metadata": {
    "colab_type": "text",
    "id": "WNK7vbHo-KYU"
   },
   "source": [
    "## Bayesian methods of hyperparameter optimization"
   ]
  },
  {
   "cell_type": "markdown",
   "metadata": {
    "colab_type": "text",
    "id": "BlFdvPwF-KYW"
   },
   "source": [
    "In addition to the random search and the grid search methods for selecting optimal hyperparameters, we can use Bayesian methods of probabilities to select the optimal hyperparameters for an algorithm.\n",
    "\n",
    "In this case study, we will be using the BayesianOptimization library to perform hyperparmater tuning. This library has very good documentation which you can find here: https://github.com/fmfn/BayesianOptimization\n",
    "\n",
    "You will need to install the Bayesian optimization module. Running a cell with an exclamation point in the beginning of the command will run it as a shell command — please do this to install this module from our notebook in the cell below."
   ]
  },
  {
   "cell_type": "code",
   "execution_count": 1,
   "metadata": {
    "colab": {},
    "colab_type": "code",
    "id": "Pssx080d-Ulf"
   },
   "outputs": [
    {
     "name": "stdout",
     "output_type": "stream",
     "text": [
      "Collecting bayesian-optimization\n",
      "  Downloading bayesian_optimization-2.0.3-py3-none-any.whl.metadata (9.0 kB)\n",
      "Collecting lightgbm\n",
      "  Downloading lightgbm-4.5.0-py3-none-win_amd64.whl.metadata (17 kB)\n",
      "Collecting catboost\n",
      "  Downloading catboost-1.2.7-cp312-cp312-win_amd64.whl.metadata (1.2 kB)\n",
      "Requirement already satisfied: colorama<0.5.0,>=0.4.6 in c:\\users\\asraf\\anaconda3\\lib\\site-packages (from bayesian-optimization) (0.4.6)\n",
      "Requirement already satisfied: numpy>=1.25 in c:\\users\\asraf\\anaconda3\\lib\\site-packages (from bayesian-optimization) (1.26.4)\n",
      "Requirement already satisfied: scikit-learn<2.0.0,>=1.0.0 in c:\\users\\asraf\\anaconda3\\lib\\site-packages (from bayesian-optimization) (1.5.1)\n",
      "Requirement already satisfied: scipy<2.0.0,>=1.0.0 in c:\\users\\asraf\\anaconda3\\lib\\site-packages (from bayesian-optimization) (1.13.1)\n",
      "Collecting graphviz (from catboost)\n",
      "  Using cached graphviz-0.20.3-py3-none-any.whl.metadata (12 kB)\n",
      "Requirement already satisfied: matplotlib in c:\\users\\asraf\\anaconda3\\lib\\site-packages (from catboost) (3.9.2)\n",
      "Requirement already satisfied: pandas>=0.24 in c:\\users\\asraf\\anaconda3\\lib\\site-packages (from catboost) (2.2.2)\n",
      "Requirement already satisfied: plotly in c:\\users\\asraf\\anaconda3\\lib\\site-packages (from catboost) (5.24.1)\n",
      "Requirement already satisfied: six in c:\\users\\asraf\\anaconda3\\lib\\site-packages (from catboost) (1.16.0)\n",
      "Requirement already satisfied: python-dateutil>=2.8.2 in c:\\users\\asraf\\anaconda3\\lib\\site-packages (from pandas>=0.24->catboost) (2.9.0.post0)\n",
      "Requirement already satisfied: pytz>=2020.1 in c:\\users\\asraf\\anaconda3\\lib\\site-packages (from pandas>=0.24->catboost) (2024.1)\n",
      "Requirement already satisfied: tzdata>=2022.7 in c:\\users\\asraf\\anaconda3\\lib\\site-packages (from pandas>=0.24->catboost) (2023.3)\n",
      "Requirement already satisfied: joblib>=1.2.0 in c:\\users\\asraf\\anaconda3\\lib\\site-packages (from scikit-learn<2.0.0,>=1.0.0->bayesian-optimization) (1.4.2)\n",
      "Requirement already satisfied: threadpoolctl>=3.1.0 in c:\\users\\asraf\\anaconda3\\lib\\site-packages (from scikit-learn<2.0.0,>=1.0.0->bayesian-optimization) (3.5.0)\n",
      "Requirement already satisfied: contourpy>=1.0.1 in c:\\users\\asraf\\anaconda3\\lib\\site-packages (from matplotlib->catboost) (1.2.0)\n",
      "Requirement already satisfied: cycler>=0.10 in c:\\users\\asraf\\anaconda3\\lib\\site-packages (from matplotlib->catboost) (0.11.0)\n",
      "Requirement already satisfied: fonttools>=4.22.0 in c:\\users\\asraf\\anaconda3\\lib\\site-packages (from matplotlib->catboost) (4.51.0)\n",
      "Requirement already satisfied: kiwisolver>=1.3.1 in c:\\users\\asraf\\anaconda3\\lib\\site-packages (from matplotlib->catboost) (1.4.4)\n",
      "Requirement already satisfied: packaging>=20.0 in c:\\users\\asraf\\anaconda3\\lib\\site-packages (from matplotlib->catboost) (24.1)\n",
      "Requirement already satisfied: pillow>=8 in c:\\users\\asraf\\anaconda3\\lib\\site-packages (from matplotlib->catboost) (10.4.0)\n",
      "Requirement already satisfied: pyparsing>=2.3.1 in c:\\users\\asraf\\anaconda3\\lib\\site-packages (from matplotlib->catboost) (3.1.2)\n",
      "Requirement already satisfied: tenacity>=6.2.0 in c:\\users\\asraf\\anaconda3\\lib\\site-packages (from plotly->catboost) (8.2.3)\n",
      "Downloading bayesian_optimization-2.0.3-py3-none-any.whl (31 kB)\n",
      "Downloading lightgbm-4.5.0-py3-none-win_amd64.whl (1.4 MB)\n",
      "   ---------------------------------------- 0.0/1.4 MB ? eta -:--:--\n",
      "   ------- -------------------------------- 0.3/1.4 MB ? eta -:--:--\n",
      "   --------------------- ------------------ 0.8/1.4 MB 2.1 MB/s eta 0:00:01\n",
      "   ---------------------------------------- 1.4/1.4 MB 2.5 MB/s eta 0:00:00\n",
      "Downloading catboost-1.2.7-cp312-cp312-win_amd64.whl (101.7 MB)\n",
      "   ---------------------------------------- 0.0/101.7 MB ? eta -:--:--\n",
      "   ---------------------------------------- 0.5/101.7 MB 3.4 MB/s eta 0:00:31\n",
      "    --------------------------------------- 1.6/101.7 MB 3.6 MB/s eta 0:00:28\n",
      "    --------------------------------------- 2.4/101.7 MB 4.1 MB/s eta 0:00:25\n",
      "   - -------------------------------------- 3.7/101.7 MB 4.4 MB/s eta 0:00:23\n",
      "   - -------------------------------------- 4.7/101.7 MB 4.6 MB/s eta 0:00:22\n",
      "   -- ------------------------------------- 5.2/101.7 MB 4.8 MB/s eta 0:00:21\n",
      "   -- ------------------------------------- 5.2/101.7 MB 4.8 MB/s eta 0:00:21\n",
      "   -- ------------------------------------- 5.2/101.7 MB 4.8 MB/s eta 0:00:21\n",
      "   -- ------------------------------------- 5.2/101.7 MB 4.8 MB/s eta 0:00:21\n",
      "   -- ------------------------------------- 5.2/101.7 MB 4.8 MB/s eta 0:00:21\n",
      "   -- ------------------------------------- 5.2/101.7 MB 4.8 MB/s eta 0:00:21\n",
      "   -- ------------------------------------- 5.8/101.7 MB 2.2 MB/s eta 0:00:43\n",
      "   -- ------------------------------------- 6.8/101.7 MB 2.5 MB/s eta 0:00:39\n",
      "   -- ------------------------------------- 7.6/101.7 MB 2.5 MB/s eta 0:00:38\n",
      "   --- ------------------------------------ 8.9/101.7 MB 2.8 MB/s eta 0:00:34\n",
      "   --- ------------------------------------ 10.0/101.7 MB 2.9 MB/s eta 0:00:32\n",
      "   ---- ----------------------------------- 11.3/101.7 MB 3.1 MB/s eta 0:00:30\n",
      "   ---- ----------------------------------- 12.6/101.7 MB 3.3 MB/s eta 0:00:27\n",
      "   ----- ---------------------------------- 13.9/101.7 MB 3.5 MB/s eta 0:00:26\n",
      "   ------ --------------------------------- 15.5/101.7 MB 3.6 MB/s eta 0:00:24\n",
      "   ------ --------------------------------- 15.7/101.7 MB 3.7 MB/s eta 0:00:24\n",
      "   ------ --------------------------------- 17.0/101.7 MB 3.6 MB/s eta 0:00:24\n",
      "   ------- -------------------------------- 18.4/101.7 MB 3.8 MB/s eta 0:00:23\n",
      "   ------- -------------------------------- 19.9/101.7 MB 3.9 MB/s eta 0:00:21\n",
      "   -------- ------------------------------- 21.5/101.7 MB 4.1 MB/s eta 0:00:20\n",
      "   --------- ------------------------------ 23.1/101.7 MB 4.2 MB/s eta 0:00:19\n",
      "   --------- ------------------------------ 24.6/101.7 MB 4.3 MB/s eta 0:00:18\n",
      "   ---------- ----------------------------- 26.5/101.7 MB 4.4 MB/s eta 0:00:17\n",
      "   ---------- ----------------------------- 27.8/101.7 MB 4.5 MB/s eta 0:00:17\n",
      "   ----------- ---------------------------- 29.6/101.7 MB 4.7 MB/s eta 0:00:16\n",
      "   ------------ --------------------------- 31.5/101.7 MB 4.8 MB/s eta 0:00:15\n",
      "   ------------- -------------------------- 33.6/101.7 MB 4.9 MB/s eta 0:00:14\n",
      "   ------------- -------------------------- 35.1/101.7 MB 5.0 MB/s eta 0:00:14\n",
      "   -------------- ------------------------- 37.0/101.7 MB 5.1 MB/s eta 0:00:13\n",
      "   --------------- ------------------------ 39.1/101.7 MB 5.3 MB/s eta 0:00:12\n",
      "   --------------- ------------------------ 40.6/101.7 MB 5.3 MB/s eta 0:00:12\n",
      "   ---------------- ----------------------- 42.5/101.7 MB 5.4 MB/s eta 0:00:11\n",
      "   ----------------- ---------------------- 44.0/101.7 MB 5.5 MB/s eta 0:00:11\n",
      "   ------------------ --------------------- 46.1/101.7 MB 5.6 MB/s eta 0:00:10\n",
      "   ------------------ --------------------- 48.0/101.7 MB 5.7 MB/s eta 0:00:10\n",
      "   ------------------- -------------------- 50.1/101.7 MB 5.8 MB/s eta 0:00:09\n",
      "   -------------------- ------------------- 51.6/101.7 MB 5.8 MB/s eta 0:00:09\n",
      "   -------------------- ------------------- 53.0/101.7 MB 5.8 MB/s eta 0:00:09\n",
      "   --------------------- ------------------ 55.1/101.7 MB 5.9 MB/s eta 0:00:08\n",
      "   ---------------------- ----------------- 57.4/101.7 MB 6.0 MB/s eta 0:00:08\n",
      "   ----------------------- ---------------- 59.8/101.7 MB 6.1 MB/s eta 0:00:07\n",
      "   ------------------------ --------------- 61.9/101.7 MB 6.2 MB/s eta 0:00:07\n",
      "   ------------------------- -------------- 64.0/101.7 MB 6.3 MB/s eta 0:00:07\n",
      "   ------------------------- -------------- 66.1/101.7 MB 6.4 MB/s eta 0:00:06\n",
      "   -------------------------- ------------- 67.1/101.7 MB 6.3 MB/s eta 0:00:06\n",
      "   --------------------------- ------------ 68.7/101.7 MB 6.4 MB/s eta 0:00:06\n",
      "   --------------------------- ------------ 70.8/101.7 MB 6.4 MB/s eta 0:00:05\n",
      "   ---------------------------- ----------- 73.1/101.7 MB 6.5 MB/s eta 0:00:05\n",
      "   ----------------------------- ---------- 75.5/101.7 MB 6.6 MB/s eta 0:00:04\n",
      "   ------------------------------ --------- 78.1/101.7 MB 6.7 MB/s eta 0:00:04\n",
      "   ------------------------------- -------- 80.5/101.7 MB 6.8 MB/s eta 0:00:04\n",
      "   -------------------------------- ------- 82.8/101.7 MB 6.8 MB/s eta 0:00:03\n",
      "   --------------------------------- ------ 85.2/101.7 MB 6.9 MB/s eta 0:00:03\n",
      "   ---------------------------------- ----- 87.8/101.7 MB 7.0 MB/s eta 0:00:02\n",
      "   ----------------------------------- ---- 89.9/101.7 MB 7.1 MB/s eta 0:00:02\n",
      "   ------------------------------------ --- 92.0/101.7 MB 7.1 MB/s eta 0:00:02\n",
      "   ------------------------------------ --- 93.8/101.7 MB 7.1 MB/s eta 0:00:02\n",
      "   ------------------------------------- -- 95.9/101.7 MB 7.2 MB/s eta 0:00:01\n",
      "   -------------------------------------- - 98.3/101.7 MB 7.2 MB/s eta 0:00:01\n",
      "   ---------------------------------------  99.9/101.7 MB 7.2 MB/s eta 0:00:01\n",
      "   ---------------------------------------  101.7/101.7 MB 7.3 MB/s eta 0:00:01\n",
      "   ---------------------------------------- 101.7/101.7 MB 7.2 MB/s eta 0:00:00\n",
      "Using cached graphviz-0.20.3-py3-none-any.whl (47 kB)\n",
      "Installing collected packages: graphviz, lightgbm, catboost, bayesian-optimization\n",
      "Successfully installed bayesian-optimization-2.0.3 catboost-1.2.7 graphviz-0.20.3 lightgbm-4.5.0\n"
     ]
    }
   ],
   "source": [
    "! pip install bayesian-optimization lightgbm catboost"
   ]
  },
  {
   "cell_type": "code",
   "execution_count": 1,
   "metadata": {
    "ExecuteTime": {
     "end_time": "2019-04-22T16:39:09.312682Z",
     "start_time": "2019-04-22T16:39:09.309208Z"
    },
    "_kg_hide-input": true,
    "colab": {},
    "colab_type": "code",
    "id": "l9nfFTyj-KYY"
   },
   "outputs": [],
   "source": [
    "import warnings\n",
    "warnings.filterwarnings('ignore')\n",
    "from sklearn.preprocessing import LabelEncoder\n",
    "import numpy as np\n",
    "import pandas as pd\n",
    "import lightgbm\n",
    "from bayes_opt import BayesianOptimization\n",
    "from catboost import CatBoostClassifier, cv, Pool"
   ]
  },
  {
   "cell_type": "code",
   "execution_count": 2,
   "metadata": {
    "colab": {
     "base_uri": "https://localhost:8080/",
     "height": 85
    },
    "colab_type": "code",
    "id": "D16Dquw1AAK0",
    "outputId": "44167587-f22e-4bf5-a816-e2bcfdc6c4ee"
   },
   "outputs": [
    {
     "data": {
      "text/plain": [
       "['.anaconda',\n",
       " '.bash_history',\n",
       " '.conda',\n",
       " '.condarc',\n",
       " '.continuum',\n",
       " '.gitconfig',\n",
       " '.ipynb',\n",
       " '.ipynb_checkpoints',\n",
       " '.ipython',\n",
       " '.jupyter',\n",
       " '.keras',\n",
       " '.matplotlib',\n",
       " '.ms-ad',\n",
       " '.python_history',\n",
       " '.spyder-py3',\n",
       " '.viminfo',\n",
       " '02_data_wrangling.ipynb',\n",
       " '03.10-Working-With-Strings.ipynb',\n",
       " '3D Objects',\n",
       " '4.3_Plotly_Basics (1).ipynb',\n",
       " '4.3_Plotly_Basics (2).ipynb',\n",
       " '5_Peer_Graded_Assignment_Questions (2).ipynb',\n",
       " '5_Peer_Graded_Assignment_Questions (5).ipynb',\n",
       " 'AFX_X_2017_data.json',\n",
       " 'anaconda3',\n",
       " 'Ans_3.ipynb',\n",
       " 'Ans__1.ipynb',\n",
       " 'Ans__2.ipynb',\n",
       " 'Ans__4.ipynb',\n",
       " 'Ans__5.ipynb',\n",
       " 'api.env',\n",
       " 'apikey.txt',\n",
       " 'api_data_wrangling_mini_project.ipynb',\n",
       " 'AppData',\n",
       " 'AppleStore.csv',\n",
       " 'appleStore_description.csv',\n",
       " 'Application Data',\n",
       " 'automobileEDA.csv',\n",
       " 'automobileEDA.csv.1',\n",
       " 'automobileEDA.csv.2',\n",
       " 'Bayesian_optimization_case_study.ipynb',\n",
       " 'boston.csv',\n",
       " 'BullseyeCoverageError.txt',\n",
       " 'Capstone_1.ipynb',\n",
       " 'ChurnData.csv',\n",
       " 'clean_df.csv',\n",
       " 'Clustering Case Study - Customer Segmentation with K-Means - Tier 3.ipynb',\n",
       " 'Contacts',\n",
       " 'Cookies',\n",
       " 'Cosine_Similarity_Case_Study.ipynb',\n",
       " 'coursera-dl.conf',\n",
       " 'Creative Cloud Files Company Account Duke University ms997@duke.edu AE293E08619B1E3E0A495EB1@duke.edu',\n",
       " 'dash_app.ipynb',\n",
       " 'DataScienceGuidedCapstone',\n",
       " 'dataset_part_1.csv',\n",
       " 'dataset_part_2.csv',\n",
       " 'dataset_part_3.csv',\n",
       " 'Data_Science_project_springboard.ipynb',\n",
       " 'data_visualization_final_assignment.ipynb',\n",
       " 'DB0201EN-PeerAssign-v5.ipynb',\n",
       " 'DB0201EN-Week3-1-1-Connecting.ipynb',\n",
       " 'debug.log',\n",
       " 'diabetes.csv',\n",
       " 'diabetic_data.csv',\n",
       " 'dictionary.txt',\n",
       " 'distance_dataset (1).csv',\n",
       " 'distance_dataset.csv',\n",
       " 'Documents',\n",
       " 'Downloads',\n",
       " 'drug200.csv',\n",
       " 'drugtree.png',\n",
       " 'DS0103EN-Exercise-From-Modeling-to-Evaluation (1).ipynb',\n",
       " 'DS0103EN-Exercise-From-Problem-to-Approach.ipynb',\n",
       " 'DS0103EN-Exercise-From-Understanding-to-Preparation (1).ipynb',\n",
       " 'DS0103EN-Review-From-Requirements-to-Collection (1).ipynb',\n",
       " 'DV0101EN-2-2-1-Area-Plots-Histograms-and-Bar-Charts-py-v2.0.ipynb',\n",
       " 'DV0101EN-3-5-1-Generating-Maps-in-Python-py-v2.0 (1).ipynb',\n",
       " 'DV0101EN-Exercise-Area-Plots-Histograms-and-Bar-Charts (1).ipynb',\n",
       " 'DV0101EN-Exercise-Generating-Maps-in-Python.ipynb',\n",
       " 'DV0101EN-Exercise-Pie-Charts-Box-Plots-Scatter-Plots-and-Bubble-Plots (2).ipynb',\n",
       " 'DV0101EN-Exercise-Pie-Charts-Box-Plots-Scatter-Plots-and-Bubble-Plots.ipynb',\n",
       " 'Euclidean_and_Manhattan_Distances_Case_Study.ipynb',\n",
       " 'example.html',\n",
       " 'experiment.ipynb',\n",
       " 'Favorites',\n",
       " 'Final Assignment.ipynb',\n",
       " 'Final Machine Learning with python peer graded assignment.ipynb',\n",
       " 'Final_Assignment Library (1).ipynb',\n",
       " 'final_assignment_tools_for_data_science.ipynb',\n",
       " 'final_data_science_dash_application_project.ipynb',\n",
       " 'Final_data_visulization_assignment.ipynb',\n",
       " 'flight_delays_test.csv',\n",
       " 'flight_delays_train.csv',\n",
       " 'Frequentist Inference Case Study - Part A (3).ipynb',\n",
       " 'Frequentist Inference Case Study - Part B (2).ipynb',\n",
       " 'GeeksforGeeks.csv',\n",
       " 'get-pip.py',\n",
       " 'git_demo',\n",
       " 'git_practice',\n",
       " 'Google Drive',\n",
       " 'googleplaystore.csv',\n",
       " 'googleplaystore_user_reviews.csv',\n",
       " 'Gradient Boosting Case Study.ipynb',\n",
       " 'GridSearchKNN_Case_Study.ipynb',\n",
       " 'Healthcare_Cost_Analysis.ipynb',\n",
       " 'healthcare_dataset.csv',\n",
       " 'heart.xlsx',\n",
       " 'House_Sales_in_King_Count_USA.ipynb',\n",
       " 'important_coursera_dl.txt',\n",
       " 'important_features_dataset.csv',\n",
       " 'imports-85.data',\n",
       " 'insurance2.csv',\n",
       " 'IntelGraphicsProfiles',\n",
       " 'Iris.csv',\n",
       " 'jupyter-labs-eda-dataviz.ipynb',\n",
       " 'jupyter-labs-eda-sql-coursera (3).ipynb',\n",
       " 'jupyter-labs-eda-sql-coursera_sqllite.ipynb',\n",
       " 'jupyter-labs-spacex-data-collection-api (1).ipynb',\n",
       " 'jupyter-labs-webscraping (1).ipynb',\n",
       " 'jupyter-labs-webscraping.ipynb',\n",
       " 'labs-jupyter-spacex-Data wrangling (2).ipynb',\n",
       " 'labs-jupyter-spacex-Data wrangling.ipynb',\n",
       " 'lab_jupyter_launch_site_location.ipynb',\n",
       " 'lab_jupyter_launch_site_location_111.ipynb',\n",
       " 'lab_jupyter_launch_site_location_interactive dashborad.ipynb',\n",
       " 'Links',\n",
       " 'loantree.png',\n",
       " 'loan_test.csv',\n",
       " 'loan_train.csv',\n",
       " 'Local Settings',\n",
       " 'Logistic Regression Advanced Case Study.ipynb',\n",
       " 'Machine Learning with python peer graded assignment.ipynb',\n",
       " 'medical_cost.csv',\n",
       " 'meteorites.ipynb',\n",
       " 'Microsoft',\n",
       " 'MicrosoftEdgeBackups',\n",
       " 'Mini_Project_Linear_Regression.ipynb',\n",
       " 'ML0101EN-Clas-Decision-Trees-drug.ipynb',\n",
       " 'ML0101EN-Clas-K-Nearest-neighbors-CustCat.ipynb',\n",
       " 'ML0101EN-Clas-Logistic-Reg-churn.ipynb',\n",
       " 'ML0101EN-Clas-SVM-cancer.ipynb',\n",
       " 'Music',\n",
       " 'My Documents',\n",
       " 'my_data1.db',\n",
       " 'My_Notebook.ipynb',\n",
       " 'NetHood',\n",
       " 'New Text Document.txt',\n",
       " 'NTUSER.DAT',\n",
       " 'ntuser.dat.LOG1',\n",
       " 'ntuser.dat.LOG2',\n",
       " 'NTUSER.DAT{6fa689cc-e2e8-11ef-824b-9f6ed0a37ea2}.TxR.0.regtrans-ms',\n",
       " 'NTUSER.DAT{6fa689cc-e2e8-11ef-824b-9f6ed0a37ea2}.TxR.1.regtrans-ms',\n",
       " 'NTUSER.DAT{6fa689cc-e2e8-11ef-824b-9f6ed0a37ea2}.TxR.2.regtrans-ms',\n",
       " 'NTUSER.DAT{6fa689cc-e2e8-11ef-824b-9f6ed0a37ea2}.TxR.blf',\n",
       " 'NTUSER.DAT{6fa689cd-e2e8-11ef-824b-9f6ed0a37ea2}.TM.blf',\n",
       " 'NTUSER.DAT{6fa689cd-e2e8-11ef-824b-9f6ed0a37ea2}.TMContainer00000000000000000001.regtrans-ms',\n",
       " 'NTUSER.DAT{6fa689cd-e2e8-11ef-824b-9f6ed0a37ea2}.TMContainer00000000000000000002.regtrans-ms',\n",
       " 'ntuser.ini',\n",
       " 'OneDrive',\n",
       " 'PatientInfo.csv',\n",
       " 'pca-1.csv',\n",
       " 'Peer_graded_data_visulization_assignment.ipynb',\n",
       " 'Practical Dash application.ipynb',\n",
       " 'Practise assignment.ipynb',\n",
       " 'PrintHood',\n",
       " 'PY0101EN-2-3-Dictionaries.ipynb',\n",
       " 'Question for machine learning.txt',\n",
       " 'RandomForest_casestudy_covid19.ipynb',\n",
       " 'Recent',\n",
       " 'RRDinerCoffeeData.csv',\n",
       " 'Saved Games',\n",
       " 'scores.csv',\n",
       " 'Searches',\n",
       " 'SendTo',\n",
       " 'Solution_of _Unit4_Challenge_Tier3.ipynb',\n",
       " 'spacex_launch_geo (1).csv',\n",
       " 'spacex_launch_geo (10).csv',\n",
       " 'spacex_launch_geo (11).csv',\n",
       " 'spacex_launch_geo (2).csv',\n",
       " 'spacex_launch_geo (3).csv',\n",
       " 'spacex_launch_geo (4).csv',\n",
       " 'spacex_launch_geo (5).csv',\n",
       " 'spacex_launch_geo (6).csv',\n",
       " 'spacex_launch_geo (7).csv',\n",
       " 'spacex_launch_geo (8).csv',\n",
       " 'spacex_launch_geo (9).csv',\n",
       " 'spacex_launch_geo.csv',\n",
       " 'SpaceX_Machine Learning Prediction_Part_5 .ipynb',\n",
       " 'spacex_web_scraped.csv',\n",
       " 'Springboard Apps project - Tier 3 - Complete.ipynb',\n",
       " 'Springboard Decision Tree Specialty Coffee Case Study - Tier 3.ipynb',\n",
       " 'Springboard Regression Case Study - the Red Wine Dataset - Tier 1.ipynb',\n",
       " 'Springboard Regression Case Study - the Red Wine Dataset - Tier 2.ipynb',\n",
       " 'Springboard Regression Case Study - the Red Wine Dataset - Tier 3.ipynb',\n",
       " 'Springboard Regression Case Study - the Red Wine Dataset.zip',\n",
       " 'Springboard_assignment.ipynb',\n",
       " 'Start Menu',\n",
       " 'Templates',\n",
       " 'ticdata2000.txt',\n",
       " 'ticeval2000.txt',\n",
       " 'titanic.csv',\n",
       " 'tournamentinfo (1).csv',\n",
       " 'tournamentinfo (1).txt',\n",
       " 'tree.dot',\n",
       " 'tree.png',\n",
       " 'Unit 4 Challenge - Tier 3.ipynb',\n",
       " 'Untitled Folder',\n",
       " 'Untitled.ipynb',\n",
       " 'untitled.txt',\n",
       " 'Untitled1.ipynb',\n",
       " 'Untitled10.ipynb',\n",
       " 'Untitled11.ipynb',\n",
       " 'Untitled12.ipynb',\n",
       " 'Untitled13.ipynb',\n",
       " 'Untitled14.ipynb',\n",
       " 'Untitled15.ipynb',\n",
       " 'Untitled16.ipynb',\n",
       " 'Untitled17.ipynb',\n",
       " 'Untitled18.ipynb',\n",
       " 'Untitled19.ipynb',\n",
       " 'Untitled2.ipynb',\n",
       " 'Untitled20.ipynb',\n",
       " 'Untitled21.ipynb',\n",
       " 'Untitled22.ipynb',\n",
       " 'Untitled23.ipynb',\n",
       " 'Untitled24.ipynb',\n",
       " 'Untitled25.ipynb',\n",
       " 'Untitled26.ipynb',\n",
       " 'Untitled27.ipynb',\n",
       " 'Untitled28.ipynb',\n",
       " 'Untitled29.ipynb',\n",
       " 'Untitled3.ipynb',\n",
       " 'Untitled30.ipynb',\n",
       " 'Untitled31.ipynb',\n",
       " 'Untitled32.ipynb',\n",
       " 'Untitled33.ipynb',\n",
       " 'Untitled34.ipynb',\n",
       " 'Untitled35.ipynb',\n",
       " 'Untitled36.ipynb',\n",
       " 'Untitled37.ipynb',\n",
       " 'Untitled38.ipynb',\n",
       " 'Untitled39.ipynb',\n",
       " 'Untitled4.ipynb',\n",
       " 'Untitled40.ipynb',\n",
       " 'Untitled41.ipynb',\n",
       " 'Untitled42.ipynb',\n",
       " 'Untitled43.ipynb',\n",
       " 'Untitled44.ipynb',\n",
       " 'Untitled45.ipynb',\n",
       " 'Untitled46.ipynb',\n",
       " 'Untitled47.ipynb',\n",
       " 'Untitled48.ipynb',\n",
       " 'Untitled49.ipynb',\n",
       " 'Untitled5.ipynb',\n",
       " 'Untitled50.ipynb',\n",
       " 'Untitled51.ipynb',\n",
       " 'Untitled52.ipynb',\n",
       " 'Untitled53.ipynb',\n",
       " 'Untitled54.ipynb',\n",
       " 'Untitled55.ipynb',\n",
       " 'Untitled56.ipynb',\n",
       " 'Untitled57.ipynb',\n",
       " 'Untitled58.ipynb',\n",
       " 'Untitled59.ipynb',\n",
       " 'Untitled6.ipynb',\n",
       " 'Untitled60.ipynb',\n",
       " 'Untitled61.ipynb',\n",
       " 'Untitled62.ipynb',\n",
       " 'Untitled63.ipynb',\n",
       " 'Untitled64.ipynb',\n",
       " 'Untitled65.ipynb',\n",
       " 'Untitled66.ipynb',\n",
       " 'Untitled7.ipynb',\n",
       " 'Untitled8.ipynb',\n",
       " 'Untitled9.ipynb',\n",
       " 'Videos',\n",
       " 'WebScraping_Review_Lab (1).ipynb',\n",
       " 'Wholesale customers data-1.csv',\n",
       " 'WineKMC.xlsx',\n",
       " 'wineQualityReds.csv']"
      ]
     },
     "execution_count": 2,
     "metadata": {},
     "output_type": "execute_result"
    }
   ],
   "source": [
    "import os\n",
    "os.listdir()"
   ]
  },
  {
   "cell_type": "markdown",
   "metadata": {
    "ExecuteTime": {
     "end_time": "2019-04-22T14:48:15.929012Z",
     "start_time": "2019-04-22T14:48:15.926574Z"
    },
    "colab_type": "text",
    "id": "AkBt3yds-KYu"
   },
   "source": [
    "## How does Bayesian optimization work?"
   ]
  },
  {
   "cell_type": "markdown",
   "metadata": {
    "colab_type": "text",
    "id": "E1kyBCUs-KYv"
   },
   "source": [
    "Bayesian optimization works by constructing a posterior distribution of functions (Gaussian process) that best describes the function you want to optimize. As the number of observations grows, the posterior distribution improves, and the algorithm becomes more certain of which regions in parameter space are worth exploring and which are not, as seen in the picture below."
   ]
  },
  {
   "cell_type": "markdown",
   "metadata": {
    "colab_type": "text",
    "id": "gAdHF72R-KYw"
   },
   "source": [
    "<img src=\"https://github.com/fmfn/BayesianOptimization/blob/master/examples/bo_example.png?raw=true\" />\n",
    "As you iterate over and over, the algorithm balances its needs of exploration and exploitation while taking into account what it knows about the target function. At each step, a Gaussian Process is fitted to the known samples (points previously explored), and the posterior distribution, combined with an exploration strategy (such as UCB — aka Upper Confidence Bound), or EI (Expected Improvement). This process is used to determine the next point that should be explored (see the gif below).\n",
    "<img src=\"https://github.com/fmfn/BayesianOptimization/raw/master/examples/bayesian_optimization.gif\" />"
   ]
  },
  {
   "cell_type": "markdown",
   "metadata": {
    "colab_type": "text",
    "id": "RTP8KUlLoYzu"
   },
   "source": [
    "## Let's look at a simple example"
   ]
  },
  {
   "cell_type": "markdown",
   "metadata": {
    "colab_type": "text",
    "id": "crpPqKdC-KYx"
   },
   "source": [
    "The first step is to create an optimizer. It uses two items:\n",
    "* function to optimize\n",
    "* bounds of parameters\n",
    "\n",
    "The function is the procedure that counts metrics of our model quality. The important thing is that our optimization will maximize the value on function. Smaller metrics are best. Hint: don't forget to use negative metric values."
   ]
  },
  {
   "cell_type": "markdown",
   "metadata": {
    "colab_type": "text",
    "id": "e09ciF8gpTfr"
   },
   "source": [
    "Here we define our simple function we want to optimize."
   ]
  },
  {
   "cell_type": "code",
   "execution_count": 3,
   "metadata": {
    "colab": {},
    "colab_type": "code",
    "id": "ofwvnfEwo5mG"
   },
   "outputs": [],
   "source": [
    "def simple_func(a, b):\n",
    "    return a + b"
   ]
  },
  {
   "cell_type": "markdown",
   "metadata": {
    "colab_type": "text",
    "id": "XCGsdciCpeI3"
   },
   "source": [
    "Now, we define our bounds of the parameters to optimize, within the Bayesian optimizer."
   ]
  },
  {
   "cell_type": "code",
   "execution_count": 4,
   "metadata": {
    "colab": {},
    "colab_type": "code",
    "id": "4jLYW2qnpOFr"
   },
   "outputs": [],
   "source": [
    "optimizer = BayesianOptimization(\n",
    "    simple_func,\n",
    "    {'a': (1, 3),\n",
    "    'b': (4, 7)})"
   ]
  },
  {
   "cell_type": "markdown",
   "metadata": {
    "colab_type": "text",
    "id": "dg6LdYx8pq2T"
   },
   "source": [
    "These are the main parameters of this function:\n",
    "\n",
    "* **n_iter:** This is how many steps of Bayesian optimization you want to perform. The more steps, the more likely you are to find a good maximum.\n",
    "\n",
    "* **init_points:** This is how many steps of random exploration you want to perform. Random exploration can help by diversifying the exploration space."
   ]
  },
  {
   "cell_type": "markdown",
   "metadata": {
    "colab_type": "text",
    "id": "i-GKMJ1uqMYv"
   },
   "source": [
    "Let's run an example where we use the optimizer to find the best values to maximize the target value for a and b given the inputs of 3 and 2."
   ]
  },
  {
   "cell_type": "code",
   "execution_count": 5,
   "metadata": {
    "colab": {
     "base_uri": "https://localhost:8080/",
     "height": 153
    },
    "colab_type": "code",
    "id": "Oy44Ro7wqNat",
    "outputId": "9cc64d54-b1e6-46d1-dc29-4c0039a1c72d"
   },
   "outputs": [
    {
     "name": "stdout",
     "output_type": "stream",
     "text": [
      "|   iter    |  target   |     a     |     b     |\n",
      "-------------------------------------------------\n",
      "| \u001b[39m1        \u001b[39m | \u001b[39m8.657    \u001b[39m | \u001b[39m2.501    \u001b[39m | \u001b[39m6.156    \u001b[39m |\n",
      "| \u001b[35m2        \u001b[39m | \u001b[35m9.605    \u001b[39m | \u001b[35m2.913    \u001b[39m | \u001b[35m6.693    \u001b[39m |\n",
      "| \u001b[39m3        \u001b[39m | \u001b[39m7.449    \u001b[39m | \u001b[39m2.202    \u001b[39m | \u001b[39m5.247    \u001b[39m |\n",
      "| \u001b[39m4        \u001b[39m | \u001b[39m9.143    \u001b[39m | \u001b[39m2.149    \u001b[39m | \u001b[39m6.995    \u001b[39m |\n",
      "| \u001b[39m5        \u001b[39m | \u001b[39m8.0      \u001b[39m | \u001b[39m1.01     \u001b[39m | \u001b[39m6.99     \u001b[39m |\n",
      "=================================================\n"
     ]
    }
   ],
   "source": [
    "optimizer.maximize(3,2)"
   ]
  },
  {
   "cell_type": "markdown",
   "metadata": {
    "colab_type": "text",
    "id": "tyKFMF2Hq2Sx"
   },
   "source": [
    "Great, now let's print the best parameters and the associated maximized target."
   ]
  },
  {
   "cell_type": "code",
   "execution_count": 6,
   "metadata": {
    "colab": {
     "base_uri": "https://localhost:8080/",
     "height": 51
    },
    "colab_type": "code",
    "id": "_H6DixyfscV_",
    "outputId": "fd0c35d7-e30d-4d30-9ab2-12c0fa837971"
   },
   "outputs": [
    {
     "name": "stdout",
     "output_type": "stream",
     "text": [
      "{'a': 2.9126324843705738, 'b': 6.692573437932751}\n"
     ]
    },
    {
     "data": {
      "text/plain": [
       "9.605205922303325"
      ]
     },
     "execution_count": 6,
     "metadata": {},
     "output_type": "execute_result"
    }
   ],
   "source": [
    "print(optimizer.max['params']);optimizer.max['target']"
   ]
  },
  {
   "cell_type": "markdown",
   "metadata": {
    "colab_type": "text",
    "id": "tQ1T1V6Mspi4"
   },
   "source": [
    "## Test it on real data using the Light GBM"
   ]
  },
  {
   "cell_type": "markdown",
   "metadata": {
    "colab_type": "text",
    "id": "y_oGwREZkm4h"
   },
   "source": [
    "The dataset we will be working with is the famous flight departures dataset. Our modeling goal will be to predict if a flight departure is going to be delayed by 15 minutes based on the other attributes in our dataset. As part of this modeling exercise, we will use Bayesian hyperparameter optimization to identify the best parameters for our model."
   ]
  },
  {
   "cell_type": "markdown",
   "metadata": {
    "colab_type": "text",
    "id": "abYSagjQANDZ"
   },
   "source": [
    "**<font color='teal'> You can load the zipped csv files just as you would regular csv files using Pandas read_csv. In the next cell load the train and test data into two seperate dataframes. </font>**\n"
   ]
  },
  {
   "cell_type": "code",
   "execution_count": 7,
   "metadata": {
    "colab": {},
    "colab_type": "code",
    "id": "EWKBApVuAeJe"
   },
   "outputs": [],
   "source": [
    "train_df = pd.read_csv('flight_delays_train.csv')\n",
    "test_df = pd.read_csv('flight_delays_test.csv')"
   ]
  },
  {
   "cell_type": "markdown",
   "metadata": {
    "colab_type": "text",
    "id": "OapNcT9Eikis"
   },
   "source": [
    "**<font color='teal'> Print the top five rows of the train dataframe and review the columns in the data. </font>**"
   ]
  },
  {
   "cell_type": "code",
   "execution_count": 8,
   "metadata": {
    "colab": {
     "base_uri": "https://localhost:8080/",
     "height": 204
    },
    "colab_type": "code",
    "id": "__4cXZ8iiYaC",
    "outputId": "8718ad4b-8955-486c-9ae8-1dee6aa6c2fb"
   },
   "outputs": [
    {
     "data": {
      "text/html": [
       "<div>\n",
       "<style scoped>\n",
       "    .dataframe tbody tr th:only-of-type {\n",
       "        vertical-align: middle;\n",
       "    }\n",
       "\n",
       "    .dataframe tbody tr th {\n",
       "        vertical-align: top;\n",
       "    }\n",
       "\n",
       "    .dataframe thead th {\n",
       "        text-align: right;\n",
       "    }\n",
       "</style>\n",
       "<table border=\"1\" class=\"dataframe\">\n",
       "  <thead>\n",
       "    <tr style=\"text-align: right;\">\n",
       "      <th></th>\n",
       "      <th>Month</th>\n",
       "      <th>DayofMonth</th>\n",
       "      <th>DayOfWeek</th>\n",
       "      <th>DepTime</th>\n",
       "      <th>UniqueCarrier</th>\n",
       "      <th>Origin</th>\n",
       "      <th>Dest</th>\n",
       "      <th>Distance</th>\n",
       "      <th>dep_delayed_15min</th>\n",
       "    </tr>\n",
       "  </thead>\n",
       "  <tbody>\n",
       "    <tr>\n",
       "      <th>0</th>\n",
       "      <td>c-8</td>\n",
       "      <td>c-21</td>\n",
       "      <td>c-7</td>\n",
       "      <td>1934</td>\n",
       "      <td>AA</td>\n",
       "      <td>ATL</td>\n",
       "      <td>DFW</td>\n",
       "      <td>732</td>\n",
       "      <td>N</td>\n",
       "    </tr>\n",
       "    <tr>\n",
       "      <th>1</th>\n",
       "      <td>c-4</td>\n",
       "      <td>c-20</td>\n",
       "      <td>c-3</td>\n",
       "      <td>1548</td>\n",
       "      <td>US</td>\n",
       "      <td>PIT</td>\n",
       "      <td>MCO</td>\n",
       "      <td>834</td>\n",
       "      <td>N</td>\n",
       "    </tr>\n",
       "    <tr>\n",
       "      <th>2</th>\n",
       "      <td>c-9</td>\n",
       "      <td>c-2</td>\n",
       "      <td>c-5</td>\n",
       "      <td>1422</td>\n",
       "      <td>XE</td>\n",
       "      <td>RDU</td>\n",
       "      <td>CLE</td>\n",
       "      <td>416</td>\n",
       "      <td>N</td>\n",
       "    </tr>\n",
       "    <tr>\n",
       "      <th>3</th>\n",
       "      <td>c-11</td>\n",
       "      <td>c-25</td>\n",
       "      <td>c-6</td>\n",
       "      <td>1015</td>\n",
       "      <td>OO</td>\n",
       "      <td>DEN</td>\n",
       "      <td>MEM</td>\n",
       "      <td>872</td>\n",
       "      <td>N</td>\n",
       "    </tr>\n",
       "    <tr>\n",
       "      <th>4</th>\n",
       "      <td>c-10</td>\n",
       "      <td>c-7</td>\n",
       "      <td>c-6</td>\n",
       "      <td>1828</td>\n",
       "      <td>WN</td>\n",
       "      <td>MDW</td>\n",
       "      <td>OMA</td>\n",
       "      <td>423</td>\n",
       "      <td>Y</td>\n",
       "    </tr>\n",
       "  </tbody>\n",
       "</table>\n",
       "</div>"
      ],
      "text/plain": [
       "  Month DayofMonth DayOfWeek  DepTime UniqueCarrier Origin Dest  Distance  \\\n",
       "0   c-8       c-21       c-7     1934            AA    ATL  DFW       732   \n",
       "1   c-4       c-20       c-3     1548            US    PIT  MCO       834   \n",
       "2   c-9        c-2       c-5     1422            XE    RDU  CLE       416   \n",
       "3  c-11       c-25       c-6     1015            OO    DEN  MEM       872   \n",
       "4  c-10        c-7       c-6     1828            WN    MDW  OMA       423   \n",
       "\n",
       "  dep_delayed_15min  \n",
       "0                 N  \n",
       "1                 N  \n",
       "2                 N  \n",
       "3                 N  \n",
       "4                 Y  "
      ]
     },
     "execution_count": 8,
     "metadata": {},
     "output_type": "execute_result"
    }
   ],
   "source": [
    "train_df.head()"
   ]
  },
  {
   "cell_type": "markdown",
   "metadata": {
    "colab_type": "text",
    "id": "UxGBsPQhffgd"
   },
   "source": [
    "**<font color='teal'> Use the describe function to review the numeric columns in the train dataframe. </font>**"
   ]
  },
  {
   "cell_type": "code",
   "execution_count": 9,
   "metadata": {
    "colab": {
     "base_uri": "https://localhost:8080/",
     "height": 297
    },
    "colab_type": "code",
    "id": "_bRRKG3DAtae",
    "outputId": "7cfb9975-ec97-422c-abbd-98923a0b7aec"
   },
   "outputs": [
    {
     "data": {
      "text/html": [
       "<div>\n",
       "<style scoped>\n",
       "    .dataframe tbody tr th:only-of-type {\n",
       "        vertical-align: middle;\n",
       "    }\n",
       "\n",
       "    .dataframe tbody tr th {\n",
       "        vertical-align: top;\n",
       "    }\n",
       "\n",
       "    .dataframe thead th {\n",
       "        text-align: right;\n",
       "    }\n",
       "</style>\n",
       "<table border=\"1\" class=\"dataframe\">\n",
       "  <thead>\n",
       "    <tr style=\"text-align: right;\">\n",
       "      <th></th>\n",
       "      <th>DepTime</th>\n",
       "      <th>Distance</th>\n",
       "    </tr>\n",
       "  </thead>\n",
       "  <tbody>\n",
       "    <tr>\n",
       "      <th>count</th>\n",
       "      <td>100000.000000</td>\n",
       "      <td>100000.00000</td>\n",
       "    </tr>\n",
       "    <tr>\n",
       "      <th>mean</th>\n",
       "      <td>1341.523880</td>\n",
       "      <td>729.39716</td>\n",
       "    </tr>\n",
       "    <tr>\n",
       "      <th>std</th>\n",
       "      <td>476.378445</td>\n",
       "      <td>574.61686</td>\n",
       "    </tr>\n",
       "    <tr>\n",
       "      <th>min</th>\n",
       "      <td>1.000000</td>\n",
       "      <td>30.00000</td>\n",
       "    </tr>\n",
       "    <tr>\n",
       "      <th>25%</th>\n",
       "      <td>931.000000</td>\n",
       "      <td>317.00000</td>\n",
       "    </tr>\n",
       "    <tr>\n",
       "      <th>50%</th>\n",
       "      <td>1330.000000</td>\n",
       "      <td>575.00000</td>\n",
       "    </tr>\n",
       "    <tr>\n",
       "      <th>75%</th>\n",
       "      <td>1733.000000</td>\n",
       "      <td>957.00000</td>\n",
       "    </tr>\n",
       "    <tr>\n",
       "      <th>max</th>\n",
       "      <td>2534.000000</td>\n",
       "      <td>4962.00000</td>\n",
       "    </tr>\n",
       "  </tbody>\n",
       "</table>\n",
       "</div>"
      ],
      "text/plain": [
       "             DepTime      Distance\n",
       "count  100000.000000  100000.00000\n",
       "mean     1341.523880     729.39716\n",
       "std       476.378445     574.61686\n",
       "min         1.000000      30.00000\n",
       "25%       931.000000     317.00000\n",
       "50%      1330.000000     575.00000\n",
       "75%      1733.000000     957.00000\n",
       "max      2534.000000    4962.00000"
      ]
     },
     "execution_count": 9,
     "metadata": {},
     "output_type": "execute_result"
    }
   ],
   "source": [
    "train_df.describe()"
   ]
  },
  {
   "cell_type": "markdown",
   "metadata": {
    "colab_type": "text",
    "id": "i6k-_fI5Aiyh"
   },
   "source": [
    "Notice, `DepTime` is the departure time in a numeric representation in 2400 hours. "
   ]
  },
  {
   "cell_type": "markdown",
   "metadata": {
    "colab_type": "text",
    "id": "gtZS4-hrlQah"
   },
   "source": [
    " **<font color='teal'>The response variable is 'dep_delayed_15min' which is a categorical column, so we need to map the Y for yes and N for no values to 1 and 0. Run the code in the next cell to do this.</font>**"
   ]
  },
  {
   "cell_type": "code",
   "execution_count": 10,
   "metadata": {
    "ExecuteTime": {
     "end_time": "2019-04-22T15:38:42.677690Z",
     "start_time": "2019-04-22T15:38:42.481963Z"
    },
    "colab": {},
    "colab_type": "code",
    "id": "yRlOTbnW-KYc"
   },
   "outputs": [],
   "source": [
    "#train_df = train_df[train_df.DepTime <= 2400].copy()\n",
    "y_train = train_df['dep_delayed_15min'].map({'Y': 1, 'N': 0}).values"
   ]
  },
  {
   "cell_type": "markdown",
   "metadata": {
    "colab_type": "text",
    "id": "z3WPkFQO9uo9"
   },
   "source": [
    "## Feature Engineering\n",
    "Use these defined functions to create additional features for the model. Run the cell to add the functions to your workspace."
   ]
  },
  {
   "cell_type": "code",
   "execution_count": 11,
   "metadata": {
    "colab": {},
    "colab_type": "code",
    "id": "cXqsqz5W9t3r"
   },
   "outputs": [],
   "source": [
    "def label_enc(df_column):\n",
    "    df_column = LabelEncoder().fit_transform(df_column)\n",
    "    return df_column\n",
    "\n",
    "def make_harmonic_features_sin(value, period=2400):\n",
    "    value *= 2 * np.pi / period \n",
    "    return np.sin(value)\n",
    "\n",
    "def make_harmonic_features_cos(value, period=2400):\n",
    "    value *= 2 * np.pi / period \n",
    "    return np.cos(value)\n",
    "\n",
    "def feature_eng(df):\n",
    "    df['flight'] = df['Origin']+df['Dest']\n",
    "    df['Month'] = df.Month.map(lambda x: x.split('-')[-1]).astype('int32')\n",
    "    df['DayofMonth'] = df.DayofMonth.map(lambda x: x.split('-')[-1]).astype('uint8')\n",
    "    df['begin_of_month'] = (df['DayofMonth'] < 10).astype('uint8')\n",
    "    df['midddle_of_month'] = ((df['DayofMonth'] >= 10)&(df['DayofMonth'] < 20)).astype('uint8')\n",
    "    df['end_of_month'] = (df['DayofMonth'] >= 20).astype('uint8')\n",
    "    df['DayOfWeek'] = df.DayOfWeek.map(lambda x: x.split('-')[-1]).astype('uint8')\n",
    "    df['hour'] = df.DepTime.map(lambda x: x/100).astype('int32')\n",
    "    df['morning'] = df['hour'].map(lambda x: 1 if (x <= 11)& (x >= 7) else 0).astype('uint8')\n",
    "    df['day'] = df['hour'].map(lambda x: 1 if (x >= 12) & (x <= 18) else 0).astype('uint8')\n",
    "    df['evening'] = df['hour'].map(lambda x: 1 if (x >= 19) & (x <= 23) else 0).astype('uint8')\n",
    "    df['night'] = df['hour'].map(lambda x: 1 if (x >= 0) & (x <= 6) else 0).astype('int32')\n",
    "    df['winter'] = df['Month'].map(lambda x: x in [12, 1, 2]).astype('int32')\n",
    "    df['spring'] = df['Month'].map(lambda x: x in [3, 4, 5]).astype('int32')\n",
    "    df['summer'] = df['Month'].map(lambda x: x in [6, 7, 8]).astype('int32')\n",
    "    df['autumn'] = df['Month'].map(lambda x: x in [9, 10, 11]).astype('int32')\n",
    "    df['holiday'] = (df['DayOfWeek'] >= 5).astype(int) \n",
    "    df['weekday'] = (df['DayOfWeek'] < 5).astype(int)\n",
    "    df['airport_dest_per_month'] = df.groupby(['Dest', 'Month'])['Dest'].transform('count')\n",
    "    df['airport_origin_per_month'] = df.groupby(['Origin', 'Month'])['Origin'].transform('count')\n",
    "    df['airport_dest_count'] = df.groupby(['Dest'])['Dest'].transform('count')\n",
    "    df['airport_origin_count'] = df.groupby(['Origin'])['Origin'].transform('count')\n",
    "    df['carrier_count'] = df.groupby(['UniqueCarrier'])['Dest'].transform('count')\n",
    "    df['carrier_count_per month'] = df.groupby(['UniqueCarrier', 'Month'])['Dest'].transform('count')\n",
    "    df['deptime_cos'] = df['DepTime'].map(make_harmonic_features_cos)\n",
    "    df['deptime_sin'] = df['DepTime'].map(make_harmonic_features_sin)\n",
    "    df['flightUC'] = df['flight']+df['UniqueCarrier']\n",
    "    df['DestUC'] = df['Dest']+df['UniqueCarrier']\n",
    "    df['OriginUC'] = df['Origin']+df['UniqueCarrier']\n",
    "    return df.drop('DepTime', axis=1)"
   ]
  },
  {
   "cell_type": "markdown",
   "metadata": {
    "colab_type": "text",
    "id": "-BYbxXpU-FGE"
   },
   "source": [
    "Concatenate the training and testing dataframes.\n"
   ]
  },
  {
   "cell_type": "code",
   "execution_count": 12,
   "metadata": {
    "colab": {},
    "colab_type": "code",
    "id": "Cj6bfSNw_RAf"
   },
   "outputs": [],
   "source": [
    "full_df = pd.concat([train_df.drop('dep_delayed_15min', axis=1), test_df])\n",
    "full_df = feature_eng(full_df)"
   ]
  },
  {
   "cell_type": "markdown",
   "metadata": {
    "colab_type": "text",
    "id": "GSO8JbfM_W-F"
   },
   "source": [
    "Apply the earlier defined feature engineering functions to the full dataframe."
   ]
  },
  {
   "cell_type": "code",
   "execution_count": 13,
   "metadata": {
    "colab": {},
    "colab_type": "code",
    "id": "x6RfAINftjwi"
   },
   "outputs": [],
   "source": [
    "for column in ['UniqueCarrier', 'Origin', 'Dest','flight',  'flightUC', 'DestUC', 'OriginUC']:\n",
    "    full_df[column] = label_enc(full_df[column])"
   ]
  },
  {
   "cell_type": "markdown",
   "metadata": {
    "colab_type": "text",
    "id": "IJAw1RGB_ZuM"
   },
   "source": [
    "\n",
    "Split the new full dataframe into X_train and X_test. "
   ]
  },
  {
   "cell_type": "code",
   "execution_count": 14,
   "metadata": {
    "colab": {},
    "colab_type": "code",
    "id": "15cPtQU5tjfz"
   },
   "outputs": [],
   "source": [
    "X_train = full_df[:train_df.shape[0]]\n",
    "X_test = full_df[train_df.shape[0]:]"
   ]
  },
  {
   "cell_type": "markdown",
   "metadata": {
    "colab_type": "text",
    "id": "umfAw-9JErLV"
   },
   "source": [
    "Create a list of the categorical features."
   ]
  },
  {
   "cell_type": "code",
   "execution_count": 15,
   "metadata": {
    "ExecuteTime": {
     "end_time": "2019-04-22T14:31:58.412296Z",
     "start_time": "2019-04-22T14:31:58.409088Z"
    },
    "colab": {},
    "colab_type": "code",
    "id": "5ibeVyNb-KZI"
   },
   "outputs": [],
   "source": [
    "categorical_features = ['Month',  'DayOfWeek', 'UniqueCarrier', 'Origin', 'Dest','flight',  'flightUC', 'DestUC', 'OriginUC']"
   ]
  },
  {
   "cell_type": "markdown",
   "metadata": {
    "colab_type": "text",
    "id": "NzMIsMPIETVk"
   },
   "source": [
    "Let's build a light GBM model to test the bayesian optimizer."
   ]
  },
  {
   "cell_type": "markdown",
   "metadata": {
    "ExecuteTime": {
     "end_time": "2019-04-22T15:18:04.466965Z",
     "start_time": "2019-04-22T15:18:04.457992Z"
    },
    "colab_type": "text",
    "id": "2hfm1i5G-KZH"
   },
   "source": [
    "### [LightGBM](https://lightgbm.readthedocs.io/en/latest/) is a gradient boosting framework that uses tree-based learning algorithms. It is designed to be distributed and efficient with the following advantages:\n",
    "\n",
    "* Faster training speed and higher efficiency.\n",
    "* Lower memory usage.\n",
    "* Better accuracy.\n",
    "* Support of parallel and GPU learning.\n",
    "* Capable of handling large-scale data."
   ]
  },
  {
   "cell_type": "markdown",
   "metadata": {
    "colab_type": "text",
    "id": "jf-3F2Wg-KZL"
   },
   "source": [
    "First, we define the function we want to maximize and that will count cross-validation metrics of lightGBM for our parameters.\n",
    "\n",
    "Some params such as num_leaves, max_depth, min_child_samples, min_data_in_leaf should be integers."
   ]
  },
  {
   "cell_type": "code",
   "execution_count": 16,
   "metadata": {
    "ExecuteTime": {
     "end_time": "2019-04-22T15:40:14.034265Z",
     "start_time": "2019-04-22T15:40:14.027868Z"
    },
    "colab": {},
    "colab_type": "code",
    "id": "LyUJBhGX-KZM"
   },
   "outputs": [],
   "source": [
    "def lgb_eval(num_leaves,max_depth,lambda_l2,lambda_l1,min_child_samples, min_data_in_leaf):\n",
    "    params = {\n",
    "        \"objective\" : \"binary\",\n",
    "        \"metric\" : \"auc\", \n",
    "        'is_unbalance': True,\n",
    "        \"num_leaves\" : int(num_leaves),\n",
    "        \"max_depth\" : int(max_depth),\n",
    "        \"lambda_l2\" : lambda_l2,\n",
    "        \"lambda_l1\" : lambda_l1,\n",
    "        \"num_threads\" : 20,\n",
    "        \"min_child_samples\" : int(min_child_samples),\n",
    "        'min_data_in_leaf': int(min_data_in_leaf),\n",
    "        \"learning_rate\" : 0.03,\n",
    "        \"subsample_freq\" : 5,\n",
    "        \"bagging_seed\" : 42,\n",
    "        \"verbosity\" : -1\n",
    "    }\n",
    "    lgtrain = lightgbm.Dataset(X_train, y_train,categorical_feature=categorical_features)\n",
    "    cv_result = lightgbm.cv(params,\n",
    "                       lgtrain,\n",
    "                       1000,\n",
    "                       stratified=True,\n",
    "                       nfold=3)\n",
    "    return cv_result['valid auc-mean'][-1]"
   ]
  },
  {
   "cell_type": "markdown",
   "metadata": {
    "colab_type": "text",
    "id": "FJwqBhdeF11Q"
   },
   "source": [
    "Apply the Bayesian optimizer to the function we created in the previous step to identify the best hyperparameters. We will run 5 iterations and set init_points = 2.\n"
   ]
  },
  {
   "cell_type": "code",
   "execution_count": 17,
   "metadata": {
    "ExecuteTime": {
     "end_time": "2019-04-22T15:48:04.682447Z",
     "start_time": "2019-04-22T15:40:14.641634Z"
    },
    "colab": {
     "base_uri": "https://localhost:8080/",
     "height": 51
    },
    "colab_type": "code",
    "id": "JheCOkUE-KZP",
    "outputId": "8f37ee51-885d-44e4-cdcd-ceb7abd58b61"
   },
   "outputs": [
    {
     "name": "stdout",
     "output_type": "stream",
     "text": [
      "|   iter    |  target   | lambda_l1 | lambda_l2 | max_depth | min_ch... | min_da... | num_le... |\n",
      "-------------------------------------------------------------------------------------------------\n",
      "| \u001b[39m1        \u001b[39m | \u001b[39m0.7075   \u001b[39m | \u001b[39m0.03418  \u001b[39m | \u001b[39m0.01699  \u001b[39m | \u001b[39m36.42    \u001b[39m | \u001b[39m2.368e+03\u001b[39m | \u001b[39m207.0    \u001b[39m | \u001b[39m3.397e+03\u001b[39m |\n",
      "| \u001b[35m2        \u001b[39m | \u001b[35m0.7375   \u001b[39m | \u001b[35m0.03757  \u001b[39m | \u001b[35m0.01914  \u001b[39m | \u001b[35m30.23    \u001b[39m | \u001b[35m7.22e+03 \u001b[39m | \u001b[35m1.125e+03\u001b[39m | \u001b[35m3.397e+03\u001b[39m |\n",
      "| \u001b[35m3        \u001b[39m | \u001b[35m0.743    \u001b[39m | \u001b[35m0.03985  \u001b[39m | \u001b[35m0.04757  \u001b[39m | \u001b[35m12.36    \u001b[39m | \u001b[35m5.943e+03\u001b[39m | \u001b[35m1.269e+03\u001b[39m | \u001b[35m3.468e+03\u001b[39m |\n",
      "| \u001b[35m4        \u001b[39m | \u001b[35m0.7436   \u001b[39m | \u001b[35m0.01658  \u001b[39m | \u001b[35m0.009558 \u001b[39m | \u001b[35m24.96    \u001b[39m | \u001b[35m6.175e+03\u001b[39m | \u001b[35m1.945e+03\u001b[39m | \u001b[35m1.248e+03\u001b[39m |\n",
      "| \u001b[39m5        \u001b[39m | \u001b[39m0.7049   \u001b[39m | \u001b[39m0.02573  \u001b[39m | \u001b[39m0.04262  \u001b[39m | \u001b[39m7.98     \u001b[39m | \u001b[39m6.173e+03\u001b[39m | \u001b[39m448.9    \u001b[39m | \u001b[39m3.296e+03\u001b[39m |\n",
      "| \u001b[39m6        \u001b[39m | \u001b[39m0.7436   \u001b[39m | \u001b[39m0.02052  \u001b[39m | \u001b[39m0.01465  \u001b[39m | \u001b[39m8.354    \u001b[39m | \u001b[39m5.296e+03\u001b[39m | \u001b[39m1.516e+03\u001b[39m | \u001b[39m3.342e+03\u001b[39m |\n",
      "| \u001b[39m7        \u001b[39m | \u001b[39m0.7433   \u001b[39m | \u001b[39m0.002129 \u001b[39m | \u001b[39m0.01192  \u001b[39m | \u001b[39m36.96    \u001b[39m | \u001b[39m8.811e+03\u001b[39m | \u001b[39m1.637e+03\u001b[39m | \u001b[39m1.807e+03\u001b[39m |\n",
      "=================================================================================================\n"
     ]
    }
   ],
   "source": [
    "lgbBO = BayesianOptimization(lgb_eval, {'num_leaves': (25, 4000),\n",
    "                                                'max_depth': (5, 63),\n",
    "                                                'lambda_l2': (0.0, 0.05),\n",
    "                                                'lambda_l1': (0.0, 0.05),\n",
    "                                                'min_child_samples': (50, 10000),\n",
    "                                                'min_data_in_leaf': (100, 2000)\n",
    "                                                })\n",
    "\n",
    "lgbBO.maximize(n_iter=5, init_points=2)"
   ]
  },
  {
   "cell_type": "markdown",
   "metadata": {
    "colab_type": "text",
    "id": "rdkxhhST-KZS"
   },
   "source": [
    " **<font color='teal'> Print the best result by using the '.max' function.</font>**"
   ]
  },
  {
   "cell_type": "code",
   "execution_count": 18,
   "metadata": {
    "ExecuteTime": {
     "end_time": "2019-04-22T15:49:01.513767Z",
     "start_time": "2019-04-22T15:49:01.509392Z"
    },
    "colab": {},
    "colab_type": "code",
    "id": "oc8z6mfy-KZS"
   },
   "outputs": [
    {
     "data": {
      "text/plain": [
       "{'target': 0.7435982678082126,\n",
       " 'params': {'lambda_l1': 0.01658420121009833,\n",
       "  'lambda_l2': 0.009558377891662279,\n",
       "  'max_depth': 24.9625106152766,\n",
       "  'min_child_samples': 6175.451680249794,\n",
       "  'min_data_in_leaf': 1944.5159339210616,\n",
       "  'num_leaves': 1248.341759777642}}"
      ]
     },
     "execution_count": 18,
     "metadata": {},
     "output_type": "execute_result"
    }
   ],
   "source": [
    "lgbBO.max"
   ]
  },
  {
   "cell_type": "markdown",
   "metadata": {
    "ExecuteTime": {
     "end_time": "2019-04-22T15:50:29.049881Z",
     "start_time": "2019-04-22T15:50:29.045908Z"
    },
    "colab_type": "text",
    "id": "J5LAydKC-KZW"
   },
   "source": [
    "Review the process at each step by using the '.res[0]' function."
   ]
  },
  {
   "cell_type": "code",
   "execution_count": 21,
   "metadata": {
    "ExecuteTime": {
     "end_time": "2019-04-22T15:51:01.001688Z",
     "start_time": "2019-04-22T15:51:00.997484Z"
    },
    "colab": {},
    "colab_type": "code",
    "id": "X1ttZmrI-KZX"
   },
   "outputs": [
    {
     "data": {
      "text/plain": [
       "{'target': 0.7075078436084281,\n",
       " 'params': {'lambda_l1': 0.034176773546314855,\n",
       "  'lambda_l2': 0.01699225450150445,\n",
       "  'max_depth': 36.424521016387075,\n",
       "  'min_child_samples': 2368.2853376226803,\n",
       "  'min_data_in_leaf': 206.98618777640735,\n",
       "  'num_leaves': 3397.1732144010803}}"
      ]
     },
     "execution_count": 21,
     "metadata": {},
     "output_type": "execute_result"
    }
   ],
   "source": [
    "lgbBO.res[0]"
   ]
  },
  {
   "cell_type": "code",
   "execution_count": null,
   "metadata": {},
   "outputs": [],
   "source": []
  },
  {
   "cell_type": "code",
   "execution_count": null,
   "metadata": {},
   "outputs": [],
   "source": []
  }
 ],
 "metadata": {
  "colab": {
   "name": "Bayesian_optimization_exercise.ipynb",
   "provenance": []
  },
  "deepnote_execution_queue": [],
  "kernelspec": {
   "display_name": "Python 3 (ipykernel)",
   "language": "python",
   "name": "python3"
  },
  "language_info": {
   "codemirror_mode": {
    "name": "ipython",
    "version": 3
   },
   "file_extension": ".py",
   "mimetype": "text/x-python",
   "name": "python",
   "nbconvert_exporter": "python",
   "pygments_lexer": "ipython3",
   "version": "3.12.7"
  },
  "varInspector": {
   "cols": {
    "lenName": 16,
    "lenType": 16,
    "lenVar": 40
   },
   "kernels_config": {
    "python": {
     "delete_cmd_postfix": "",
     "delete_cmd_prefix": "del ",
     "library": "var_list.py",
     "varRefreshCmd": "print(var_dic_list())"
    },
    "r": {
     "delete_cmd_postfix": ") ",
     "delete_cmd_prefix": "rm(",
     "library": "var_list.r",
     "varRefreshCmd": "cat(var_dic_list()) "
    }
   },
   "types_to_exclude": [
    "module",
    "function",
    "builtin_function_or_method",
    "instance",
    "_Feature"
   ],
   "window_display": false
  }
 },
 "nbformat": 4,
 "nbformat_minor": 4
}
