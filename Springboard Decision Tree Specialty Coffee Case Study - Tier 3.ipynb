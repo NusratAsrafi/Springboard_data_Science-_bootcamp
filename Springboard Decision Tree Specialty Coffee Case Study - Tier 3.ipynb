{
 "cells": [
  {
   "cell_type": "markdown",
   "metadata": {
    "colab_type": "text",
    "id": "Jm0w3zN4DuVK"
   },
   "source": [
    "# **Springboard Decision Tree Specialty Coffee Case Study - Tier 3**\n",
    "\n",
    "\n"
   ]
  },
  {
   "cell_type": "markdown",
   "metadata": {
    "colab_type": "text",
    "id": "BhqpAY7GDuVN"
   },
   "source": [
    "# The Scenario\n",
    "\n",
    "Imagine you've just finished the Springboard Data Science Career Track course, and have been hired by a rising popular specialty coffee company - RR Diner Coffee - as a data scientist. Congratulations!\n",
    "\n",
    "RR Diner Coffee sells two types of thing:\n",
    "- specialty coffee beans, in bulk (by the kilogram only) \n",
    "- coffee equipment and merchandise (grinders, brewing equipment, mugs, books, t-shirts).\n",
    "\n",
    "RR Diner Coffee has three stores, two in Europe and one in the USA. The flagshap store is in the USA, and everything is quality assessed there, before being shipped out. Customers further away from the USA flagship store have higher shipping charges. \n",
    "\n",
    "You've been taken on at RR Diner Coffee because the company are turning towards using data science and machine learning to systematically make decisions about which coffee farmers they should strike deals with. \n",
    "\n",
    "RR Diner Coffee typically buys coffee from farmers, processes it on site, brings it back to the USA, roasts it, packages it, markets it, and ships it (only in bulk, and after quality assurance) to customers internationally. These customers all own coffee shops in major cities like New York, Paris, London, Hong Kong, Tokyo, and Berlin. \n",
    "\n",
    "Now, RR Diner Coffee has a decision about whether to strike a deal with a legendary coffee farm (known as the **Hidden Farm**) in rural China: there are rumours their coffee tastes of lychee and dark chocolate, while also being as sweet as apple juice. \n",
    "\n",
    "It's a risky decision, as the deal will be expensive, and the coffee might not be bought by customers. The stakes are high: times are tough, stocks are low, farmers are reverting to old deals with the larger enterprises and the publicity of selling *Hidden Farm* coffee could save the RR Diner Coffee business. \n",
    "\n",
    "Your first job, then, is ***to build a decision tree to predict how many units of the Hidden Farm Chinese coffee will be purchased by RR Diner Coffee's most loyal customers.*** \n",
    "\n",
    "To this end, you and your team have conducted a survey of 710 of the most loyal RR Diner Coffee customers, collecting data on the customers':\n",
    "- age\n",
    "- gender \n",
    "- salary \n",
    "- whether they have bought at least one RR Diner Coffee product online\n",
    "- their distance from the flagship store in the USA (standardized to a number between 0 and 11) \n",
    "- how much they spent on RR Diner Coffee products on the week of the survey \n",
    "- how much they spent on RR Diner Coffee products in the month preeding the survey\n",
    "- the number of RR Diner coffee bean shipments each customer has ordered over the preceding year. \n",
    "\n",
    "You also asked each customer participating in the survey whether they would buy the Hidden Farm coffee, and some (but not all) of the customers gave responses to that question. \n",
    "\n",
    "You sit back and think: if more than 70% of the interviewed customers are likely to buy the Hidden Farm coffee, you will strike the deal with the local Hidden Farm farmers and sell the coffee. Otherwise, you won't strike the deal and the Hidden Farm coffee will remain in legends only. There's some doubt in your mind about whether 70% is a reasonable threshold, but it'll do for the moment. \n",
    "\n",
    "To solve the problem, then, you will build a decision tree to implement a classification solution. \n",
    "\n",
    "\n",
    "-------------------------------\n",
    "As ever, this notebook is **tiered**, meaning you can elect that tier that is right for your confidence and skill level. There are 3 tiers, with tier 1 being the easiest and tier 3 being the hardest. This is ***tier 3***, so it will be challenging. \n",
    "\n",
    "**1. Sourcing and loading** \n",
    "- Import packages\n",
    "- Load data\n",
    "- Explore the data\n",
    "\n",
    " \n",
    "**2. Cleaning, transforming and visualizing**\n",
    "- Cleaning the data\n",
    "- Train/test split\n",
    "  \n",
    "  \n",
    "**3. Modelling** \n",
    "- Model 1: Entropy model - no max_depth\n",
    "- Model 2: Gini impurity model - no max_depth\n",
    "- Model 3: Entropy model - max depth 3\n",
    "- Model 4: Gini impurity model - max depth 3\n",
    "\n",
    "\n",
    "**4. Evaluating and concluding** \n",
    "- How many customers will buy Hidden Farm coffee?\n",
    "- Decision\n",
    "\n",
    "**5. Random Forest** \n",
    "- Import necessary modules\n",
    "- Model\n",
    "- Revise conclusion\n",
    "    "
   ]
  },
  {
   "cell_type": "markdown",
   "metadata": {
    "colab_type": "text",
    "id": "nciXGXtCDuVO"
   },
   "source": [
    "# 0. Overview\n",
    "\n",
    "This notebook uses decision trees to determine whether the factors of salary, gender, age, how much money the customer spent last week and during the preceding month on RR Diner Coffee products, how many kilogram coffee bags the customer bought over the last year, whether they have bought at least one RR Diner Coffee product online, and their distance from the flagship store in the USA, could predict whether customers would purchase the Hidden Farm coffee if a deal with its farmers were struck. "
   ]
  },
  {
   "cell_type": "markdown",
   "metadata": {
    "colab_type": "text",
    "id": "5fSgD2h9DuVP"
   },
   "source": [
    "# 1. Sourcing and loading\n",
    "## 1a. Import Packages"
   ]
  },
  {
   "cell_type": "code",
   "execution_count": 1,
   "metadata": {
    "colab": {},
    "colab_type": "code",
    "id": "CfGkTcLvDuVQ"
   },
   "outputs": [],
   "source": [
    "import pandas as pd\n",
    "import numpy as np\n",
    "from sklearn import tree, metrics\n",
    "from sklearn.model_selection import train_test_split\n",
    "import seaborn as sns\n",
    "import matplotlib.pyplot as plt\n",
    "from io import StringIO  \n",
    "from IPython.display import Image  \n",
    "import pydotplus"
   ]
  },
  {
   "cell_type": "markdown",
   "metadata": {
    "colab_type": "text",
    "id": "ZLgxyhNrDuVT"
   },
   "source": [
    "## 1b. Load data "
   ]
  },
  {
   "cell_type": "code",
   "execution_count": 2,
   "metadata": {
    "colab": {},
    "colab_type": "code",
    "id": "chW2ozlnDuVU"
   },
   "outputs": [],
   "source": [
    "# Read in the data to a variable called coffeeData\n",
    "coffeeData=pd.read_csv('RRDinerCoffeeData.csv')"
   ]
  },
  {
   "cell_type": "markdown",
   "metadata": {
    "colab_type": "text",
    "id": "qnMVYf2NDuVW"
   },
   "source": [
    "## 1c. Explore the data"
   ]
  },
  {
   "cell_type": "markdown",
   "metadata": {
    "colab_type": "text",
    "id": "U5Qm4obyDuVX"
   },
   "source": [
    "As we've seen, exploration entails doing things like checking out the **initial appearance** of the data with head(), the **dimensions** of our data with .shape, the **data types** of the variables with .info(), the **number of non-null values**, how much **memory** is being used to store the data, and finally the major summary statistcs capturing **central tendancy, dispersion and the null-excluding shape of the dataset's distribution**. \n",
    "\n",
    "How much of this can you do yourself by this point in the course? Have a real go. "
   ]
  },
  {
   "cell_type": "code",
   "execution_count": 3,
   "metadata": {
    "colab": {},
    "colab_type": "code",
    "id": "cHEKFT4SDuVY"
   },
   "outputs": [
    {
     "data": {
      "text/html": [
       "<div>\n",
       "<style scoped>\n",
       "    .dataframe tbody tr th:only-of-type {\n",
       "        vertical-align: middle;\n",
       "    }\n",
       "\n",
       "    .dataframe tbody tr th {\n",
       "        vertical-align: top;\n",
       "    }\n",
       "\n",
       "    .dataframe thead th {\n",
       "        text-align: right;\n",
       "    }\n",
       "</style>\n",
       "<table border=\"1\" class=\"dataframe\">\n",
       "  <thead>\n",
       "    <tr style=\"text-align: right;\">\n",
       "      <th></th>\n",
       "      <th>Age</th>\n",
       "      <th>Gender</th>\n",
       "      <th>num_coffeeBags_per_year</th>\n",
       "      <th>spent_week</th>\n",
       "      <th>spent_month</th>\n",
       "      <th>SlrAY</th>\n",
       "      <th>Distance</th>\n",
       "      <th>Online</th>\n",
       "      <th>Decision</th>\n",
       "    </tr>\n",
       "  </thead>\n",
       "  <tbody>\n",
       "    <tr>\n",
       "      <th>0</th>\n",
       "      <td>36</td>\n",
       "      <td>Female</td>\n",
       "      <td>0</td>\n",
       "      <td>24</td>\n",
       "      <td>73</td>\n",
       "      <td>42789</td>\n",
       "      <td>0.003168</td>\n",
       "      <td>0</td>\n",
       "      <td>1.0</td>\n",
       "    </tr>\n",
       "    <tr>\n",
       "      <th>1</th>\n",
       "      <td>24</td>\n",
       "      <td>Male</td>\n",
       "      <td>0</td>\n",
       "      <td>44</td>\n",
       "      <td>164</td>\n",
       "      <td>74035</td>\n",
       "      <td>0.520906</td>\n",
       "      <td>0</td>\n",
       "      <td>NaN</td>\n",
       "    </tr>\n",
       "    <tr>\n",
       "      <th>2</th>\n",
       "      <td>24</td>\n",
       "      <td>Male</td>\n",
       "      <td>0</td>\n",
       "      <td>39</td>\n",
       "      <td>119</td>\n",
       "      <td>30563</td>\n",
       "      <td>0.916005</td>\n",
       "      <td>1</td>\n",
       "      <td>1.0</td>\n",
       "    </tr>\n",
       "    <tr>\n",
       "      <th>3</th>\n",
       "      <td>20</td>\n",
       "      <td>Male</td>\n",
       "      <td>0</td>\n",
       "      <td>30</td>\n",
       "      <td>107</td>\n",
       "      <td>13166</td>\n",
       "      <td>0.932098</td>\n",
       "      <td>1</td>\n",
       "      <td>NaN</td>\n",
       "    </tr>\n",
       "    <tr>\n",
       "      <th>4</th>\n",
       "      <td>24</td>\n",
       "      <td>Female</td>\n",
       "      <td>0</td>\n",
       "      <td>20</td>\n",
       "      <td>36</td>\n",
       "      <td>14244</td>\n",
       "      <td>0.965881</td>\n",
       "      <td>0</td>\n",
       "      <td>1.0</td>\n",
       "    </tr>\n",
       "  </tbody>\n",
       "</table>\n",
       "</div>"
      ],
      "text/plain": [
       "   Age  Gender  num_coffeeBags_per_year  spent_week  spent_month  SlrAY  \\\n",
       "0   36  Female                        0          24           73  42789   \n",
       "1   24    Male                        0          44          164  74035   \n",
       "2   24    Male                        0          39          119  30563   \n",
       "3   20    Male                        0          30          107  13166   \n",
       "4   24  Female                        0          20           36  14244   \n",
       "\n",
       "   Distance  Online  Decision  \n",
       "0  0.003168       0       1.0  \n",
       "1  0.520906       0       NaN  \n",
       "2  0.916005       1       1.0  \n",
       "3  0.932098       1       NaN  \n",
       "4  0.965881       0       1.0  "
      ]
     },
     "execution_count": 3,
     "metadata": {},
     "output_type": "execute_result"
    }
   ],
   "source": [
    "# Call head() on your data \n",
    "coffeeData.head()"
   ]
  },
  {
   "cell_type": "code",
   "execution_count": 4,
   "metadata": {
    "colab": {},
    "colab_type": "code",
    "id": "rDshwA7tDuVa"
   },
   "outputs": [
    {
     "data": {
      "text/plain": [
       "(702, 9)"
      ]
     },
     "execution_count": 4,
     "metadata": {},
     "output_type": "execute_result"
    }
   ],
   "source": [
    "# Call .shape on your data\n",
    "coffeeData.shape"
   ]
  },
  {
   "cell_type": "code",
   "execution_count": 5,
   "metadata": {
    "colab": {},
    "colab_type": "code",
    "id": "iCxo0tomDuVc"
   },
   "outputs": [
    {
     "name": "stdout",
     "output_type": "stream",
     "text": [
      "<class 'pandas.core.frame.DataFrame'>\n",
      "RangeIndex: 702 entries, 0 to 701\n",
      "Data columns (total 9 columns):\n",
      " #   Column                   Non-Null Count  Dtype  \n",
      "---  ------                   --------------  -----  \n",
      " 0   Age                      702 non-null    int64  \n",
      " 1   Gender                   702 non-null    object \n",
      " 2   num_coffeeBags_per_year  702 non-null    int64  \n",
      " 3   spent_week               702 non-null    int64  \n",
      " 4   spent_month              702 non-null    int64  \n",
      " 5   SlrAY                    702 non-null    int64  \n",
      " 6   Distance                 702 non-null    float64\n",
      " 7   Online                   702 non-null    int64  \n",
      " 8   Decision                 474 non-null    float64\n",
      "dtypes: float64(2), int64(6), object(1)\n",
      "memory usage: 49.5+ KB\n"
     ]
    }
   ],
   "source": [
    "# Call info() on your data\n",
    "coffeeData.info()"
   ]
  },
  {
   "cell_type": "code",
   "execution_count": 6,
   "metadata": {
    "colab": {},
    "colab_type": "code",
    "id": "t0ZdmaUeDuVe"
   },
   "outputs": [
    {
     "data": {
      "text/html": [
       "<div>\n",
       "<style scoped>\n",
       "    .dataframe tbody tr th:only-of-type {\n",
       "        vertical-align: middle;\n",
       "    }\n",
       "\n",
       "    .dataframe tbody tr th {\n",
       "        vertical-align: top;\n",
       "    }\n",
       "\n",
       "    .dataframe thead th {\n",
       "        text-align: right;\n",
       "    }\n",
       "</style>\n",
       "<table border=\"1\" class=\"dataframe\">\n",
       "  <thead>\n",
       "    <tr style=\"text-align: right;\">\n",
       "      <th></th>\n",
       "      <th>Age</th>\n",
       "      <th>Gender</th>\n",
       "      <th>num_coffeeBags_per_year</th>\n",
       "      <th>spent_week</th>\n",
       "      <th>spent_month</th>\n",
       "      <th>SlrAY</th>\n",
       "      <th>Distance</th>\n",
       "      <th>Online</th>\n",
       "      <th>Decision</th>\n",
       "    </tr>\n",
       "  </thead>\n",
       "  <tbody>\n",
       "    <tr>\n",
       "      <th>count</th>\n",
       "      <td>702.000000</td>\n",
       "      <td>702</td>\n",
       "      <td>702.000000</td>\n",
       "      <td>702.000000</td>\n",
       "      <td>702.000000</td>\n",
       "      <td>702.000000</td>\n",
       "      <td>702.000000</td>\n",
       "      <td>702.000000</td>\n",
       "      <td>474.000000</td>\n",
       "    </tr>\n",
       "    <tr>\n",
       "      <th>unique</th>\n",
       "      <td>NaN</td>\n",
       "      <td>9</td>\n",
       "      <td>NaN</td>\n",
       "      <td>NaN</td>\n",
       "      <td>NaN</td>\n",
       "      <td>NaN</td>\n",
       "      <td>NaN</td>\n",
       "      <td>NaN</td>\n",
       "      <td>NaN</td>\n",
       "    </tr>\n",
       "    <tr>\n",
       "      <th>top</th>\n",
       "      <td>NaN</td>\n",
       "      <td>Male</td>\n",
       "      <td>NaN</td>\n",
       "      <td>NaN</td>\n",
       "      <td>NaN</td>\n",
       "      <td>NaN</td>\n",
       "      <td>NaN</td>\n",
       "      <td>NaN</td>\n",
       "      <td>NaN</td>\n",
       "    </tr>\n",
       "    <tr>\n",
       "      <th>freq</th>\n",
       "      <td>NaN</td>\n",
       "      <td>355</td>\n",
       "      <td>NaN</td>\n",
       "      <td>NaN</td>\n",
       "      <td>NaN</td>\n",
       "      <td>NaN</td>\n",
       "      <td>NaN</td>\n",
       "      <td>NaN</td>\n",
       "      <td>NaN</td>\n",
       "    </tr>\n",
       "    <tr>\n",
       "      <th>mean</th>\n",
       "      <td>34.243590</td>\n",
       "      <td>NaN</td>\n",
       "      <td>2.710826</td>\n",
       "      <td>32.853276</td>\n",
       "      <td>107.923077</td>\n",
       "      <td>43819.843305</td>\n",
       "      <td>4.559186</td>\n",
       "      <td>0.531339</td>\n",
       "      <td>0.639241</td>\n",
       "    </tr>\n",
       "    <tr>\n",
       "      <th>std</th>\n",
       "      <td>13.927945</td>\n",
       "      <td>NaN</td>\n",
       "      <td>1.593629</td>\n",
       "      <td>15.731878</td>\n",
       "      <td>55.348485</td>\n",
       "      <td>26192.626943</td>\n",
       "      <td>3.116275</td>\n",
       "      <td>0.499373</td>\n",
       "      <td>0.480728</td>\n",
       "    </tr>\n",
       "    <tr>\n",
       "      <th>min</th>\n",
       "      <td>16.000000</td>\n",
       "      <td>NaN</td>\n",
       "      <td>0.000000</td>\n",
       "      <td>0.000000</td>\n",
       "      <td>0.000000</td>\n",
       "      <td>1617.000000</td>\n",
       "      <td>0.003168</td>\n",
       "      <td>0.000000</td>\n",
       "      <td>0.000000</td>\n",
       "    </tr>\n",
       "    <tr>\n",
       "      <th>25%</th>\n",
       "      <td>23.000000</td>\n",
       "      <td>NaN</td>\n",
       "      <td>1.000000</td>\n",
       "      <td>24.250000</td>\n",
       "      <td>62.000000</td>\n",
       "      <td>22812.250000</td>\n",
       "      <td>1.877812</td>\n",
       "      <td>0.000000</td>\n",
       "      <td>0.000000</td>\n",
       "    </tr>\n",
       "    <tr>\n",
       "      <th>50%</th>\n",
       "      <td>28.000000</td>\n",
       "      <td>NaN</td>\n",
       "      <td>3.000000</td>\n",
       "      <td>36.000000</td>\n",
       "      <td>113.500000</td>\n",
       "      <td>41975.000000</td>\n",
       "      <td>4.196167</td>\n",
       "      <td>1.000000</td>\n",
       "      <td>1.000000</td>\n",
       "    </tr>\n",
       "    <tr>\n",
       "      <th>75%</th>\n",
       "      <td>46.000000</td>\n",
       "      <td>NaN</td>\n",
       "      <td>4.000000</td>\n",
       "      <td>43.000000</td>\n",
       "      <td>150.750000</td>\n",
       "      <td>60223.000000</td>\n",
       "      <td>6.712022</td>\n",
       "      <td>1.000000</td>\n",
       "      <td>1.000000</td>\n",
       "    </tr>\n",
       "    <tr>\n",
       "      <th>max</th>\n",
       "      <td>90.000000</td>\n",
       "      <td>NaN</td>\n",
       "      <td>5.000000</td>\n",
       "      <td>62.000000</td>\n",
       "      <td>210.000000</td>\n",
       "      <td>182058.000000</td>\n",
       "      <td>10.986203</td>\n",
       "      <td>1.000000</td>\n",
       "      <td>1.000000</td>\n",
       "    </tr>\n",
       "  </tbody>\n",
       "</table>\n",
       "</div>"
      ],
      "text/plain": [
       "               Age Gender  num_coffeeBags_per_year  spent_week  spent_month  \\\n",
       "count   702.000000    702               702.000000  702.000000   702.000000   \n",
       "unique         NaN      9                      NaN         NaN          NaN   \n",
       "top            NaN   Male                      NaN         NaN          NaN   \n",
       "freq           NaN    355                      NaN         NaN          NaN   \n",
       "mean     34.243590    NaN                 2.710826   32.853276   107.923077   \n",
       "std      13.927945    NaN                 1.593629   15.731878    55.348485   \n",
       "min      16.000000    NaN                 0.000000    0.000000     0.000000   \n",
       "25%      23.000000    NaN                 1.000000   24.250000    62.000000   \n",
       "50%      28.000000    NaN                 3.000000   36.000000   113.500000   \n",
       "75%      46.000000    NaN                 4.000000   43.000000   150.750000   \n",
       "max      90.000000    NaN                 5.000000   62.000000   210.000000   \n",
       "\n",
       "                SlrAY    Distance      Online    Decision  \n",
       "count      702.000000  702.000000  702.000000  474.000000  \n",
       "unique            NaN         NaN         NaN         NaN  \n",
       "top               NaN         NaN         NaN         NaN  \n",
       "freq              NaN         NaN         NaN         NaN  \n",
       "mean     43819.843305    4.559186    0.531339    0.639241  \n",
       "std      26192.626943    3.116275    0.499373    0.480728  \n",
       "min       1617.000000    0.003168    0.000000    0.000000  \n",
       "25%      22812.250000    1.877812    0.000000    0.000000  \n",
       "50%      41975.000000    4.196167    1.000000    1.000000  \n",
       "75%      60223.000000    6.712022    1.000000    1.000000  \n",
       "max     182058.000000   10.986203    1.000000    1.000000  "
      ]
     },
     "execution_count": 6,
     "metadata": {},
     "output_type": "execute_result"
    }
   ],
   "source": [
    "# Call describe() on your data to get the relevant summary statistics for your data \n",
    "coffeeData.describe(include=\"all\") "
   ]
  },
  {
   "cell_type": "markdown",
   "metadata": {
    "colab_type": "text",
    "id": "INkujJ6QDuVg"
   },
   "source": [
    "# 2. Cleaning, transforming and visualizing\n",
    "## 2a. Cleaning the data"
   ]
  },
  {
   "cell_type": "markdown",
   "metadata": {
    "colab_type": "text",
    "id": "wIMW_rbdDuVh"
   },
   "source": [
    "Some datasets don't require any cleaning, but almost all do. This one does. We need to replace '1.0' and '0.0' in the 'Decision' column by 'YES' and 'NO' respectively, clean up the values of the 'gender' column, and change the column names to words which maximize meaning and clarity. "
   ]
  },
  {
   "cell_type": "markdown",
   "metadata": {
    "colab_type": "text",
    "id": "EEXdBALeDuVi"
   },
   "source": [
    "First, let's change the name of `spent_week`, `spent_month`, and `SlrAY` to `spent_last_week` and `spent_last_month` and `salary` respectively."
   ]
  },
  {
   "cell_type": "code",
   "execution_count": 7,
   "metadata": {
    "colab": {},
    "colab_type": "code",
    "id": "rhxy23pbDuVi"
   },
   "outputs": [
    {
     "data": {
      "text/plain": [
       "Index(['Age', 'Gender', 'num_coffeeBags_per_year', 'spent_week', 'spent_month',\n",
       "       'SlrAY', 'Distance', 'Online', 'Decision'],\n",
       "      dtype='object')"
      ]
     },
     "execution_count": 7,
     "metadata": {},
     "output_type": "execute_result"
    }
   ],
   "source": [
    "# Check out the names of our data's columns \n",
    "coffeeData.columns"
   ]
  },
  {
   "cell_type": "code",
   "execution_count": 8,
   "metadata": {
    "colab": {},
    "colab_type": "code",
    "id": "C_D1m6ryDuVk"
   },
   "outputs": [],
   "source": [
    "# Make the relevant name changes to spent_week and spent_per_week.\n",
    "old_names = ['spent_week', 'spent_month', 'SlrAY']\n",
    "new_names = ['spent_last_week', 'spent_last_month', 'salary']\n",
    "rename_dict = {i:j for i, j in zip(old_names, new_names)}\n",
    "coffeeData =coffeeData.rename(columns=rename_dict)"
   ]
  },
  {
   "cell_type": "code",
   "execution_count": 9,
   "metadata": {
    "colab": {},
    "colab_type": "code",
    "id": "3cmdaeg8DuVm"
   },
   "outputs": [
    {
     "data": {
      "text/plain": [
       "Index(['Age', 'Gender', 'num_coffeeBags_per_year', 'spent_last_week',\n",
       "       'spent_last_month', 'salary', 'Distance', 'Online', 'Decision'],\n",
       "      dtype='object')"
      ]
     },
     "execution_count": 9,
     "metadata": {},
     "output_type": "execute_result"
    }
   ],
   "source": [
    "# Check out the column names\n",
    "coffeeData.columns"
   ]
  },
  {
   "cell_type": "code",
   "execution_count": 10,
   "metadata": {
    "colab": {},
    "colab_type": "code",
    "id": "XJK-wbfODuVp"
   },
   "outputs": [
    {
     "data": {
      "text/plain": [
       "0      Female\n",
       "1        Male\n",
       "2        Male\n",
       "3        Male\n",
       "4      Female\n",
       "        ...  \n",
       "697    Female\n",
       "698      Male\n",
       "699      Male\n",
       "700    Female\n",
       "701      Male\n",
       "Name: Gender, Length: 702, dtype: object"
      ]
     },
     "execution_count": 10,
     "metadata": {},
     "output_type": "execute_result"
    }
   ],
   "source": [
    "# Let's have a closer look at the gender column. Its values need cleaning.\n",
    "coffeeData['Gender']"
   ]
  },
  {
   "cell_type": "code",
   "execution_count": 11,
   "metadata": {
    "colab": {},
    "colab_type": "code",
    "id": "88bITtgzDuVr"
   },
   "outputs": [
    {
     "data": {
      "text/plain": [
       "array(['Female', 'Male', 'female', 'F', 'f ', 'FEMALE', 'MALE', 'male',\n",
       "       'M'], dtype=object)"
      ]
     },
     "execution_count": 11,
     "metadata": {},
     "output_type": "execute_result"
    }
   ],
   "source": [
    "# See the gender column's unique values \n",
    "coffeeData['Gender'].unique()"
   ]
  },
  {
   "cell_type": "markdown",
   "metadata": {
    "colab_type": "text",
    "id": "-eGzgGR1DuVt"
   },
   "source": [
    "We can see a bunch of inconsistency here.\n",
    "\n",
    "Use replace() to make the values of the `gender` column just `Female` and `Male`."
   ]
  },
  {
   "cell_type": "code",
   "execution_count": 12,
   "metadata": {
    "colab": {},
    "colab_type": "code",
    "id": "h0FOX3I3DuVu"
   },
   "outputs": [],
   "source": [
    "# Replace all alternate values for the Female entry with 'Female'\n",
    "coffeeData['Gender'] = coffeeData['Gender'].replace(['female','F','f','f ','FEMALE'], 'Female')"
   ]
  },
  {
   "cell_type": "code",
   "execution_count": 13,
   "metadata": {
    "colab": {},
    "colab_type": "code",
    "id": "5TThfHgCDuVw"
   },
   "outputs": [
    {
     "data": {
      "text/plain": [
       "array(['Female', 'Male', 'MALE', 'male', 'M'], dtype=object)"
      ]
     },
     "execution_count": 13,
     "metadata": {},
     "output_type": "execute_result"
    }
   ],
   "source": [
    "# Check out the unique values for the 'gender' column\n",
    "coffeeData['Gender'].unique()"
   ]
  },
  {
   "cell_type": "code",
   "execution_count": 14,
   "metadata": {
    "colab": {},
    "colab_type": "code",
    "id": "4wRKBvSHDuVy"
   },
   "outputs": [],
   "source": [
    "# Replace all alternate values with \"Male\"\n",
    "coffeeData['Gender'] = coffeeData['Gender'].replace(['MALE','male','M'], 'Male')"
   ]
  },
  {
   "cell_type": "code",
   "execution_count": 15,
   "metadata": {
    "colab": {},
    "colab_type": "code",
    "id": "nhBUkXIADuV0"
   },
   "outputs": [
    {
     "data": {
      "text/plain": [
       "array(['Female', 'Male'], dtype=object)"
      ]
     },
     "execution_count": 15,
     "metadata": {},
     "output_type": "execute_result"
    }
   ],
   "source": [
    "# Let's check the unique values of the column \"gender\"\n",
    "coffeeData['Gender'].unique()"
   ]
  },
  {
   "cell_type": "code",
   "execution_count": 16,
   "metadata": {
    "colab": {},
    "colab_type": "code",
    "id": "AdhhO4WHDuV2"
   },
   "outputs": [
    {
     "data": {
      "text/plain": [
       "array([ 1., nan,  0.])"
      ]
     },
     "execution_count": 16,
     "metadata": {},
     "output_type": "execute_result"
    }
   ],
   "source": [
    "# Check out the unique values of the column 'Decision'\n",
    "coffeeData['Decision'].unique()"
   ]
  },
  {
   "cell_type": "markdown",
   "metadata": {
    "colab_type": "text",
    "id": "m1JuiY-iDuV5"
   },
   "source": [
    "We now want to replace `1.0` and `0.0` in the `Decision` column by `YES` and `NO` respectively."
   ]
  },
  {
   "cell_type": "code",
   "execution_count": 17,
   "metadata": {
    "colab": {},
    "colab_type": "code",
    "id": "QsK6gYPgDuV5"
   },
   "outputs": [],
   "source": [
    "# Replace 1.0 and 0.0 by 'Yes' and 'No'\n",
    "coffeeData['Decision'] = coffeeData['Decision'].replace({1.0: \"YES\", 0.0: \"NO\"})\n"
   ]
  },
  {
   "cell_type": "code",
   "execution_count": 18,
   "metadata": {
    "colab": {},
    "colab_type": "code",
    "id": "YtHnTZuWDuV9"
   },
   "outputs": [
    {
     "data": {
      "text/plain": [
       "array(['YES', nan, 'NO'], dtype=object)"
      ]
     },
     "execution_count": 18,
     "metadata": {},
     "output_type": "execute_result"
    }
   ],
   "source": [
    "# Check that our replacing those values with 'YES' and 'NO' worked, with unique()\n",
    "coffeeData['Decision'].unique()"
   ]
  },
  {
   "cell_type": "markdown",
   "metadata": {
    "colab_type": "text",
    "id": "CKCt-fBlDuWB"
   },
   "source": [
    "## 2b. Train/test split\n",
    "To execute the train/test split properly, we need to do five things: \n",
    "1. Drop all rows with a null value in the `Decision` column, and save the result as NOPrediction: a dataset that will contain all known values for the decision \n",
    "2. Visualize the data using scatter and boxplots of several variables in the y-axis and the decision on the x-axis\n",
    "3. Get the subset of coffeeData with null values in the `Decision` column, and save that subset as Prediction\n",
    "4. Divide the NOPrediction subset into X and y, and then further divide those subsets into train and test subsets for X and y respectively\n",
    "5. Create dummy variables to deal with categorical inputs"
   ]
  },
  {
   "cell_type": "markdown",
   "metadata": {
    "colab_type": "text",
    "id": "ysHdkIaQDuWB"
   },
   "source": [
    "### 1. Drop all null values within the `Decision` column, and save the result as NoPrediction"
   ]
  },
  {
   "cell_type": "code",
   "execution_count": 19,
   "metadata": {
    "colab": {},
    "colab_type": "code",
    "id": "pvgH6SM4DuWC"
   },
   "outputs": [
    {
     "data": {
      "text/plain": [
       "count     474\n",
       "unique      2\n",
       "top       YES\n",
       "freq      303\n",
       "Name: Decision, dtype: object"
      ]
     },
     "execution_count": 19,
     "metadata": {},
     "output_type": "execute_result"
    }
   ],
   "source": [
    "# NoPrediction will contain all known values for the decision\n",
    "# Call dropna() on coffeeData, and store the result in a variable NOPrediction \n",
    "# Call describe() on the Decision column of NoPrediction after calling dropna() on coffeeData\n",
    "NoPrediction = coffeeData.dropna()\n",
    "NoPrediction['Decision'].describe()"
   ]
  },
  {
   "cell_type": "markdown",
   "metadata": {
    "colab_type": "text",
    "id": "XfTK5Ec6DuWE"
   },
   "source": [
    "### 2. Visualize the data using scatter and boxplots of several variables in the y-axis and the decision on the x-axis"
   ]
  },
  {
   "cell_type": "code",
   "execution_count": 20,
   "metadata": {
    "colab": {},
    "colab_type": "code",
    "id": "5O-M-t3tDuWE"
   },
   "outputs": [
    {
     "data": {
      "image/png": "[encoded data removed]",
      "text/plain": [
       "<Figure size 432x288 with 1 Axes>"
      ]
     },
     "metadata": {
      "needs_background": "light"
     },
     "output_type": "display_data"
    }
   ],
   "source": [
    "# Exploring our new NOPrediction dataset\n",
    "# Make a boxplot on NOPrediction where the x axis is Decision, and the y axis is spent_last_week\n",
    "\n",
    "_ = sns.boxplot(x='Decision', y='spent_last_week', data=NoPrediction)"
   ]
  },
  {
   "cell_type": "markdown",
   "metadata": {
    "colab_type": "text",
    "id": "mVqg_HI7DuWG"
   },
   "source": [
    "Can you admissibly conclude anything from this boxplot? Write your answer here:\n",
    "\n",
    "From the boxplot we see there is huge difference between the number of customer who buys coffee and who wouldn not buy coffee in the last week."
   ]
  },
  {
   "cell_type": "code",
   "execution_count": 21,
   "metadata": {
    "colab": {},
    "colab_type": "code",
    "id": "q-AyXWSxDuWH"
   },
   "outputs": [
    {
     "data": {
      "image/png": "[encoded data removed]",
      "text/plain": [
       "<Figure size 432x288 with 1 Axes>"
      ]
     },
     "metadata": {
      "needs_background": "light"
     },
     "output_type": "display_data"
    }
   ],
   "source": [
    "# Make a scatterplot on NOPrediction, where x is distance, y is spent_last_month and hue is Decision \n",
    "_ = sns.scatterplot(x='Distance', y='spent_last_month', data=NoPrediction, hue='Decision')"
   ]
  },
  {
   "cell_type": "markdown",
   "metadata": {
    "colab_type": "text",
    "id": "I_nr36yZDuWJ"
   },
   "source": [
    "Can you admissibly conclude anything from this scatterplot? Remember: we are trying to build a tree to classify unseen examples. Write your answer here:From the graph we conclude that there is correlation between distance and spent last month.We should not include these feature  in the final model."
   ]
  },
  {
   "cell_type": "markdown",
   "metadata": {
    "colab_type": "text",
    "id": "oQBPyvehDuWK"
   },
   "source": [
    "### 3. Get the subset of coffeeData with null values in the Decision column, and save that subset as Prediction"
   ]
  },
  {
   "cell_type": "code",
   "execution_count": 22,
   "metadata": {
    "colab": {},
    "colab_type": "code",
    "id": "vcCednqUDuWL"
   },
   "outputs": [
    {
     "name": "stdout",
     "output_type": "stream",
     "text": [
      "     Age  Gender  num_coffeeBags_per_year  spent_last_week  spent_last_month  \\\n",
      "1     24    Male                        0               44               164   \n",
      "3     20    Male                        0               30               107   \n",
      "7     24  Female                        0               20                34   \n",
      "11    24  Female                        0               40               153   \n",
      "12    21  Female                        0               38               122   \n",
      "..   ...     ...                      ...              ...               ...   \n",
      "673   66  Female                        5                0                52   \n",
      "677   67    Male                        5               41               151   \n",
      "680   24  Female                        5               62               205   \n",
      "682   33  Female                        5               34                96   \n",
      "700   20  Female                        5               41               159   \n",
      "\n",
      "     salary   Distance  Online Decision  \n",
      "1     74035   0.520906       0      NaN  \n",
      "3     13166   0.932098       1      NaN  \n",
      "7     17425   1.193188       0      NaN  \n",
      "11    84803   1.655096       1      NaN  \n",
      "12    42338   1.714179       1      NaN  \n",
      "..      ...        ...     ...      ...  \n",
      "673   55227   5.984716       0      NaN  \n",
      "677  182058   6.288700       1      NaN  \n",
      "680   55772   6.583449       1      NaN  \n",
      "682   78058   6.723241       0      NaN  \n",
      "700   12522  10.871566       0      NaN  \n",
      "\n",
      "[228 rows x 9 columns]\n"
     ]
    }
   ],
   "source": [
    "# Get just those rows whose value for the Decision column is null  \n",
    "prediction = coffeeData[coffeeData['Decision'].isnull()]\n",
    "print(prediction)"
   ]
  },
  {
   "cell_type": "code",
   "execution_count": 23,
   "metadata": {
    "colab": {},
    "colab_type": "code",
    "id": "aenlmp9NDuWM"
   },
   "outputs": [
    {
     "data": {
      "text/html": [
       "<div>\n",
       "<style scoped>\n",
       "    .dataframe tbody tr th:only-of-type {\n",
       "        vertical-align: middle;\n",
       "    }\n",
       "\n",
       "    .dataframe tbody tr th {\n",
       "        vertical-align: top;\n",
       "    }\n",
       "\n",
       "    .dataframe thead th {\n",
       "        text-align: right;\n",
       "    }\n",
       "</style>\n",
       "<table border=\"1\" class=\"dataframe\">\n",
       "  <thead>\n",
       "    <tr style=\"text-align: right;\">\n",
       "      <th></th>\n",
       "      <th>Age</th>\n",
       "      <th>num_coffeeBags_per_year</th>\n",
       "      <th>spent_last_week</th>\n",
       "      <th>spent_last_month</th>\n",
       "      <th>salary</th>\n",
       "      <th>Distance</th>\n",
       "      <th>Online</th>\n",
       "    </tr>\n",
       "  </thead>\n",
       "  <tbody>\n",
       "    <tr>\n",
       "      <th>count</th>\n",
       "      <td>228.000000</td>\n",
       "      <td>228.000000</td>\n",
       "      <td>228.000000</td>\n",
       "      <td>228.000000</td>\n",
       "      <td>228.000000</td>\n",
       "      <td>228.000000</td>\n",
       "      <td>228.000000</td>\n",
       "    </tr>\n",
       "    <tr>\n",
       "      <th>mean</th>\n",
       "      <td>31.802632</td>\n",
       "      <td>2.960526</td>\n",
       "      <td>33.394737</td>\n",
       "      <td>110.407895</td>\n",
       "      <td>41923.741228</td>\n",
       "      <td>3.428836</td>\n",
       "      <td>0.570175</td>\n",
       "    </tr>\n",
       "    <tr>\n",
       "      <th>std</th>\n",
       "      <td>14.302293</td>\n",
       "      <td>1.585514</td>\n",
       "      <td>15.697930</td>\n",
       "      <td>53.786536</td>\n",
       "      <td>27406.768360</td>\n",
       "      <td>2.153102</td>\n",
       "      <td>0.496140</td>\n",
       "    </tr>\n",
       "    <tr>\n",
       "      <th>min</th>\n",
       "      <td>16.000000</td>\n",
       "      <td>0.000000</td>\n",
       "      <td>0.000000</td>\n",
       "      <td>0.000000</td>\n",
       "      <td>1617.000000</td>\n",
       "      <td>0.010048</td>\n",
       "      <td>0.000000</td>\n",
       "    </tr>\n",
       "    <tr>\n",
       "      <th>25%</th>\n",
       "      <td>22.000000</td>\n",
       "      <td>2.000000</td>\n",
       "      <td>25.750000</td>\n",
       "      <td>65.000000</td>\n",
       "      <td>15911.500000</td>\n",
       "      <td>1.699408</td>\n",
       "      <td>0.000000</td>\n",
       "    </tr>\n",
       "    <tr>\n",
       "      <th>50%</th>\n",
       "      <td>25.000000</td>\n",
       "      <td>3.000000</td>\n",
       "      <td>37.000000</td>\n",
       "      <td>113.500000</td>\n",
       "      <td>40987.500000</td>\n",
       "      <td>3.208673</td>\n",
       "      <td>1.000000</td>\n",
       "    </tr>\n",
       "    <tr>\n",
       "      <th>75%</th>\n",
       "      <td>39.000000</td>\n",
       "      <td>4.000000</td>\n",
       "      <td>44.000000</td>\n",
       "      <td>151.250000</td>\n",
       "      <td>58537.000000</td>\n",
       "      <td>5.261184</td>\n",
       "      <td>1.000000</td>\n",
       "    </tr>\n",
       "    <tr>\n",
       "      <th>max</th>\n",
       "      <td>67.000000</td>\n",
       "      <td>5.000000</td>\n",
       "      <td>62.000000</td>\n",
       "      <td>210.000000</td>\n",
       "      <td>182058.000000</td>\n",
       "      <td>10.871566</td>\n",
       "      <td>1.000000</td>\n",
       "    </tr>\n",
       "  </tbody>\n",
       "</table>\n",
       "</div>"
      ],
      "text/plain": [
       "              Age  num_coffeeBags_per_year  spent_last_week  spent_last_month  \\\n",
       "count  228.000000               228.000000       228.000000        228.000000   \n",
       "mean    31.802632                 2.960526        33.394737        110.407895   \n",
       "std     14.302293                 1.585514        15.697930         53.786536   \n",
       "min     16.000000                 0.000000         0.000000          0.000000   \n",
       "25%     22.000000                 2.000000        25.750000         65.000000   \n",
       "50%     25.000000                 3.000000        37.000000        113.500000   \n",
       "75%     39.000000                 4.000000        44.000000        151.250000   \n",
       "max     67.000000                 5.000000        62.000000        210.000000   \n",
       "\n",
       "              salary    Distance      Online  \n",
       "count     228.000000  228.000000  228.000000  \n",
       "mean    41923.741228    3.428836    0.570175  \n",
       "std     27406.768360    2.153102    0.496140  \n",
       "min      1617.000000    0.010048    0.000000  \n",
       "25%     15911.500000    1.699408    0.000000  \n",
       "50%     40987.500000    3.208673    1.000000  \n",
       "75%     58537.000000    5.261184    1.000000  \n",
       "max    182058.000000   10.871566    1.000000  "
      ]
     },
     "execution_count": 23,
     "metadata": {},
     "output_type": "execute_result"
    }
   ],
   "source": [
    "# Call describe() on Prediction\n",
    "prediction.describe()"
   ]
  },
  {
   "cell_type": "markdown",
   "metadata": {
    "colab_type": "text",
    "id": "zmN_BPwFDuWO"
   },
   "source": [
    "### 4. Divide the NOPrediction subset into X and y"
   ]
  },
  {
   "cell_type": "code",
   "execution_count": 24,
   "metadata": {
    "colab": {},
    "colab_type": "code",
    "id": "00WtPVYSDuWP"
   },
   "outputs": [
    {
     "data": {
      "text/plain": [
       "Index(['Age', 'Gender', 'num_coffeeBags_per_year', 'spent_last_week',\n",
       "       'spent_last_month', 'salary', 'Distance', 'Online', 'Decision'],\n",
       "      dtype='object')"
      ]
     },
     "execution_count": 24,
     "metadata": {},
     "output_type": "execute_result"
    }
   ],
   "source": [
    "# Check the names of the columns of NOPrediction\n",
    "NoPrediction.columns"
   ]
  },
  {
   "cell_type": "code",
   "execution_count": 25,
   "metadata": {
    "colab": {},
    "colab_type": "code",
    "id": "oPi2gMLfDuWQ"
   },
   "outputs": [],
   "source": [
    "# Let's do our feature selection.\n",
    "# Make a variable called 'features', and a list containing the strings of every column except \"Decision\"\n",
    "features = [column for column in NoPrediction.columns if column != 'Decision']\n",
    "# Make an explanatory variable called X, and assign it: NoPrediction[features]\n",
    "X = NoPrediction[features] \n",
    "\n",
    "# Make a dependent variable called y, and assign it: NoPrediction.Decision\n",
    "y = NoPrediction['Decision']"
   ]
  },
  {
   "cell_type": "markdown",
   "metadata": {
    "colab_type": "text",
    "id": "R-d3XOv8DuWW"
   },
   "source": [
    "### 5. Create dummy variables to deal with categorical inputs\n",
    "One-hot encoding replaces each unique value of a given column with a new column, and puts a 1 in the new column for a given row just if its initial value for the original column matches the new column. Check out [this resource](https://hackernoon.com/what-is-one-hot-encoding-why-and-when-do-you-have-to-use-it-e3c6186d008f) if you haven't seen one-hot-encoding before. \n",
    "\n",
    "**Note**: We will do this before we do our train/test split as to do it after could mean that some categories only end up in the train or test split of our data by chance and this would then lead to different shapes of data for our `X_train` and `X_test` which could/would cause downstream issues when fitting or predicting using a trained model."
   ]
  },
  {
   "cell_type": "code",
   "execution_count": 26,
   "metadata": {
    "colab": {},
    "colab_type": "code",
    "id": "xXHGDZkZDuWW"
   },
   "outputs": [],
   "source": [
    "# One-hot encode all features in X.\n",
    "X_train, X_test, y_train, y_test = train_test_split(X, y, test_size=0.25, random_state=246)"
   ]
  },
  {
   "cell_type": "markdown",
   "metadata": {
    "colab_type": "text",
    "id": "Jdn_dHlkDuWS"
   },
   "source": [
    "### 6. Further divide those subsets into train and test subsets for X and y respectively: X_train, X_test, y_train, y_test"
   ]
  },
  {
   "cell_type": "code",
   "execution_count": 27,
   "metadata": {
    "colab": {},
    "colab_type": "code",
    "id": "RqbHQza-DuWT"
   },
   "outputs": [],
   "source": [
    "# Call train_test_split on X, y. Make the test_size = 0.25, and random_state = 246\n",
    "X_train = pd.get_dummies(X_train)\n",
    "# For X-test\n",
    "X_test = pd.get_dummies(X_test)"
   ]
  },
  {
   "cell_type": "markdown",
   "metadata": {
    "colab_type": "text",
    "id": "nqvyCX-6DuWb"
   },
   "source": [
    "# 3. Modelling\n",
    "It's useful to look at the scikit-learn documentation on decision trees https://scikit-learn.org/stable/modules/tree.html before launching into applying them. If you haven't seen them before, take a look at that link, in particular the section `1.10.5.` "
   ]
  },
  {
   "cell_type": "markdown",
   "metadata": {
    "colab_type": "text",
    "id": "RIm9IN5HDuWc"
   },
   "source": [
    "## Model 1: Entropy model - no max_depth\n",
    "\n",
    "We'll give you a little more guidance here, as the Python is hard to deduce, and scikitlearn takes some getting used to.\n",
    "\n",
    "Theoretically, let's remind ourselves of what's going on with a decision tree implementing an entropy model.\n",
    "\n",
    "Ross Quinlan's **ID3 Algorithm** was one of the first, and one of the most basic, to use entropy as a metric.\n",
    "\n",
    "**Entropy** is a measure of how uncertain we are about which category the data-points fall into at a given point in the tree. The **Information gain** of a specific feature with a threshold (such as 'spent_last_month <= 138.0') is the difference in entropy that exists before and after splitting on that feature; i.e., the information we gain about the categories of the data-points by splitting on that feature and that threshold. \n",
    "\n",
    "Naturally, we want to minimize entropy and maximize information gain. Quinlan's ID3 algorithm is designed to output a tree such that the features at each node, starting from the root, and going all the way down to the leaves, have maximial information gain. We want a tree whose leaves have elements that are *homogeneous*, that is, all of the same category. \n",
    "\n",
    "The first model will be the hardest. Persevere and you'll reap the rewards: you can use almost exactly the same code for the other models. "
   ]
  },
  {
   "cell_type": "code",
   "execution_count": 28,
   "metadata": {
    "colab": {},
    "colab_type": "code",
    "id": "8-gelLDgDuWc"
   },
   "outputs": [
    {
     "data": {
      "text/plain": [
       "DecisionTreeClassifier(ccp_alpha=0.0, class_weight=None, criterion='entropy',\n",
       "                       max_depth=None, max_features=None, max_leaf_nodes=None,\n",
       "                       min_impurity_decrease=0.0, min_impurity_split=None,\n",
       "                       min_samples_leaf=1, min_samples_split=2,\n",
       "                       min_weight_fraction_leaf=0.0, presort='deprecated',\n",
       "                       random_state=1234, splitter='best')"
      ]
     },
     "execution_count": 28,
     "metadata": {},
     "output_type": "execute_result"
    }
   ],
   "source": [
    "# Declare a variable called entr_model and use tree.DecisionTreeClassifier. \n",
    "entr_model = tree.DecisionTreeClassifier(criterion='entropy', random_state=1234)\n",
    "\n",
    "# Call fit() on entr_model\n",
    "entr_model.fit(X_train, y_train)\n",
    "\n",
    "# Call predict() on entr_model with X_test passed to it, and assign the result to a variable y_pred \n",
    "y_pred = entr_model.predict(X_test)\n",
    "\n",
    "# Call Series on our y_pred variable with the following: pd.Series(y_pred)\n",
    "y_pred = pd.Series(y_pred)\n",
    "\n",
    "# Check out entr_model\n",
    "entr_model"
   ]
  },
  {
   "cell_type": "code",
   "execution_count": 29,
   "metadata": {
    "colab": {},
    "colab_type": "code",
    "id": "S4FbHfWnDuWe"
   },
   "outputs": [
    {
     "data": {
      "image/png": "[encoded data removed]",
      "text/plain": [
       "<Figure size 432x288 with 1 Axes>"
      ]
     },
     "metadata": {
      "needs_background": "light"
     },
     "output_type": "display_data"
    }
   ],
   "source": [
    "# Now we want to visualize the tree\n",
    "_ = tree.plot_tree(entr_model, filled=True)"
   ]
  },
  {
   "cell_type": "code",
   "execution_count": 30,
   "metadata": {},
   "outputs": [
    {
     "data": {
      "image/svg+xml": [
       "<?xml version=\"1.0\" encoding=\"UTF-8\" standalone=\"no\"?>\n",
       "<!DOCTYPE svg PUBLIC \"-//W3C//DTD SVG 1.1//EN\"\n",
       " \"http://www.w3.org/Graphics/SVG/1.1/DTD/svg11.dtd\">\n",
       "<!-- Generated by graphviz version 12.2.1 (20241206.2353)\n",
       " -->\n",
       "<!-- Title: Tree Pages: 1 -->\n",
       "<svg width=\"684pt\" height=\"616pt\"\n",
       " viewBox=\"0.00 0.00 683.75 615.50\" xmlns=\"http://www.w3.org/2000/svg\" xmlns:xlink=\"http://www.w3.org/1999/xlink\">\n",
       "<g id=\"graph0\" class=\"graph\" transform=\"scale(1 1) rotate(0) translate(4 611.5)\">\n",
       "<title>Tree</title>\n",
       "<polygon fill=\"white\" stroke=\"none\" points=\"-4,4 -4,-611.5 679.75,-611.5 679.75,4 -4,4\"/>\n",
       "<!-- 0 -->\n",
       "<g id=\"node1\" class=\"node\">\n",
       "<title>0</title>\n",
       "<polygon fill=\"none\" stroke=\"black\" points=\"346.88,-607.5 228.88,-607.5 228.88,-533.5 346.88,-533.5 346.88,-607.5\"/>\n",
       "<text text-anchor=\"middle\" x=\"287.88\" y=\"-590.2\" font-family=\"Times New Roman,serif\" font-size=\"14.00\">X[3] &lt;= 138.0</text>\n",
       "<text text-anchor=\"middle\" x=\"287.88\" y=\"-573.7\" font-family=\"Times New Roman,serif\" font-size=\"14.00\">entropy = 0.948</text>\n",
       "<text text-anchor=\"middle\" x=\"287.88\" y=\"-557.2\" font-family=\"Times New Roman,serif\" font-size=\"14.00\">samples = 355</text>\n",
       "<text text-anchor=\"middle\" x=\"287.88\" y=\"-540.7\" font-family=\"Times New Roman,serif\" font-size=\"14.00\">value = [130, 225]</text>\n",
       "</g>\n",
       "<!-- 1 -->\n",
       "<g id=\"node2\" class=\"node\">\n",
       "<title>1</title>\n",
       "<polygon fill=\"none\" stroke=\"black\" points=\"282.88,-497.5 164.88,-497.5 164.88,-423.5 282.88,-423.5 282.88,-497.5\"/>\n",
       "<text text-anchor=\"middle\" x=\"223.88\" y=\"-480.2\" font-family=\"Times New Roman,serif\" font-size=\"14.00\">X[5] &lt;= 3.524</text>\n",
       "<text text-anchor=\"middle\" x=\"223.88\" y=\"-463.7\" font-family=\"Times New Roman,serif\" font-size=\"14.00\">entropy = 0.991</text>\n",
       "<text text-anchor=\"middle\" x=\"223.88\" y=\"-447.2\" font-family=\"Times New Roman,serif\" font-size=\"14.00\">samples = 234</text>\n",
       "<text text-anchor=\"middle\" x=\"223.88\" y=\"-430.7\" font-family=\"Times New Roman,serif\" font-size=\"14.00\">value = [130, 104]</text>\n",
       "</g>\n",
       "<!-- 0&#45;&gt;1 -->\n",
       "<g id=\"edge1\" class=\"edge\">\n",
       "<title>0&#45;&gt;1</title>\n",
       "<path fill=\"none\" stroke=\"black\" d=\"M266.39,-533.24C261.53,-525.04 256.31,-516.24 251.25,-507.7\"/>\n",
       "<polygon fill=\"black\" stroke=\"black\" points=\"254.3,-505.97 246.19,-499.15 248.27,-509.54 254.3,-505.97\"/>\n",
       "<text text-anchor=\"middle\" x=\"239.22\" y=\"-517.02\" font-family=\"Times New Roman,serif\" font-size=\"14.00\">True</text>\n",
       "</g>\n",
       "<!-- 16 -->\n",
       "<g id=\"node17\" class=\"node\">\n",
       "<title>16</title>\n",
       "<polygon fill=\"none\" stroke=\"black\" points=\"405.12,-489.25 300.62,-489.25 300.62,-431.75 405.12,-431.75 405.12,-489.25\"/>\n",
       "<text text-anchor=\"middle\" x=\"352.88\" y=\"-471.95\" font-family=\"Times New Roman,serif\" font-size=\"14.00\">entropy = 0.0</text>\n",
       "<text text-anchor=\"middle\" x=\"352.88\" y=\"-455.45\" font-family=\"Times New Roman,serif\" font-size=\"14.00\">samples = 121</text>\n",
       "<text text-anchor=\"middle\" x=\"352.88\" y=\"-438.95\" font-family=\"Times New Roman,serif\" font-size=\"14.00\">value = [0, 121]</text>\n",
       "</g>\n",
       "<!-- 0&#45;&gt;16 -->\n",
       "<g id=\"edge16\" class=\"edge\">\n",
       "<title>0&#45;&gt;16</title>\n",
       "<path fill=\"none\" stroke=\"black\" d=\"M309.7,-533.24C316.25,-522.35 323.45,-510.39 330.07,-499.4\"/>\n",
       "<polygon fill=\"black\" stroke=\"black\" points=\"333,-501.31 335.16,-490.94 327,-497.7 333,-501.31\"/>\n",
       "<text text-anchor=\"middle\" x=\"341.97\" y=\"-508.85\" font-family=\"Times New Roman,serif\" font-size=\"14.00\">False</text>\n",
       "</g>\n",
       "<!-- 2 -->\n",
       "<g id=\"node3\" class=\"node\">\n",
       "<title>2</title>\n",
       "<polygon fill=\"none\" stroke=\"black\" points=\"212.75,-387.5 109,-387.5 109,-313.5 212.75,-313.5 212.75,-387.5\"/>\n",
       "<text text-anchor=\"middle\" x=\"160.88\" y=\"-370.2\" font-family=\"Times New Roman,serif\" font-size=\"14.00\">X[3] &lt;= 24.5</text>\n",
       "<text text-anchor=\"middle\" x=\"160.88\" y=\"-353.7\" font-family=\"Times New Roman,serif\" font-size=\"14.00\">entropy = 0.512</text>\n",
       "<text text-anchor=\"middle\" x=\"160.88\" y=\"-337.2\" font-family=\"Times New Roman,serif\" font-size=\"14.00\">samples = 79</text>\n",
       "<text text-anchor=\"middle\" x=\"160.88\" y=\"-320.7\" font-family=\"Times New Roman,serif\" font-size=\"14.00\">value = [9, 70]</text>\n",
       "</g>\n",
       "<!-- 1&#45;&gt;2 -->\n",
       "<g id=\"edge2\" class=\"edge\">\n",
       "<title>1&#45;&gt;2</title>\n",
       "<path fill=\"none\" stroke=\"black\" d=\"M202.72,-423.24C197.94,-415.04 192.81,-406.24 187.83,-397.7\"/>\n",
       "<polygon fill=\"black\" stroke=\"black\" points=\"190.9,-396.03 182.84,-389.16 184.86,-399.56 190.9,-396.03\"/>\n",
       "</g>\n",
       "<!-- 7 -->\n",
       "<g id=\"node8\" class=\"node\">\n",
       "<title>7</title>\n",
       "<polygon fill=\"none\" stroke=\"black\" points=\"393.5,-387.5 282.25,-387.5 282.25,-313.5 393.5,-313.5 393.5,-387.5\"/>\n",
       "<text text-anchor=\"middle\" x=\"337.88\" y=\"-370.2\" font-family=\"Times New Roman,serif\" font-size=\"14.00\">X[3] &lt;= 101.0</text>\n",
       "<text text-anchor=\"middle\" x=\"337.88\" y=\"-353.7\" font-family=\"Times New Roman,serif\" font-size=\"14.00\">entropy = 0.759</text>\n",
       "<text text-anchor=\"middle\" x=\"337.88\" y=\"-337.2\" font-family=\"Times New Roman,serif\" font-size=\"14.00\">samples = 155</text>\n",
       "<text text-anchor=\"middle\" x=\"337.88\" y=\"-320.7\" font-family=\"Times New Roman,serif\" font-size=\"14.00\">value = [121, 34]</text>\n",
       "</g>\n",
       "<!-- 1&#45;&gt;7 -->\n",
       "<g id=\"edge7\" class=\"edge\">\n",
       "<title>1&#45;&gt;7</title>\n",
       "<path fill=\"none\" stroke=\"black\" d=\"M262.15,-423.24C271.46,-414.42 281.51,-404.9 291.16,-395.76\"/>\n",
       "<polygon fill=\"black\" stroke=\"black\" points=\"293.55,-398.31 298.41,-388.89 288.74,-393.23 293.55,-398.31\"/>\n",
       "</g>\n",
       "<!-- 3 -->\n",
       "<g id=\"node4\" class=\"node\">\n",
       "<title>3</title>\n",
       "<polygon fill=\"none\" stroke=\"black\" points=\"91.38,-269.25 0.38,-269.25 0.38,-211.75 91.38,-211.75 91.38,-269.25\"/>\n",
       "<text text-anchor=\"middle\" x=\"45.88\" y=\"-251.95\" font-family=\"Times New Roman,serif\" font-size=\"14.00\">entropy = 0.0</text>\n",
       "<text text-anchor=\"middle\" x=\"45.88\" y=\"-235.45\" font-family=\"Times New Roman,serif\" font-size=\"14.00\">samples = 8</text>\n",
       "<text text-anchor=\"middle\" x=\"45.88\" y=\"-218.95\" font-family=\"Times New Roman,serif\" font-size=\"14.00\">value = [8, 0]</text>\n",
       "</g>\n",
       "<!-- 2&#45;&gt;3 -->\n",
       "<g id=\"edge3\" class=\"edge\">\n",
       "<title>2&#45;&gt;3</title>\n",
       "<path fill=\"none\" stroke=\"black\" d=\"M122.26,-313.24C109.96,-301.69 96.36,-288.92 84.09,-277.39\"/>\n",
       "<polygon fill=\"black\" stroke=\"black\" points=\"86.63,-274.97 76.94,-270.68 81.84,-280.08 86.63,-274.97\"/>\n",
       "</g>\n",
       "<!-- 4 -->\n",
       "<g id=\"node5\" class=\"node\">\n",
       "<title>4</title>\n",
       "<polygon fill=\"none\" stroke=\"black\" points=\"212.75,-277.5 109,-277.5 109,-203.5 212.75,-203.5 212.75,-277.5\"/>\n",
       "<text text-anchor=\"middle\" x=\"160.88\" y=\"-260.2\" font-family=\"Times New Roman,serif\" font-size=\"14.00\">X[0] &lt;= 59.0</text>\n",
       "<text text-anchor=\"middle\" x=\"160.88\" y=\"-243.7\" font-family=\"Times New Roman,serif\" font-size=\"14.00\">entropy = 0.107</text>\n",
       "<text text-anchor=\"middle\" x=\"160.88\" y=\"-227.2\" font-family=\"Times New Roman,serif\" font-size=\"14.00\">samples = 71</text>\n",
       "<text text-anchor=\"middle\" x=\"160.88\" y=\"-210.7\" font-family=\"Times New Roman,serif\" font-size=\"14.00\">value = [1, 70]</text>\n",
       "</g>\n",
       "<!-- 2&#45;&gt;4 -->\n",
       "<g id=\"edge4\" class=\"edge\">\n",
       "<title>2&#45;&gt;4</title>\n",
       "<path fill=\"none\" stroke=\"black\" d=\"M160.88,-313.24C160.88,-305.49 160.88,-297.2 160.88,-289.1\"/>\n",
       "<polygon fill=\"black\" stroke=\"black\" points=\"164.38,-289.36 160.88,-279.36 157.38,-289.36 164.38,-289.36\"/>\n",
       "</g>\n",
       "<!-- 5 -->\n",
       "<g id=\"node6\" class=\"node\">\n",
       "<title>5</title>\n",
       "<polygon fill=\"none\" stroke=\"black\" points=\"97.75,-159.25 0,-159.25 0,-101.75 97.75,-101.75 97.75,-159.25\"/>\n",
       "<text text-anchor=\"middle\" x=\"48.88\" y=\"-141.95\" font-family=\"Times New Roman,serif\" font-size=\"14.00\">entropy = 0.0</text>\n",
       "<text text-anchor=\"middle\" x=\"48.88\" y=\"-125.45\" font-family=\"Times New Roman,serif\" font-size=\"14.00\">samples = 70</text>\n",
       "<text text-anchor=\"middle\" x=\"48.88\" y=\"-108.95\" font-family=\"Times New Roman,serif\" font-size=\"14.00\">value = [0, 70]</text>\n",
       "</g>\n",
       "<!-- 4&#45;&gt;5 -->\n",
       "<g id=\"edge5\" class=\"edge\">\n",
       "<title>4&#45;&gt;5</title>\n",
       "<path fill=\"none\" stroke=\"black\" d=\"M123.27,-203.24C111.29,-191.69 98.05,-178.92 86.1,-167.39\"/>\n",
       "<polygon fill=\"black\" stroke=\"black\" points=\"88.78,-165.11 79.15,-160.69 83.92,-170.15 88.78,-165.11\"/>\n",
       "</g>\n",
       "<!-- 6 -->\n",
       "<g id=\"node7\" class=\"node\">\n",
       "<title>6</title>\n",
       "<polygon fill=\"none\" stroke=\"black\" points=\"206.38,-159.25 115.38,-159.25 115.38,-101.75 206.38,-101.75 206.38,-159.25\"/>\n",
       "<text text-anchor=\"middle\" x=\"160.88\" y=\"-141.95\" font-family=\"Times New Roman,serif\" font-size=\"14.00\">entropy = 0.0</text>\n",
       "<text text-anchor=\"middle\" x=\"160.88\" y=\"-125.45\" font-family=\"Times New Roman,serif\" font-size=\"14.00\">samples = 1</text>\n",
       "<text text-anchor=\"middle\" x=\"160.88\" y=\"-108.95\" font-family=\"Times New Roman,serif\" font-size=\"14.00\">value = [1, 0]</text>\n",
       "</g>\n",
       "<!-- 4&#45;&gt;6 -->\n",
       "<g id=\"edge6\" class=\"edge\">\n",
       "<title>4&#45;&gt;6</title>\n",
       "<path fill=\"none\" stroke=\"black\" d=\"M160.88,-203.24C160.88,-192.91 160.88,-181.6 160.88,-171.09\"/>\n",
       "<polygon fill=\"black\" stroke=\"black\" points=\"164.38,-171.16 160.88,-161.16 157.38,-171.16 164.38,-171.16\"/>\n",
       "</g>\n",
       "<!-- 8 -->\n",
       "<g id=\"node9\" class=\"node\">\n",
       "<title>8</title>\n",
       "<polygon fill=\"none\" stroke=\"black\" points=\"389.75,-277.5 286,-277.5 286,-203.5 389.75,-203.5 389.75,-277.5\"/>\n",
       "<text text-anchor=\"middle\" x=\"337.88\" y=\"-260.2\" font-family=\"Times New Roman,serif\" font-size=\"14.00\">X[5] &lt;= 4.0</text>\n",
       "<text text-anchor=\"middle\" x=\"337.88\" y=\"-243.7\" font-family=\"Times New Roman,serif\" font-size=\"14.00\">entropy = 0.191</text>\n",
       "<text text-anchor=\"middle\" x=\"337.88\" y=\"-227.2\" font-family=\"Times New Roman,serif\" font-size=\"14.00\">samples = 102</text>\n",
       "<text text-anchor=\"middle\" x=\"337.88\" y=\"-210.7\" font-family=\"Times New Roman,serif\" font-size=\"14.00\">value = [99, 3]</text>\n",
       "</g>\n",
       "<!-- 7&#45;&gt;8 -->\n",
       "<g id=\"edge8\" class=\"edge\">\n",
       "<title>7&#45;&gt;8</title>\n",
       "<path fill=\"none\" stroke=\"black\" d=\"M337.88,-313.24C337.88,-305.49 337.88,-297.2 337.88,-289.1\"/>\n",
       "<polygon fill=\"black\" stroke=\"black\" points=\"341.38,-289.36 337.88,-279.36 334.38,-289.36 341.38,-289.36\"/>\n",
       "</g>\n",
       "<!-- 13 -->\n",
       "<g id=\"node14\" class=\"node\">\n",
       "<title>13</title>\n",
       "<polygon fill=\"none\" stroke=\"black\" points=\"563.12,-277.5 458.62,-277.5 458.62,-203.5 563.12,-203.5 563.12,-277.5\"/>\n",
       "<text text-anchor=\"middle\" x=\"510.88\" y=\"-260.2\" font-family=\"Times New Roman,serif\" font-size=\"14.00\">X[5] &lt;= 7.887</text>\n",
       "<text text-anchor=\"middle\" x=\"510.88\" y=\"-243.7\" font-family=\"Times New Roman,serif\" font-size=\"14.00\">entropy = 0.979</text>\n",
       "<text text-anchor=\"middle\" x=\"510.88\" y=\"-227.2\" font-family=\"Times New Roman,serif\" font-size=\"14.00\">samples = 53</text>\n",
       "<text text-anchor=\"middle\" x=\"510.88\" y=\"-210.7\" font-family=\"Times New Roman,serif\" font-size=\"14.00\">value = [22, 31]</text>\n",
       "</g>\n",
       "<!-- 7&#45;&gt;13 -->\n",
       "<g id=\"edge13\" class=\"edge\">\n",
       "<title>7&#45;&gt;13</title>\n",
       "<path fill=\"none\" stroke=\"black\" d=\"M393.57,-314.73C411.23,-303.71 430.87,-291.45 448.94,-280.16\"/>\n",
       "<polygon fill=\"black\" stroke=\"black\" points=\"450.32,-283.43 456.95,-275.17 446.61,-277.49 450.32,-283.43\"/>\n",
       "</g>\n",
       "<!-- 9 -->\n",
       "<g id=\"node10\" class=\"node\">\n",
       "<title>9</title>\n",
       "<polygon fill=\"none\" stroke=\"black\" points=\"327.75,-167.5 224,-167.5 224,-93.5 327.75,-93.5 327.75,-167.5\"/>\n",
       "<text text-anchor=\"middle\" x=\"275.88\" y=\"-150.2\" font-family=\"Times New Roman,serif\" font-size=\"14.00\">X[0] &lt;= 26.5</text>\n",
       "<text text-anchor=\"middle\" x=\"275.88\" y=\"-133.7\" font-family=\"Times New Roman,serif\" font-size=\"14.00\">entropy = 0.985</text>\n",
       "<text text-anchor=\"middle\" x=\"275.88\" y=\"-117.2\" font-family=\"Times New Roman,serif\" font-size=\"14.00\">samples = 7</text>\n",
       "<text text-anchor=\"middle\" x=\"275.88\" y=\"-100.7\" font-family=\"Times New Roman,serif\" font-size=\"14.00\">value = [4, 3]</text>\n",
       "</g>\n",
       "<!-- 8&#45;&gt;9 -->\n",
       "<g id=\"edge9\" class=\"edge\">\n",
       "<title>8&#45;&gt;9</title>\n",
       "<path fill=\"none\" stroke=\"black\" d=\"M317.06,-203.24C312.35,-195.04 307.3,-186.24 302.4,-177.7\"/>\n",
       "<polygon fill=\"black\" stroke=\"black\" points=\"305.51,-176.09 297.5,-169.16 299.44,-179.58 305.51,-176.09\"/>\n",
       "</g>\n",
       "<!-- 12 -->\n",
       "<g id=\"node13\" class=\"node\">\n",
       "<title>12</title>\n",
       "<polygon fill=\"none\" stroke=\"black\" points=\"443.75,-159.25 346,-159.25 346,-101.75 443.75,-101.75 443.75,-159.25\"/>\n",
       "<text text-anchor=\"middle\" x=\"394.88\" y=\"-141.95\" font-family=\"Times New Roman,serif\" font-size=\"14.00\">entropy = 0.0</text>\n",
       "<text text-anchor=\"middle\" x=\"394.88\" y=\"-125.45\" font-family=\"Times New Roman,serif\" font-size=\"14.00\">samples = 95</text>\n",
       "<text text-anchor=\"middle\" x=\"394.88\" y=\"-108.95\" font-family=\"Times New Roman,serif\" font-size=\"14.00\">value = [95, 0]</text>\n",
       "</g>\n",
       "<!-- 8&#45;&gt;12 -->\n",
       "<g id=\"edge12\" class=\"edge\">\n",
       "<title>8&#45;&gt;12</title>\n",
       "<path fill=\"none\" stroke=\"black\" d=\"M357.01,-203.24C362.7,-192.46 368.95,-180.63 374.7,-169.74\"/>\n",
       "<polygon fill=\"black\" stroke=\"black\" points=\"377.74,-171.46 379.32,-160.98 371.55,-168.19 377.74,-171.46\"/>\n",
       "</g>\n",
       "<!-- 10 -->\n",
       "<g id=\"node11\" class=\"node\">\n",
       "<title>10</title>\n",
       "<polygon fill=\"none\" stroke=\"black\" points=\"266.38,-57.5 175.38,-57.5 175.38,0 266.38,0 266.38,-57.5\"/>\n",
       "<text text-anchor=\"middle\" x=\"220.88\" y=\"-40.2\" font-family=\"Times New Roman,serif\" font-size=\"14.00\">entropy = 0.0</text>\n",
       "<text text-anchor=\"middle\" x=\"220.88\" y=\"-23.7\" font-family=\"Times New Roman,serif\" font-size=\"14.00\">samples = 3</text>\n",
       "<text text-anchor=\"middle\" x=\"220.88\" y=\"-7.2\" font-family=\"Times New Roman,serif\" font-size=\"14.00\">value = [0, 3]</text>\n",
       "</g>\n",
       "<!-- 9&#45;&gt;10 -->\n",
       "<g id=\"edge10\" class=\"edge\">\n",
       "<title>9&#45;&gt;10</title>\n",
       "<path fill=\"none\" stroke=\"black\" d=\"M255.86,-93.21C251.28,-84.89 246.39,-76.03 241.77,-67.65\"/>\n",
       "<polygon fill=\"black\" stroke=\"black\" points=\"244.93,-66.12 237.03,-59.05 238.8,-69.5 244.93,-66.12\"/>\n",
       "</g>\n",
       "<!-- 11 -->\n",
       "<g id=\"node12\" class=\"node\">\n",
       "<title>11</title>\n",
       "<polygon fill=\"none\" stroke=\"black\" points=\"375.38,-57.5 284.38,-57.5 284.38,0 375.38,0 375.38,-57.5\"/>\n",
       "<text text-anchor=\"middle\" x=\"329.88\" y=\"-40.2\" font-family=\"Times New Roman,serif\" font-size=\"14.00\">entropy = 0.0</text>\n",
       "<text text-anchor=\"middle\" x=\"329.88\" y=\"-23.7\" font-family=\"Times New Roman,serif\" font-size=\"14.00\">samples = 4</text>\n",
       "<text text-anchor=\"middle\" x=\"329.88\" y=\"-7.2\" font-family=\"Times New Roman,serif\" font-size=\"14.00\">value = [4, 0]</text>\n",
       "</g>\n",
       "<!-- 9&#45;&gt;11 -->\n",
       "<g id=\"edge11\" class=\"edge\">\n",
       "<title>9&#45;&gt;11</title>\n",
       "<path fill=\"none\" stroke=\"black\" d=\"M295.52,-93.21C300.03,-84.89 304.82,-76.03 309.36,-67.65\"/>\n",
       "<polygon fill=\"black\" stroke=\"black\" points=\"312.33,-69.52 314.01,-59.06 306.17,-66.19 312.33,-69.52\"/>\n",
       "</g>\n",
       "<!-- 14 -->\n",
       "<g id=\"node15\" class=\"node\">\n",
       "<title>14</title>\n",
       "<polygon fill=\"none\" stroke=\"black\" points=\"559.75,-159.25 462,-159.25 462,-101.75 559.75,-101.75 559.75,-159.25\"/>\n",
       "<text text-anchor=\"middle\" x=\"510.88\" y=\"-141.95\" font-family=\"Times New Roman,serif\" font-size=\"14.00\">entropy = 0.0</text>\n",
       "<text text-anchor=\"middle\" x=\"510.88\" y=\"-125.45\" font-family=\"Times New Roman,serif\" font-size=\"14.00\">samples = 31</text>\n",
       "<text text-anchor=\"middle\" x=\"510.88\" y=\"-108.95\" font-family=\"Times New Roman,serif\" font-size=\"14.00\">value = [0, 31]</text>\n",
       "</g>\n",
       "<!-- 13&#45;&gt;14 -->\n",
       "<g id=\"edge14\" class=\"edge\">\n",
       "<title>13&#45;&gt;14</title>\n",
       "<path fill=\"none\" stroke=\"black\" d=\"M510.88,-203.24C510.88,-192.91 510.88,-181.6 510.88,-171.09\"/>\n",
       "<polygon fill=\"black\" stroke=\"black\" points=\"514.38,-171.16 510.88,-161.16 507.38,-171.16 514.38,-171.16\"/>\n",
       "</g>\n",
       "<!-- 15 -->\n",
       "<g id=\"node16\" class=\"node\">\n",
       "<title>15</title>\n",
       "<polygon fill=\"none\" stroke=\"black\" points=\"675.75,-159.25 578,-159.25 578,-101.75 675.75,-101.75 675.75,-159.25\"/>\n",
       "<text text-anchor=\"middle\" x=\"626.88\" y=\"-141.95\" font-family=\"Times New Roman,serif\" font-size=\"14.00\">entropy = 0.0</text>\n",
       "<text text-anchor=\"middle\" x=\"626.88\" y=\"-125.45\" font-family=\"Times New Roman,serif\" font-size=\"14.00\">samples = 22</text>\n",
       "<text text-anchor=\"middle\" x=\"626.88\" y=\"-108.95\" font-family=\"Times New Roman,serif\" font-size=\"14.00\">value = [22, 0]</text>\n",
       "</g>\n",
       "<!-- 13&#45;&gt;15 -->\n",
       "<g id=\"edge15\" class=\"edge\">\n",
       "<title>13&#45;&gt;15</title>\n",
       "<path fill=\"none\" stroke=\"black\" d=\"M549.82,-203.24C562.23,-191.69 575.95,-178.92 588.32,-167.39\"/>\n",
       "<polygon fill=\"black\" stroke=\"black\" points=\"590.61,-170.05 595.54,-160.67 585.84,-164.93 590.61,-170.05\"/>\n",
       "</g>\n",
       "</g>\n",
       "</svg>\n"
      ],
      "text/plain": [
       "<graphviz.sources.Source at 0x1cf54ce0908>"
      ]
     },
     "execution_count": 30,
     "metadata": {},
     "output_type": "execute_result"
    }
   ],
   "source": [
    "# We can do so with export_graphviz\n",
    "import graphviz\n",
    "dot_data = tree.export_graphviz(entr_model, out_file=None)\n",
    "graph = graphviz.Source(dot_data)\n",
    "graph"
   ]
  },
  {
   "cell_type": "code",
   "execution_count": 31,
   "metadata": {},
   "outputs": [
    {
     "data": {
      "image/svg+xml": [
       "<?xml version=\"1.0\" encoding=\"UTF-8\" standalone=\"no\"?>\n",
       "<!DOCTYPE svg PUBLIC \"-//W3C//DTD SVG 1.1//EN\"\n",
       " \"http://www.w3.org/Graphics/SVG/1.1/DTD/svg11.dtd\">\n",
       "<!-- Generated by graphviz version 12.2.1 (20241206.2353)\n",
       " -->\n",
       "<!-- Title: Tree Pages: 1 -->\n",
       "<svg width=\"684pt\" height=\"616pt\"\n",
       " viewBox=\"0.00 0.00 683.75 615.50\" xmlns=\"http://www.w3.org/2000/svg\" xmlns:xlink=\"http://www.w3.org/1999/xlink\">\n",
       "<g id=\"graph0\" class=\"graph\" transform=\"scale(1 1) rotate(0) translate(4 611.5)\">\n",
       "<title>Tree</title>\n",
       "<polygon fill=\"white\" stroke=\"none\" points=\"-4,4 -4,-611.5 679.75,-611.5 679.75,4 -4,4\"/>\n",
       "<!-- 0 -->\n",
       "<g id=\"node1\" class=\"node\">\n",
       "<title>0</title>\n",
       "<polygon fill=\"none\" stroke=\"black\" points=\"346.88,-607.5 228.88,-607.5 228.88,-533.5 346.88,-533.5 346.88,-607.5\"/>\n",
       "<text text-anchor=\"middle\" x=\"287.88\" y=\"-590.2\" font-family=\"Times New Roman,serif\" font-size=\"14.00\">X[3] &lt;= 138.0</text>\n",
       "<text text-anchor=\"middle\" x=\"287.88\" y=\"-573.7\" font-family=\"Times New Roman,serif\" font-size=\"14.00\">entropy = 0.948</text>\n",
       "<text text-anchor=\"middle\" x=\"287.88\" y=\"-557.2\" font-family=\"Times New Roman,serif\" font-size=\"14.00\">samples = 355</text>\n",
       "<text text-anchor=\"middle\" x=\"287.88\" y=\"-540.7\" font-family=\"Times New Roman,serif\" font-size=\"14.00\">value = [130, 225]</text>\n",
       "</g>\n",
       "<!-- 1 -->\n",
       "<g id=\"node2\" class=\"node\">\n",
       "<title>1</title>\n",
       "<polygon fill=\"none\" stroke=\"black\" points=\"282.88,-497.5 164.88,-497.5 164.88,-423.5 282.88,-423.5 282.88,-497.5\"/>\n",
       "<text text-anchor=\"middle\" x=\"223.88\" y=\"-480.2\" font-family=\"Times New Roman,serif\" font-size=\"14.00\">X[5] &lt;= 3.524</text>\n",
       "<text text-anchor=\"middle\" x=\"223.88\" y=\"-463.7\" font-family=\"Times New Roman,serif\" font-size=\"14.00\">entropy = 0.991</text>\n",
       "<text text-anchor=\"middle\" x=\"223.88\" y=\"-447.2\" font-family=\"Times New Roman,serif\" font-size=\"14.00\">samples = 234</text>\n",
       "<text text-anchor=\"middle\" x=\"223.88\" y=\"-430.7\" font-family=\"Times New Roman,serif\" font-size=\"14.00\">value = [130, 104]</text>\n",
       "</g>\n",
       "<!-- 0&#45;&gt;1 -->\n",
       "<g id=\"edge1\" class=\"edge\">\n",
       "<title>0&#45;&gt;1</title>\n",
       "<path fill=\"none\" stroke=\"black\" d=\"M266.39,-533.24C261.53,-525.04 256.31,-516.24 251.25,-507.7\"/>\n",
       "<polygon fill=\"black\" stroke=\"black\" points=\"254.3,-505.97 246.19,-499.15 248.27,-509.54 254.3,-505.97\"/>\n",
       "<text text-anchor=\"middle\" x=\"239.22\" y=\"-517.02\" font-family=\"Times New Roman,serif\" font-size=\"14.00\">True</text>\n",
       "</g>\n",
       "<!-- 16 -->\n",
       "<g id=\"node17\" class=\"node\">\n",
       "<title>16</title>\n",
       "<polygon fill=\"none\" stroke=\"black\" points=\"405.12,-489.25 300.62,-489.25 300.62,-431.75 405.12,-431.75 405.12,-489.25\"/>\n",
       "<text text-anchor=\"middle\" x=\"352.88\" y=\"-471.95\" font-family=\"Times New Roman,serif\" font-size=\"14.00\">entropy = 0.0</text>\n",
       "<text text-anchor=\"middle\" x=\"352.88\" y=\"-455.45\" font-family=\"Times New Roman,serif\" font-size=\"14.00\">samples = 121</text>\n",
       "<text text-anchor=\"middle\" x=\"352.88\" y=\"-438.95\" font-family=\"Times New Roman,serif\" font-size=\"14.00\">value = [0, 121]</text>\n",
       "</g>\n",
       "<!-- 0&#45;&gt;16 -->\n",
       "<g id=\"edge16\" class=\"edge\">\n",
       "<title>0&#45;&gt;16</title>\n",
       "<path fill=\"none\" stroke=\"black\" d=\"M309.7,-533.24C316.25,-522.35 323.45,-510.39 330.07,-499.4\"/>\n",
       "<polygon fill=\"black\" stroke=\"black\" points=\"333,-501.31 335.16,-490.94 327,-497.7 333,-501.31\"/>\n",
       "<text text-anchor=\"middle\" x=\"341.97\" y=\"-508.85\" font-family=\"Times New Roman,serif\" font-size=\"14.00\">False</text>\n",
       "</g>\n",
       "<!-- 2 -->\n",
       "<g id=\"node3\" class=\"node\">\n",
       "<title>2</title>\n",
       "<polygon fill=\"none\" stroke=\"black\" points=\"212.75,-387.5 109,-387.5 109,-313.5 212.75,-313.5 212.75,-387.5\"/>\n",
       "<text text-anchor=\"middle\" x=\"160.88\" y=\"-370.2\" font-family=\"Times New Roman,serif\" font-size=\"14.00\">X[3] &lt;= 24.5</text>\n",
       "<text text-anchor=\"middle\" x=\"160.88\" y=\"-353.7\" font-family=\"Times New Roman,serif\" font-size=\"14.00\">entropy = 0.512</text>\n",
       "<text text-anchor=\"middle\" x=\"160.88\" y=\"-337.2\" font-family=\"Times New Roman,serif\" font-size=\"14.00\">samples = 79</text>\n",
       "<text text-anchor=\"middle\" x=\"160.88\" y=\"-320.7\" font-family=\"Times New Roman,serif\" font-size=\"14.00\">value = [9, 70]</text>\n",
       "</g>\n",
       "<!-- 1&#45;&gt;2 -->\n",
       "<g id=\"edge2\" class=\"edge\">\n",
       "<title>1&#45;&gt;2</title>\n",
       "<path fill=\"none\" stroke=\"black\" d=\"M202.72,-423.24C197.94,-415.04 192.81,-406.24 187.83,-397.7\"/>\n",
       "<polygon fill=\"black\" stroke=\"black\" points=\"190.9,-396.03 182.84,-389.16 184.86,-399.56 190.9,-396.03\"/>\n",
       "</g>\n",
       "<!-- 7 -->\n",
       "<g id=\"node8\" class=\"node\">\n",
       "<title>7</title>\n",
       "<polygon fill=\"none\" stroke=\"black\" points=\"393.5,-387.5 282.25,-387.5 282.25,-313.5 393.5,-313.5 393.5,-387.5\"/>\n",
       "<text text-anchor=\"middle\" x=\"337.88\" y=\"-370.2\" font-family=\"Times New Roman,serif\" font-size=\"14.00\">X[3] &lt;= 101.0</text>\n",
       "<text text-anchor=\"middle\" x=\"337.88\" y=\"-353.7\" font-family=\"Times New Roman,serif\" font-size=\"14.00\">entropy = 0.759</text>\n",
       "<text text-anchor=\"middle\" x=\"337.88\" y=\"-337.2\" font-family=\"Times New Roman,serif\" font-size=\"14.00\">samples = 155</text>\n",
       "<text text-anchor=\"middle\" x=\"337.88\" y=\"-320.7\" font-family=\"Times New Roman,serif\" font-size=\"14.00\">value = [121, 34]</text>\n",
       "</g>\n",
       "<!-- 1&#45;&gt;7 -->\n",
       "<g id=\"edge7\" class=\"edge\">\n",
       "<title>1&#45;&gt;7</title>\n",
       "<path fill=\"none\" stroke=\"black\" d=\"M262.15,-423.24C271.46,-414.42 281.51,-404.9 291.16,-395.76\"/>\n",
       "<polygon fill=\"black\" stroke=\"black\" points=\"293.55,-398.31 298.41,-388.89 288.74,-393.23 293.55,-398.31\"/>\n",
       "</g>\n",
       "<!-- 3 -->\n",
       "<g id=\"node4\" class=\"node\">\n",
       "<title>3</title>\n",
       "<polygon fill=\"none\" stroke=\"black\" points=\"91.38,-269.25 0.38,-269.25 0.38,-211.75 91.38,-211.75 91.38,-269.25\"/>\n",
       "<text text-anchor=\"middle\" x=\"45.88\" y=\"-251.95\" font-family=\"Times New Roman,serif\" font-size=\"14.00\">entropy = 0.0</text>\n",
       "<text text-anchor=\"middle\" x=\"45.88\" y=\"-235.45\" font-family=\"Times New Roman,serif\" font-size=\"14.00\">samples = 8</text>\n",
       "<text text-anchor=\"middle\" x=\"45.88\" y=\"-218.95\" font-family=\"Times New Roman,serif\" font-size=\"14.00\">value = [8, 0]</text>\n",
       "</g>\n",
       "<!-- 2&#45;&gt;3 -->\n",
       "<g id=\"edge3\" class=\"edge\">\n",
       "<title>2&#45;&gt;3</title>\n",
       "<path fill=\"none\" stroke=\"black\" d=\"M122.26,-313.24C109.96,-301.69 96.36,-288.92 84.09,-277.39\"/>\n",
       "<polygon fill=\"black\" stroke=\"black\" points=\"86.63,-274.97 76.94,-270.68 81.84,-280.08 86.63,-274.97\"/>\n",
       "</g>\n",
       "<!-- 4 -->\n",
       "<g id=\"node5\" class=\"node\">\n",
       "<title>4</title>\n",
       "<polygon fill=\"none\" stroke=\"black\" points=\"212.75,-277.5 109,-277.5 109,-203.5 212.75,-203.5 212.75,-277.5\"/>\n",
       "<text text-anchor=\"middle\" x=\"160.88\" y=\"-260.2\" font-family=\"Times New Roman,serif\" font-size=\"14.00\">X[0] &lt;= 59.0</text>\n",
       "<text text-anchor=\"middle\" x=\"160.88\" y=\"-243.7\" font-family=\"Times New Roman,serif\" font-size=\"14.00\">entropy = 0.107</text>\n",
       "<text text-anchor=\"middle\" x=\"160.88\" y=\"-227.2\" font-family=\"Times New Roman,serif\" font-size=\"14.00\">samples = 71</text>\n",
       "<text text-anchor=\"middle\" x=\"160.88\" y=\"-210.7\" font-family=\"Times New Roman,serif\" font-size=\"14.00\">value = [1, 70]</text>\n",
       "</g>\n",
       "<!-- 2&#45;&gt;4 -->\n",
       "<g id=\"edge4\" class=\"edge\">\n",
       "<title>2&#45;&gt;4</title>\n",
       "<path fill=\"none\" stroke=\"black\" d=\"M160.88,-313.24C160.88,-305.49 160.88,-297.2 160.88,-289.1\"/>\n",
       "<polygon fill=\"black\" stroke=\"black\" points=\"164.38,-289.36 160.88,-279.36 157.38,-289.36 164.38,-289.36\"/>\n",
       "</g>\n",
       "<!-- 5 -->\n",
       "<g id=\"node6\" class=\"node\">\n",
       "<title>5</title>\n",
       "<polygon fill=\"none\" stroke=\"black\" points=\"97.75,-159.25 0,-159.25 0,-101.75 97.75,-101.75 97.75,-159.25\"/>\n",
       "<text text-anchor=\"middle\" x=\"48.88\" y=\"-141.95\" font-family=\"Times New Roman,serif\" font-size=\"14.00\">entropy = 0.0</text>\n",
       "<text text-anchor=\"middle\" x=\"48.88\" y=\"-125.45\" font-family=\"Times New Roman,serif\" font-size=\"14.00\">samples = 70</text>\n",
       "<text text-anchor=\"middle\" x=\"48.88\" y=\"-108.95\" font-family=\"Times New Roman,serif\" font-size=\"14.00\">value = [0, 70]</text>\n",
       "</g>\n",
       "<!-- 4&#45;&gt;5 -->\n",
       "<g id=\"edge5\" class=\"edge\">\n",
       "<title>4&#45;&gt;5</title>\n",
       "<path fill=\"none\" stroke=\"black\" d=\"M123.27,-203.24C111.29,-191.69 98.05,-178.92 86.1,-167.39\"/>\n",
       "<polygon fill=\"black\" stroke=\"black\" points=\"88.78,-165.11 79.15,-160.69 83.92,-170.15 88.78,-165.11\"/>\n",
       "</g>\n",
       "<!-- 6 -->\n",
       "<g id=\"node7\" class=\"node\">\n",
       "<title>6</title>\n",
       "<polygon fill=\"none\" stroke=\"black\" points=\"206.38,-159.25 115.38,-159.25 115.38,-101.75 206.38,-101.75 206.38,-159.25\"/>\n",
       "<text text-anchor=\"middle\" x=\"160.88\" y=\"-141.95\" font-family=\"Times New Roman,serif\" font-size=\"14.00\">entropy = 0.0</text>\n",
       "<text text-anchor=\"middle\" x=\"160.88\" y=\"-125.45\" font-family=\"Times New Roman,serif\" font-size=\"14.00\">samples = 1</text>\n",
       "<text text-anchor=\"middle\" x=\"160.88\" y=\"-108.95\" font-family=\"Times New Roman,serif\" font-size=\"14.00\">value = [1, 0]</text>\n",
       "</g>\n",
       "<!-- 4&#45;&gt;6 -->\n",
       "<g id=\"edge6\" class=\"edge\">\n",
       "<title>4&#45;&gt;6</title>\n",
       "<path fill=\"none\" stroke=\"black\" d=\"M160.88,-203.24C160.88,-192.91 160.88,-181.6 160.88,-171.09\"/>\n",
       "<polygon fill=\"black\" stroke=\"black\" points=\"164.38,-171.16 160.88,-161.16 157.38,-171.16 164.38,-171.16\"/>\n",
       "</g>\n",
       "<!-- 8 -->\n",
       "<g id=\"node9\" class=\"node\">\n",
       "<title>8</title>\n",
       "<polygon fill=\"none\" stroke=\"black\" points=\"389.75,-277.5 286,-277.5 286,-203.5 389.75,-203.5 389.75,-277.5\"/>\n",
       "<text text-anchor=\"middle\" x=\"337.88\" y=\"-260.2\" font-family=\"Times New Roman,serif\" font-size=\"14.00\">X[5] &lt;= 4.0</text>\n",
       "<text text-anchor=\"middle\" x=\"337.88\" y=\"-243.7\" font-family=\"Times New Roman,serif\" font-size=\"14.00\">entropy = 0.191</text>\n",
       "<text text-anchor=\"middle\" x=\"337.88\" y=\"-227.2\" font-family=\"Times New Roman,serif\" font-size=\"14.00\">samples = 102</text>\n",
       "<text text-anchor=\"middle\" x=\"337.88\" y=\"-210.7\" font-family=\"Times New Roman,serif\" font-size=\"14.00\">value = [99, 3]</text>\n",
       "</g>\n",
       "<!-- 7&#45;&gt;8 -->\n",
       "<g id=\"edge8\" class=\"edge\">\n",
       "<title>7&#45;&gt;8</title>\n",
       "<path fill=\"none\" stroke=\"black\" d=\"M337.88,-313.24C337.88,-305.49 337.88,-297.2 337.88,-289.1\"/>\n",
       "<polygon fill=\"black\" stroke=\"black\" points=\"341.38,-289.36 337.88,-279.36 334.38,-289.36 341.38,-289.36\"/>\n",
       "</g>\n",
       "<!-- 13 -->\n",
       "<g id=\"node14\" class=\"node\">\n",
       "<title>13</title>\n",
       "<polygon fill=\"none\" stroke=\"black\" points=\"563.12,-277.5 458.62,-277.5 458.62,-203.5 563.12,-203.5 563.12,-277.5\"/>\n",
       "<text text-anchor=\"middle\" x=\"510.88\" y=\"-260.2\" font-family=\"Times New Roman,serif\" font-size=\"14.00\">X[5] &lt;= 7.887</text>\n",
       "<text text-anchor=\"middle\" x=\"510.88\" y=\"-243.7\" font-family=\"Times New Roman,serif\" font-size=\"14.00\">entropy = 0.979</text>\n",
       "<text text-anchor=\"middle\" x=\"510.88\" y=\"-227.2\" font-family=\"Times New Roman,serif\" font-size=\"14.00\">samples = 53</text>\n",
       "<text text-anchor=\"middle\" x=\"510.88\" y=\"-210.7\" font-family=\"Times New Roman,serif\" font-size=\"14.00\">value = [22, 31]</text>\n",
       "</g>\n",
       "<!-- 7&#45;&gt;13 -->\n",
       "<g id=\"edge13\" class=\"edge\">\n",
       "<title>7&#45;&gt;13</title>\n",
       "<path fill=\"none\" stroke=\"black\" d=\"M393.57,-314.73C411.23,-303.71 430.87,-291.45 448.94,-280.16\"/>\n",
       "<polygon fill=\"black\" stroke=\"black\" points=\"450.32,-283.43 456.95,-275.17 446.61,-277.49 450.32,-283.43\"/>\n",
       "</g>\n",
       "<!-- 9 -->\n",
       "<g id=\"node10\" class=\"node\">\n",
       "<title>9</title>\n",
       "<polygon fill=\"none\" stroke=\"black\" points=\"327.75,-167.5 224,-167.5 224,-93.5 327.75,-93.5 327.75,-167.5\"/>\n",
       "<text text-anchor=\"middle\" x=\"275.88\" y=\"-150.2\" font-family=\"Times New Roman,serif\" font-size=\"14.00\">X[0] &lt;= 26.5</text>\n",
       "<text text-anchor=\"middle\" x=\"275.88\" y=\"-133.7\" font-family=\"Times New Roman,serif\" font-size=\"14.00\">entropy = 0.985</text>\n",
       "<text text-anchor=\"middle\" x=\"275.88\" y=\"-117.2\" font-family=\"Times New Roman,serif\" font-size=\"14.00\">samples = 7</text>\n",
       "<text text-anchor=\"middle\" x=\"275.88\" y=\"-100.7\" font-family=\"Times New Roman,serif\" font-size=\"14.00\">value = [4, 3]</text>\n",
       "</g>\n",
       "<!-- 8&#45;&gt;9 -->\n",
       "<g id=\"edge9\" class=\"edge\">\n",
       "<title>8&#45;&gt;9</title>\n",
       "<path fill=\"none\" stroke=\"black\" d=\"M317.06,-203.24C312.35,-195.04 307.3,-186.24 302.4,-177.7\"/>\n",
       "<polygon fill=\"black\" stroke=\"black\" points=\"305.51,-176.09 297.5,-169.16 299.44,-179.58 305.51,-176.09\"/>\n",
       "</g>\n",
       "<!-- 12 -->\n",
       "<g id=\"node13\" class=\"node\">\n",
       "<title>12</title>\n",
       "<polygon fill=\"none\" stroke=\"black\" points=\"443.75,-159.25 346,-159.25 346,-101.75 443.75,-101.75 443.75,-159.25\"/>\n",
       "<text text-anchor=\"middle\" x=\"394.88\" y=\"-141.95\" font-family=\"Times New Roman,serif\" font-size=\"14.00\">entropy = 0.0</text>\n",
       "<text text-anchor=\"middle\" x=\"394.88\" y=\"-125.45\" font-family=\"Times New Roman,serif\" font-size=\"14.00\">samples = 95</text>\n",
       "<text text-anchor=\"middle\" x=\"394.88\" y=\"-108.95\" font-family=\"Times New Roman,serif\" font-size=\"14.00\">value = [95, 0]</text>\n",
       "</g>\n",
       "<!-- 8&#45;&gt;12 -->\n",
       "<g id=\"edge12\" class=\"edge\">\n",
       "<title>8&#45;&gt;12</title>\n",
       "<path fill=\"none\" stroke=\"black\" d=\"M357.01,-203.24C362.7,-192.46 368.95,-180.63 374.7,-169.74\"/>\n",
       "<polygon fill=\"black\" stroke=\"black\" points=\"377.74,-171.46 379.32,-160.98 371.55,-168.19 377.74,-171.46\"/>\n",
       "</g>\n",
       "<!-- 10 -->\n",
       "<g id=\"node11\" class=\"node\">\n",
       "<title>10</title>\n",
       "<polygon fill=\"none\" stroke=\"black\" points=\"266.38,-57.5 175.38,-57.5 175.38,0 266.38,0 266.38,-57.5\"/>\n",
       "<text text-anchor=\"middle\" x=\"220.88\" y=\"-40.2\" font-family=\"Times New Roman,serif\" font-size=\"14.00\">entropy = 0.0</text>\n",
       "<text text-anchor=\"middle\" x=\"220.88\" y=\"-23.7\" font-family=\"Times New Roman,serif\" font-size=\"14.00\">samples = 3</text>\n",
       "<text text-anchor=\"middle\" x=\"220.88\" y=\"-7.2\" font-family=\"Times New Roman,serif\" font-size=\"14.00\">value = [0, 3]</text>\n",
       "</g>\n",
       "<!-- 9&#45;&gt;10 -->\n",
       "<g id=\"edge10\" class=\"edge\">\n",
       "<title>9&#45;&gt;10</title>\n",
       "<path fill=\"none\" stroke=\"black\" d=\"M255.86,-93.21C251.28,-84.89 246.39,-76.03 241.77,-67.65\"/>\n",
       "<polygon fill=\"black\" stroke=\"black\" points=\"244.93,-66.12 237.03,-59.05 238.8,-69.5 244.93,-66.12\"/>\n",
       "</g>\n",
       "<!-- 11 -->\n",
       "<g id=\"node12\" class=\"node\">\n",
       "<title>11</title>\n",
       "<polygon fill=\"none\" stroke=\"black\" points=\"375.38,-57.5 284.38,-57.5 284.38,0 375.38,0 375.38,-57.5\"/>\n",
       "<text text-anchor=\"middle\" x=\"329.88\" y=\"-40.2\" font-family=\"Times New Roman,serif\" font-size=\"14.00\">entropy = 0.0</text>\n",
       "<text text-anchor=\"middle\" x=\"329.88\" y=\"-23.7\" font-family=\"Times New Roman,serif\" font-size=\"14.00\">samples = 4</text>\n",
       "<text text-anchor=\"middle\" x=\"329.88\" y=\"-7.2\" font-family=\"Times New Roman,serif\" font-size=\"14.00\">value = [4, 0]</text>\n",
       "</g>\n",
       "<!-- 9&#45;&gt;11 -->\n",
       "<g id=\"edge11\" class=\"edge\">\n",
       "<title>9&#45;&gt;11</title>\n",
       "<path fill=\"none\" stroke=\"black\" d=\"M295.52,-93.21C300.03,-84.89 304.82,-76.03 309.36,-67.65\"/>\n",
       "<polygon fill=\"black\" stroke=\"black\" points=\"312.33,-69.52 314.01,-59.06 306.17,-66.19 312.33,-69.52\"/>\n",
       "</g>\n",
       "<!-- 14 -->\n",
       "<g id=\"node15\" class=\"node\">\n",
       "<title>14</title>\n",
       "<polygon fill=\"none\" stroke=\"black\" points=\"559.75,-159.25 462,-159.25 462,-101.75 559.75,-101.75 559.75,-159.25\"/>\n",
       "<text text-anchor=\"middle\" x=\"510.88\" y=\"-141.95\" font-family=\"Times New Roman,serif\" font-size=\"14.00\">entropy = 0.0</text>\n",
       "<text text-anchor=\"middle\" x=\"510.88\" y=\"-125.45\" font-family=\"Times New Roman,serif\" font-size=\"14.00\">samples = 31</text>\n",
       "<text text-anchor=\"middle\" x=\"510.88\" y=\"-108.95\" font-family=\"Times New Roman,serif\" font-size=\"14.00\">value = [0, 31]</text>\n",
       "</g>\n",
       "<!-- 13&#45;&gt;14 -->\n",
       "<g id=\"edge14\" class=\"edge\">\n",
       "<title>13&#45;&gt;14</title>\n",
       "<path fill=\"none\" stroke=\"black\" d=\"M510.88,-203.24C510.88,-192.91 510.88,-181.6 510.88,-171.09\"/>\n",
       "<polygon fill=\"black\" stroke=\"black\" points=\"514.38,-171.16 510.88,-161.16 507.38,-171.16 514.38,-171.16\"/>\n",
       "</g>\n",
       "<!-- 15 -->\n",
       "<g id=\"node16\" class=\"node\">\n",
       "<title>15</title>\n",
       "<polygon fill=\"none\" stroke=\"black\" points=\"675.75,-159.25 578,-159.25 578,-101.75 675.75,-101.75 675.75,-159.25\"/>\n",
       "<text text-anchor=\"middle\" x=\"626.88\" y=\"-141.95\" font-family=\"Times New Roman,serif\" font-size=\"14.00\">entropy = 0.0</text>\n",
       "<text text-anchor=\"middle\" x=\"626.88\" y=\"-125.45\" font-family=\"Times New Roman,serif\" font-size=\"14.00\">samples = 22</text>\n",
       "<text text-anchor=\"middle\" x=\"626.88\" y=\"-108.95\" font-family=\"Times New Roman,serif\" font-size=\"14.00\">value = [22, 0]</text>\n",
       "</g>\n",
       "<!-- 13&#45;&gt;15 -->\n",
       "<g id=\"edge15\" class=\"edge\">\n",
       "<title>13&#45;&gt;15</title>\n",
       "<path fill=\"none\" stroke=\"black\" d=\"M549.82,-203.24C562.23,-191.69 575.95,-178.92 588.32,-167.39\"/>\n",
       "<polygon fill=\"black\" stroke=\"black\" points=\"590.61,-170.05 595.54,-160.67 585.84,-164.93 590.61,-170.05\"/>\n",
       "</g>\n",
       "</g>\n",
       "</svg>\n"
      ],
      "text/plain": [
       "<graphviz.sources.Source at 0x1cf54ce0908>"
      ]
     },
     "execution_count": 31,
     "metadata": {},
     "output_type": "execute_result"
    }
   ],
   "source": [
    "# Alternatively for class_names use entr_model.classes_\n",
    "dot_data = tree.export_graphviz(entr_model, out_file=None, class_names=entr_model.classes_)\n",
    "graphviz.Source(dot_data)\n",
    "graph"
   ]
  },
  {
   "cell_type": "markdown",
   "metadata": {
    "colab_type": "text",
    "id": "dFbii4IADuWg"
   },
   "source": [
    "## Model 1: Entropy model - no max_depth: Interpretation and evaluation"
   ]
  },
  {
   "cell_type": "code",
   "execution_count": 32,
   "metadata": {
    "colab": {},
    "colab_type": "code",
    "id": "XRL0klK4DuWh"
   },
   "outputs": [
    {
     "name": "stdout",
     "output_type": "stream",
     "text": [
      "Model Entropy - no max depth\n",
      "Accuracy: 0.9915966386554622\n",
      "Balanced accuracy: 0.9878048780487805\n",
      "Precision score for \"Yes\" 0.9873417721518988\n",
      "Precision score for \"No\" 1.0\n",
      "Recall score for \"Yes\" 1.0\n",
      "Recall score for \"No\" 0.975609756097561\n"
     ]
    }
   ],
   "source": [
    "# Run this block for model evaluation metrics \n",
    "print(\"Model Entropy - no max depth\")\n",
    "print(\"Accuracy:\", metrics.accuracy_score(y_test,y_pred))\n",
    "print(\"Balanced accuracy:\", metrics.balanced_accuracy_score(y_test,y_pred))\n",
    "print('Precision score for \"Yes\"' , metrics.precision_score(y_test,y_pred, pos_label = \"YES\"))\n",
    "print('Precision score for \"No\"' , metrics.precision_score(y_test,y_pred, pos_label = \"NO\"))\n",
    "print('Recall score for \"Yes\"' , metrics.recall_score(y_test,y_pred, pos_label = \"YES\"))\n",
    "print('Recall score for \"No\"' , metrics.recall_score(y_test,y_pred, pos_label = \"NO\"))"
   ]
  },
  {
   "cell_type": "markdown",
   "metadata": {
    "colab_type": "text",
    "id": "icGOPFQ_DuWj"
   },
   "source": [
    "What can you infer from these results? Write your conclusions here:"
   ]
  },
  {
   "cell_type": "markdown",
   "metadata": {
    "colab_type": "text",
    "id": "MHipdpfxDuWk"
   },
   "source": [
    "## Model 2: Gini impurity model - no max_depth\n",
    "\n",
    "Gini impurity, like entropy, is a measure of how well a given feature (and threshold) splits the data into categories.\n",
    "\n",
    "Their equations are similar, but Gini impurity doesn't require logorathmic functions, which can be computationally expensive. "
   ]
  },
  {
   "cell_type": "code",
   "execution_count": 33,
   "metadata": {
    "colab": {},
    "colab_type": "code",
    "id": "FyBljeIpDuWl"
   },
   "outputs": [
    {
     "data": {
      "text/plain": [
       "DecisionTreeClassifier(ccp_alpha=0.0, class_weight=None, criterion='gini',\n",
       "                       max_depth=None, max_features=None, max_leaf_nodes=None,\n",
       "                       min_impurity_decrease=0.0, min_impurity_split=None,\n",
       "                       min_samples_leaf=1, min_samples_split=2,\n",
       "                       min_weight_fraction_leaf=0.0, presort='deprecated',\n",
       "                       random_state=1234, splitter='best')"
      ]
     },
     "execution_count": 33,
     "metadata": {},
     "output_type": "execute_result"
    }
   ],
   "source": [
    "# Make a variable called gini_model, and assign it exactly what you assigned entr_model with above, but with the\n",
    "# criterion changed to 'gini'\n",
    "gini_model =  tree.DecisionTreeClassifier(criterion='gini', random_state=1234)\n",
    "\n",
    "# Call fit() on the gini_model as you did with the entr_model\n",
    "gini_model.fit(X_train, y_train) \n",
    "\n",
    "# Call predict() on the gini_model as you did with the entr_model \n",
    "y_pred = gini_model.predict(X_test)\n",
    "\n",
    "# Turn y_pred into a series, as before\n",
    "y_pred = pd.Series(y_pred)\n",
    "\n",
    "# Check out gini_model\n",
    "gini_model"
   ]
  },
  {
   "cell_type": "code",
   "execution_count": 34,
   "metadata": {
    "colab": {},
    "colab_type": "code",
    "id": "d20SMUmgDuWo"
   },
   "outputs": [
    {
     "data": {
      "image/svg+xml": [
       "<?xml version=\"1.0\" encoding=\"UTF-8\" standalone=\"no\"?>\n",
       "<!DOCTYPE svg PUBLIC \"-//W3C//DTD SVG 1.1//EN\"\n",
       " \"http://www.w3.org/Graphics/SVG/1.1/DTD/svg11.dtd\">\n",
       "<!-- Generated by graphviz version 12.2.1 (20241206.2353)\n",
       " -->\n",
       "<!-- Title: Tree Pages: 1 -->\n",
       "<svg width=\"743pt\" height=\"726pt\"\n",
       " viewBox=\"0.00 0.00 742.75 725.50\" xmlns=\"http://www.w3.org/2000/svg\" xmlns:xlink=\"http://www.w3.org/1999/xlink\">\n",
       "<g id=\"graph0\" class=\"graph\" transform=\"scale(1 1) rotate(0) translate(4 721.5)\">\n",
       "<title>Tree</title>\n",
       "<polygon fill=\"white\" stroke=\"none\" points=\"-4,4 -4,-721.5 738.75,-721.5 738.75,4 -4,4\"/>\n",
       "<!-- 0 -->\n",
       "<g id=\"node1\" class=\"node\">\n",
       "<title>0</title>\n",
       "<polygon fill=\"none\" stroke=\"black\" points=\"451.88,-717.5 333.88,-717.5 333.88,-643.5 451.88,-643.5 451.88,-717.5\"/>\n",
       "<text text-anchor=\"middle\" x=\"392.88\" y=\"-700.2\" font-family=\"Times New Roman,serif\" font-size=\"14.00\">X[3] &lt;= 100.5</text>\n",
       "<text text-anchor=\"middle\" x=\"392.88\" y=\"-683.7\" font-family=\"Times New Roman,serif\" font-size=\"14.00\">gini = 0.464</text>\n",
       "<text text-anchor=\"middle\" x=\"392.88\" y=\"-667.2\" font-family=\"Times New Roman,serif\" font-size=\"14.00\">samples = 355</text>\n",
       "<text text-anchor=\"middle\" x=\"392.88\" y=\"-650.7\" font-family=\"Times New Roman,serif\" font-size=\"14.00\">value = [130, 225]</text>\n",
       "</g>\n",
       "<!-- 1 -->\n",
       "<g id=\"node2\" class=\"node\">\n",
       "<title>1</title>\n",
       "<polygon fill=\"none\" stroke=\"black\" points=\"384.5,-607.5 273.25,-607.5 273.25,-533.5 384.5,-533.5 384.5,-607.5\"/>\n",
       "<text text-anchor=\"middle\" x=\"328.88\" y=\"-590.2\" font-family=\"Times New Roman,serif\" font-size=\"14.00\">X[5] &lt;= 3.754</text>\n",
       "<text text-anchor=\"middle\" x=\"328.88\" y=\"-573.7\" font-family=\"Times New Roman,serif\" font-size=\"14.00\">gini = 0.411</text>\n",
       "<text text-anchor=\"middle\" x=\"328.88\" y=\"-557.2\" font-family=\"Times New Roman,serif\" font-size=\"14.00\">samples = 152</text>\n",
       "<text text-anchor=\"middle\" x=\"328.88\" y=\"-540.7\" font-family=\"Times New Roman,serif\" font-size=\"14.00\">value = [108, 44]</text>\n",
       "</g>\n",
       "<!-- 0&#45;&gt;1 -->\n",
       "<g id=\"edge1\" class=\"edge\">\n",
       "<title>0&#45;&gt;1</title>\n",
       "<path fill=\"none\" stroke=\"black\" d=\"M371.39,-643.24C366.53,-635.04 361.31,-626.24 356.25,-617.7\"/>\n",
       "<polygon fill=\"black\" stroke=\"black\" points=\"359.3,-615.97 351.19,-609.15 353.27,-619.54 359.3,-615.97\"/>\n",
       "<text text-anchor=\"middle\" x=\"344.22\" y=\"-627.02\" font-family=\"Times New Roman,serif\" font-size=\"14.00\">True</text>\n",
       "</g>\n",
       "<!-- 16 -->\n",
       "<g id=\"node17\" class=\"node\">\n",
       "<title>16</title>\n",
       "<polygon fill=\"none\" stroke=\"black\" points=\"513.5,-607.5 402.25,-607.5 402.25,-533.5 513.5,-533.5 513.5,-607.5\"/>\n",
       "<text text-anchor=\"middle\" x=\"457.88\" y=\"-590.2\" font-family=\"Times New Roman,serif\" font-size=\"14.00\">X[5] &lt;= 8.047</text>\n",
       "<text text-anchor=\"middle\" x=\"457.88\" y=\"-573.7\" font-family=\"Times New Roman,serif\" font-size=\"14.00\">gini = 0.193</text>\n",
       "<text text-anchor=\"middle\" x=\"457.88\" y=\"-557.2\" font-family=\"Times New Roman,serif\" font-size=\"14.00\">samples = 203</text>\n",
       "<text text-anchor=\"middle\" x=\"457.88\" y=\"-540.7\" font-family=\"Times New Roman,serif\" font-size=\"14.00\">value = [22, 181]</text>\n",
       "</g>\n",
       "<!-- 0&#45;&gt;16 -->\n",
       "<g id=\"edge16\" class=\"edge\">\n",
       "<title>0&#45;&gt;16</title>\n",
       "<path fill=\"none\" stroke=\"black\" d=\"M414.7,-643.24C419.63,-635.04 424.93,-626.24 430.07,-617.7\"/>\n",
       "<polygon fill=\"black\" stroke=\"black\" points=\"433.06,-619.52 435.22,-609.15 427.06,-615.91 433.06,-619.52\"/>\n",
       "<text text-anchor=\"middle\" x=\"442.03\" y=\"-627.06\" font-family=\"Times New Roman,serif\" font-size=\"14.00\">False</text>\n",
       "</g>\n",
       "<!-- 2 -->\n",
       "<g id=\"node3\" class=\"node\">\n",
       "<title>2</title>\n",
       "<polygon fill=\"none\" stroke=\"black\" points=\"265.12,-497.5 160.62,-497.5 160.62,-423.5 265.12,-423.5 265.12,-497.5\"/>\n",
       "<text text-anchor=\"middle\" x=\"212.88\" y=\"-480.2\" font-family=\"Times New Roman,serif\" font-size=\"14.00\">X[3] &lt;= 24.5</text>\n",
       "<text text-anchor=\"middle\" x=\"212.88\" y=\"-463.7\" font-family=\"Times New Roman,serif\" font-size=\"14.00\">gini = 0.324</text>\n",
       "<text text-anchor=\"middle\" x=\"212.88\" y=\"-447.2\" font-family=\"Times New Roman,serif\" font-size=\"14.00\">samples = 54</text>\n",
       "<text text-anchor=\"middle\" x=\"212.88\" y=\"-430.7\" font-family=\"Times New Roman,serif\" font-size=\"14.00\">value = [11, 43]</text>\n",
       "</g>\n",
       "<!-- 1&#45;&gt;2 -->\n",
       "<g id=\"edge2\" class=\"edge\">\n",
       "<title>1&#45;&gt;2</title>\n",
       "<path fill=\"none\" stroke=\"black\" d=\"M289.93,-533.24C280.36,-524.33 270.02,-514.7 260.11,-505.48\"/>\n",
       "<polygon fill=\"black\" stroke=\"black\" points=\"262.73,-503.13 253.03,-498.88 257.96,-508.26 262.73,-503.13\"/>\n",
       "</g>\n",
       "<!-- 11 -->\n",
       "<g id=\"node12\" class=\"node\">\n",
       "<title>11</title>\n",
       "<polygon fill=\"none\" stroke=\"black\" points=\"380.75,-497.5 283,-497.5 283,-423.5 380.75,-423.5 380.75,-497.5\"/>\n",
       "<text text-anchor=\"middle\" x=\"331.88\" y=\"-480.2\" font-family=\"Times New Roman,serif\" font-size=\"14.00\">X[5] &lt;= 4.0</text>\n",
       "<text text-anchor=\"middle\" x=\"331.88\" y=\"-463.7\" font-family=\"Times New Roman,serif\" font-size=\"14.00\">gini = 0.02</text>\n",
       "<text text-anchor=\"middle\" x=\"331.88\" y=\"-447.2\" font-family=\"Times New Roman,serif\" font-size=\"14.00\">samples = 98</text>\n",
       "<text text-anchor=\"middle\" x=\"331.88\" y=\"-430.7\" font-family=\"Times New Roman,serif\" font-size=\"14.00\">value = [97, 1]</text>\n",
       "</g>\n",
       "<!-- 1&#45;&gt;11 -->\n",
       "<g id=\"edge11\" class=\"edge\">\n",
       "<title>1&#45;&gt;11</title>\n",
       "<path fill=\"none\" stroke=\"black\" d=\"M329.88,-533.24C330.1,-525.49 330.33,-517.2 330.55,-509.1\"/>\n",
       "<polygon fill=\"black\" stroke=\"black\" points=\"334.04,-509.46 330.82,-499.36 327.05,-509.26 334.04,-509.46\"/>\n",
       "</g>\n",
       "<!-- 3 -->\n",
       "<g id=\"node4\" class=\"node\">\n",
       "<title>3</title>\n",
       "<polygon fill=\"none\" stroke=\"black\" points=\"148.38,-379.25 57.38,-379.25 57.38,-321.75 148.38,-321.75 148.38,-379.25\"/>\n",
       "<text text-anchor=\"middle\" x=\"102.88\" y=\"-361.95\" font-family=\"Times New Roman,serif\" font-size=\"14.00\">gini = 0.0</text>\n",
       "<text text-anchor=\"middle\" x=\"102.88\" y=\"-345.45\" font-family=\"Times New Roman,serif\" font-size=\"14.00\">samples = 8</text>\n",
       "<text text-anchor=\"middle\" x=\"102.88\" y=\"-328.95\" font-family=\"Times New Roman,serif\" font-size=\"14.00\">value = [8, 0]</text>\n",
       "</g>\n",
       "<!-- 2&#45;&gt;3 -->\n",
       "<g id=\"edge3\" class=\"edge\">\n",
       "<title>2&#45;&gt;3</title>\n",
       "<path fill=\"none\" stroke=\"black\" d=\"M175.94,-423.24C164.18,-411.69 151.17,-398.92 139.43,-387.39\"/>\n",
       "<polygon fill=\"black\" stroke=\"black\" points=\"142.21,-385.21 132.62,-380.7 137.3,-390.21 142.21,-385.21\"/>\n",
       "</g>\n",
       "<!-- 4 -->\n",
       "<g id=\"node5\" class=\"node\">\n",
       "<title>4</title>\n",
       "<polygon fill=\"none\" stroke=\"black\" points=\"263.75,-387.5 166,-387.5 166,-313.5 263.75,-313.5 263.75,-387.5\"/>\n",
       "<text text-anchor=\"middle\" x=\"214.88\" y=\"-370.2\" font-family=\"Times New Roman,serif\" font-size=\"14.00\">X[0] &lt;= 57.5</text>\n",
       "<text text-anchor=\"middle\" x=\"214.88\" y=\"-353.7\" font-family=\"Times New Roman,serif\" font-size=\"14.00\">gini = 0.122</text>\n",
       "<text text-anchor=\"middle\" x=\"214.88\" y=\"-337.2\" font-family=\"Times New Roman,serif\" font-size=\"14.00\">samples = 46</text>\n",
       "<text text-anchor=\"middle\" x=\"214.88\" y=\"-320.7\" font-family=\"Times New Roman,serif\" font-size=\"14.00\">value = [3, 43]</text>\n",
       "</g>\n",
       "<!-- 2&#45;&gt;4 -->\n",
       "<g id=\"edge4\" class=\"edge\">\n",
       "<title>2&#45;&gt;4</title>\n",
       "<path fill=\"none\" stroke=\"black\" d=\"M213.55,-423.24C213.69,-415.49 213.84,-407.2 213.99,-399.1\"/>\n",
       "<polygon fill=\"black\" stroke=\"black\" points=\"217.49,-399.43 214.17,-389.36 210.49,-399.3 217.49,-399.43\"/>\n",
       "</g>\n",
       "<!-- 5 -->\n",
       "<g id=\"node6\" class=\"node\">\n",
       "<title>5</title>\n",
       "<polygon fill=\"none\" stroke=\"black\" points=\"153.75,-277.5 56,-277.5 56,-203.5 153.75,-203.5 153.75,-277.5\"/>\n",
       "<text text-anchor=\"middle\" x=\"104.88\" y=\"-260.2\" font-family=\"Times New Roman,serif\" font-size=\"14.00\">X[5] &lt;= 3.298</text>\n",
       "<text text-anchor=\"middle\" x=\"104.88\" y=\"-243.7\" font-family=\"Times New Roman,serif\" font-size=\"14.00\">gini = 0.044</text>\n",
       "<text text-anchor=\"middle\" x=\"104.88\" y=\"-227.2\" font-family=\"Times New Roman,serif\" font-size=\"14.00\">samples = 44</text>\n",
       "<text text-anchor=\"middle\" x=\"104.88\" y=\"-210.7\" font-family=\"Times New Roman,serif\" font-size=\"14.00\">value = [1, 43]</text>\n",
       "</g>\n",
       "<!-- 4&#45;&gt;5 -->\n",
       "<g id=\"edge5\" class=\"edge\">\n",
       "<title>4&#45;&gt;5</title>\n",
       "<path fill=\"none\" stroke=\"black\" d=\"M177.94,-313.24C168.96,-304.42 159.26,-294.9 149.95,-285.76\"/>\n",
       "<polygon fill=\"black\" stroke=\"black\" points=\"152.57,-283.42 142.98,-278.91 147.66,-288.41 152.57,-283.42\"/>\n",
       "</g>\n",
       "<!-- 10 -->\n",
       "<g id=\"node11\" class=\"node\">\n",
       "<title>10</title>\n",
       "<polygon fill=\"none\" stroke=\"black\" points=\"262.38,-269.25 171.38,-269.25 171.38,-211.75 262.38,-211.75 262.38,-269.25\"/>\n",
       "<text text-anchor=\"middle\" x=\"216.88\" y=\"-251.95\" font-family=\"Times New Roman,serif\" font-size=\"14.00\">gini = 0.0</text>\n",
       "<text text-anchor=\"middle\" x=\"216.88\" y=\"-235.45\" font-family=\"Times New Roman,serif\" font-size=\"14.00\">samples = 2</text>\n",
       "<text text-anchor=\"middle\" x=\"216.88\" y=\"-218.95\" font-family=\"Times New Roman,serif\" font-size=\"14.00\">value = [2, 0]</text>\n",
       "</g>\n",
       "<!-- 4&#45;&gt;10 -->\n",
       "<g id=\"edge10\" class=\"edge\">\n",
       "<title>4&#45;&gt;10</title>\n",
       "<path fill=\"none\" stroke=\"black\" d=\"M215.55,-313.24C215.74,-302.91 215.95,-291.6 216.14,-281.09\"/>\n",
       "<polygon fill=\"black\" stroke=\"black\" points=\"219.64,-281.22 216.33,-271.16 212.64,-281.09 219.64,-281.22\"/>\n",
       "</g>\n",
       "<!-- 6 -->\n",
       "<g id=\"node7\" class=\"node\">\n",
       "<title>6</title>\n",
       "<polygon fill=\"none\" stroke=\"black\" points=\"97.75,-159.25 0,-159.25 0,-101.75 97.75,-101.75 97.75,-159.25\"/>\n",
       "<text text-anchor=\"middle\" x=\"48.88\" y=\"-141.95\" font-family=\"Times New Roman,serif\" font-size=\"14.00\">gini = 0.0</text>\n",
       "<text text-anchor=\"middle\" x=\"48.88\" y=\"-125.45\" font-family=\"Times New Roman,serif\" font-size=\"14.00\">samples = 41</text>\n",
       "<text text-anchor=\"middle\" x=\"48.88\" y=\"-108.95\" font-family=\"Times New Roman,serif\" font-size=\"14.00\">value = [0, 41]</text>\n",
       "</g>\n",
       "<!-- 5&#45;&gt;6 -->\n",
       "<g id=\"edge6\" class=\"edge\">\n",
       "<title>5&#45;&gt;6</title>\n",
       "<path fill=\"none\" stroke=\"black\" d=\"M86.07,-203.24C80.49,-192.46 74.35,-180.63 68.7,-169.74\"/>\n",
       "<polygon fill=\"black\" stroke=\"black\" points=\"71.87,-168.25 64.16,-160.99 65.66,-171.47 71.87,-168.25\"/>\n",
       "</g>\n",
       "<!-- 7 -->\n",
       "<g id=\"node8\" class=\"node\">\n",
       "<title>7</title>\n",
       "<polygon fill=\"none\" stroke=\"black\" points=\"206.38,-167.5 115.38,-167.5 115.38,-93.5 206.38,-93.5 206.38,-167.5\"/>\n",
       "<text text-anchor=\"middle\" x=\"160.88\" y=\"-150.2\" font-family=\"Times New Roman,serif\" font-size=\"14.00\">X[3] &lt;= 59.5</text>\n",
       "<text text-anchor=\"middle\" x=\"160.88\" y=\"-133.7\" font-family=\"Times New Roman,serif\" font-size=\"14.00\">gini = 0.444</text>\n",
       "<text text-anchor=\"middle\" x=\"160.88\" y=\"-117.2\" font-family=\"Times New Roman,serif\" font-size=\"14.00\">samples = 3</text>\n",
       "<text text-anchor=\"middle\" x=\"160.88\" y=\"-100.7\" font-family=\"Times New Roman,serif\" font-size=\"14.00\">value = [1, 2]</text>\n",
       "</g>\n",
       "<!-- 5&#45;&gt;7 -->\n",
       "<g id=\"edge7\" class=\"edge\">\n",
       "<title>5&#45;&gt;7</title>\n",
       "<path fill=\"none\" stroke=\"black\" d=\"M123.68,-203.24C127.88,-195.13 132.39,-186.43 136.77,-177.98\"/>\n",
       "<polygon fill=\"black\" stroke=\"black\" points=\"139.83,-179.68 141.33,-169.19 133.62,-176.46 139.83,-179.68\"/>\n",
       "</g>\n",
       "<!-- 8 -->\n",
       "<g id=\"node9\" class=\"node\">\n",
       "<title>8</title>\n",
       "<polygon fill=\"none\" stroke=\"black\" points=\"151.38,-57.5 60.38,-57.5 60.38,0 151.38,0 151.38,-57.5\"/>\n",
       "<text text-anchor=\"middle\" x=\"105.88\" y=\"-40.2\" font-family=\"Times New Roman,serif\" font-size=\"14.00\">gini = 0.0</text>\n",
       "<text text-anchor=\"middle\" x=\"105.88\" y=\"-23.7\" font-family=\"Times New Roman,serif\" font-size=\"14.00\">samples = 1</text>\n",
       "<text text-anchor=\"middle\" x=\"105.88\" y=\"-7.2\" font-family=\"Times New Roman,serif\" font-size=\"14.00\">value = [1, 0]</text>\n",
       "</g>\n",
       "<!-- 7&#45;&gt;8 -->\n",
       "<g id=\"edge8\" class=\"edge\">\n",
       "<title>7&#45;&gt;8</title>\n",
       "<path fill=\"none\" stroke=\"black\" d=\"M140.86,-93.21C136.28,-84.89 131.39,-76.03 126.77,-67.65\"/>\n",
       "<polygon fill=\"black\" stroke=\"black\" points=\"129.93,-66.12 122.03,-59.05 123.8,-69.5 129.93,-66.12\"/>\n",
       "</g>\n",
       "<!-- 9 -->\n",
       "<g id=\"node10\" class=\"node\">\n",
       "<title>9</title>\n",
       "<polygon fill=\"none\" stroke=\"black\" points=\"260.38,-57.5 169.38,-57.5 169.38,0 260.38,0 260.38,-57.5\"/>\n",
       "<text text-anchor=\"middle\" x=\"214.88\" y=\"-40.2\" font-family=\"Times New Roman,serif\" font-size=\"14.00\">gini = 0.0</text>\n",
       "<text text-anchor=\"middle\" x=\"214.88\" y=\"-23.7\" font-family=\"Times New Roman,serif\" font-size=\"14.00\">samples = 2</text>\n",
       "<text text-anchor=\"middle\" x=\"214.88\" y=\"-7.2\" font-family=\"Times New Roman,serif\" font-size=\"14.00\">value = [0, 2]</text>\n",
       "</g>\n",
       "<!-- 7&#45;&gt;9 -->\n",
       "<g id=\"edge9\" class=\"edge\">\n",
       "<title>7&#45;&gt;9</title>\n",
       "<path fill=\"none\" stroke=\"black\" d=\"M180.52,-93.21C185.03,-84.89 189.82,-76.03 194.36,-67.65\"/>\n",
       "<polygon fill=\"black\" stroke=\"black\" points=\"197.33,-69.52 199.01,-59.06 191.17,-66.19 197.33,-69.52\"/>\n",
       "</g>\n",
       "<!-- 12 -->\n",
       "<g id=\"node13\" class=\"node\">\n",
       "<title>12</title>\n",
       "<polygon fill=\"none\" stroke=\"black\" points=\"375.38,-387.5 284.38,-387.5 284.38,-313.5 375.38,-313.5 375.38,-387.5\"/>\n",
       "<text text-anchor=\"middle\" x=\"329.88\" y=\"-370.2\" font-family=\"Times New Roman,serif\" font-size=\"14.00\">X[1] &lt;= 2.0</text>\n",
       "<text text-anchor=\"middle\" x=\"329.88\" y=\"-353.7\" font-family=\"Times New Roman,serif\" font-size=\"14.00\">gini = 0.444</text>\n",
       "<text text-anchor=\"middle\" x=\"329.88\" y=\"-337.2\" font-family=\"Times New Roman,serif\" font-size=\"14.00\">samples = 3</text>\n",
       "<text text-anchor=\"middle\" x=\"329.88\" y=\"-320.7\" font-family=\"Times New Roman,serif\" font-size=\"14.00\">value = [2, 1]</text>\n",
       "</g>\n",
       "<!-- 11&#45;&gt;12 -->\n",
       "<g id=\"edge12\" class=\"edge\">\n",
       "<title>11&#45;&gt;12</title>\n",
       "<path fill=\"none\" stroke=\"black\" d=\"M331.2,-423.24C331.06,-415.49 330.91,-407.2 330.76,-399.1\"/>\n",
       "<polygon fill=\"black\" stroke=\"black\" points=\"334.26,-399.3 330.58,-389.36 327.26,-399.43 334.26,-399.3\"/>\n",
       "</g>\n",
       "<!-- 15 -->\n",
       "<g id=\"node16\" class=\"node\">\n",
       "<title>15</title>\n",
       "<polygon fill=\"none\" stroke=\"black\" points=\"490.75,-379.25 393,-379.25 393,-321.75 490.75,-321.75 490.75,-379.25\"/>\n",
       "<text text-anchor=\"middle\" x=\"441.88\" y=\"-361.95\" font-family=\"Times New Roman,serif\" font-size=\"14.00\">gini = 0.0</text>\n",
       "<text text-anchor=\"middle\" x=\"441.88\" y=\"-345.45\" font-family=\"Times New Roman,serif\" font-size=\"14.00\">samples = 95</text>\n",
       "<text text-anchor=\"middle\" x=\"441.88\" y=\"-328.95\" font-family=\"Times New Roman,serif\" font-size=\"14.00\">value = [95, 0]</text>\n",
       "</g>\n",
       "<!-- 11&#45;&gt;15 -->\n",
       "<g id=\"edge15\" class=\"edge\">\n",
       "<title>11&#45;&gt;15</title>\n",
       "<path fill=\"none\" stroke=\"black\" d=\"M368.81,-423.24C380.57,-411.69 393.58,-398.92 405.32,-387.39\"/>\n",
       "<polygon fill=\"black\" stroke=\"black\" points=\"407.45,-390.21 412.13,-380.7 402.54,-385.21 407.45,-390.21\"/>\n",
       "</g>\n",
       "<!-- 13 -->\n",
       "<g id=\"node14\" class=\"node\">\n",
       "<title>13</title>\n",
       "<polygon fill=\"none\" stroke=\"black\" points=\"372.38,-269.25 281.38,-269.25 281.38,-211.75 372.38,-211.75 372.38,-269.25\"/>\n",
       "<text text-anchor=\"middle\" x=\"326.88\" y=\"-251.95\" font-family=\"Times New Roman,serif\" font-size=\"14.00\">gini = 0.0</text>\n",
       "<text text-anchor=\"middle\" x=\"326.88\" y=\"-235.45\" font-family=\"Times New Roman,serif\" font-size=\"14.00\">samples = 2</text>\n",
       "<text text-anchor=\"middle\" x=\"326.88\" y=\"-218.95\" font-family=\"Times New Roman,serif\" font-size=\"14.00\">value = [2, 0]</text>\n",
       "</g>\n",
       "<!-- 12&#45;&gt;13 -->\n",
       "<g id=\"edge13\" class=\"edge\">\n",
       "<title>12&#45;&gt;13</title>\n",
       "<path fill=\"none\" stroke=\"black\" d=\"M328.87,-313.24C328.58,-302.91 328.27,-291.6 327.97,-281.09\"/>\n",
       "<polygon fill=\"black\" stroke=\"black\" points=\"331.48,-281.05 327.7,-271.16 324.48,-281.25 331.48,-281.05\"/>\n",
       "</g>\n",
       "<!-- 14 -->\n",
       "<g id=\"node15\" class=\"node\">\n",
       "<title>14</title>\n",
       "<polygon fill=\"none\" stroke=\"black\" points=\"481.38,-269.25 390.38,-269.25 390.38,-211.75 481.38,-211.75 481.38,-269.25\"/>\n",
       "<text text-anchor=\"middle\" x=\"435.88\" y=\"-251.95\" font-family=\"Times New Roman,serif\" font-size=\"14.00\">gini = 0.0</text>\n",
       "<text text-anchor=\"middle\" x=\"435.88\" y=\"-235.45\" font-family=\"Times New Roman,serif\" font-size=\"14.00\">samples = 1</text>\n",
       "<text text-anchor=\"middle\" x=\"435.88\" y=\"-218.95\" font-family=\"Times New Roman,serif\" font-size=\"14.00\">value = [0, 1]</text>\n",
       "</g>\n",
       "<!-- 12&#45;&gt;14 -->\n",
       "<g id=\"edge14\" class=\"edge\">\n",
       "<title>12&#45;&gt;14</title>\n",
       "<path fill=\"none\" stroke=\"black\" d=\"M365.47,-313.24C376.69,-301.8 389.1,-289.16 400.32,-277.72\"/>\n",
       "<polygon fill=\"black\" stroke=\"black\" points=\"402.69,-280.31 407.19,-270.72 397.69,-275.41 402.69,-280.31\"/>\n",
       "</g>\n",
       "<!-- 17 -->\n",
       "<g id=\"node18\" class=\"node\">\n",
       "<title>17</title>\n",
       "<polygon fill=\"none\" stroke=\"black\" points=\"508.12,-489.25 403.62,-489.25 403.62,-431.75 508.12,-431.75 508.12,-489.25\"/>\n",
       "<text text-anchor=\"middle\" x=\"455.88\" y=\"-471.95\" font-family=\"Times New Roman,serif\" font-size=\"14.00\">gini = 0.0</text>\n",
       "<text text-anchor=\"middle\" x=\"455.88\" y=\"-455.45\" font-family=\"Times New Roman,serif\" font-size=\"14.00\">samples = 158</text>\n",
       "<text text-anchor=\"middle\" x=\"455.88\" y=\"-438.95\" font-family=\"Times New Roman,serif\" font-size=\"14.00\">value = [0, 158]</text>\n",
       "</g>\n",
       "<!-- 16&#45;&gt;17 -->\n",
       "<g id=\"edge17\" class=\"edge\">\n",
       "<title>16&#45;&gt;17</title>\n",
       "<path fill=\"none\" stroke=\"black\" d=\"M457.2,-533.24C457.01,-522.91 456.8,-511.6 456.61,-501.09\"/>\n",
       "<polygon fill=\"black\" stroke=\"black\" points=\"460.11,-501.09 456.42,-491.16 453.11,-501.22 460.11,-501.09\"/>\n",
       "</g>\n",
       "<!-- 18 -->\n",
       "<g id=\"node19\" class=\"node\">\n",
       "<title>18</title>\n",
       "<polygon fill=\"none\" stroke=\"black\" points=\"631.12,-497.5 526.62,-497.5 526.62,-423.5 631.12,-423.5 631.12,-497.5\"/>\n",
       "<text text-anchor=\"middle\" x=\"578.88\" y=\"-480.2\" font-family=\"Times New Roman,serif\" font-size=\"14.00\">X[3] &lt;= 140.5</text>\n",
       "<text text-anchor=\"middle\" x=\"578.88\" y=\"-463.7\" font-family=\"Times New Roman,serif\" font-size=\"14.00\">gini = 0.5</text>\n",
       "<text text-anchor=\"middle\" x=\"578.88\" y=\"-447.2\" font-family=\"Times New Roman,serif\" font-size=\"14.00\">samples = 45</text>\n",
       "<text text-anchor=\"middle\" x=\"578.88\" y=\"-430.7\" font-family=\"Times New Roman,serif\" font-size=\"14.00\">value = [22, 23]</text>\n",
       "</g>\n",
       "<!-- 16&#45;&gt;18 -->\n",
       "<g id=\"edge18\" class=\"edge\">\n",
       "<title>16&#45;&gt;18</title>\n",
       "<path fill=\"none\" stroke=\"black\" d=\"M498.5,-533.24C508.48,-524.33 519.27,-514.7 529.6,-505.48\"/>\n",
       "<polygon fill=\"black\" stroke=\"black\" points=\"531.89,-508.13 537.02,-498.86 527.23,-502.91 531.89,-508.13\"/>\n",
       "</g>\n",
       "<!-- 19 -->\n",
       "<g id=\"node20\" class=\"node\">\n",
       "<title>19</title>\n",
       "<polygon fill=\"none\" stroke=\"black\" points=\"618.75,-379.25 521,-379.25 521,-321.75 618.75,-321.75 618.75,-379.25\"/>\n",
       "<text text-anchor=\"middle\" x=\"569.88\" y=\"-361.95\" font-family=\"Times New Roman,serif\" font-size=\"14.00\">gini = 0.0</text>\n",
       "<text text-anchor=\"middle\" x=\"569.88\" y=\"-345.45\" font-family=\"Times New Roman,serif\" font-size=\"14.00\">samples = 22</text>\n",
       "<text text-anchor=\"middle\" x=\"569.88\" y=\"-328.95\" font-family=\"Times New Roman,serif\" font-size=\"14.00\">value = [22, 0]</text>\n",
       "</g>\n",
       "<!-- 18&#45;&gt;19 -->\n",
       "<g id=\"edge19\" class=\"edge\">\n",
       "<title>18&#45;&gt;19</title>\n",
       "<path fill=\"none\" stroke=\"black\" d=\"M575.85,-423.24C574.99,-412.91 574.05,-401.6 573.17,-391.09\"/>\n",
       "<polygon fill=\"black\" stroke=\"black\" points=\"576.66,-390.83 572.35,-381.15 569.69,-391.41 576.66,-390.83\"/>\n",
       "</g>\n",
       "<!-- 20 -->\n",
       "<g id=\"node21\" class=\"node\">\n",
       "<title>20</title>\n",
       "<polygon fill=\"none\" stroke=\"black\" points=\"734.75,-379.25 637,-379.25 637,-321.75 734.75,-321.75 734.75,-379.25\"/>\n",
       "<text text-anchor=\"middle\" x=\"685.88\" y=\"-361.95\" font-family=\"Times New Roman,serif\" font-size=\"14.00\">gini = 0.0</text>\n",
       "<text text-anchor=\"middle\" x=\"685.88\" y=\"-345.45\" font-family=\"Times New Roman,serif\" font-size=\"14.00\">samples = 23</text>\n",
       "<text text-anchor=\"middle\" x=\"685.88\" y=\"-328.95\" font-family=\"Times New Roman,serif\" font-size=\"14.00\">value = [0, 23]</text>\n",
       "</g>\n",
       "<!-- 18&#45;&gt;20 -->\n",
       "<g id=\"edge20\" class=\"edge\">\n",
       "<title>18&#45;&gt;20</title>\n",
       "<path fill=\"none\" stroke=\"black\" d=\"M614.8,-423.24C626.14,-411.8 638.65,-399.16 649.99,-387.72\"/>\n",
       "<polygon fill=\"black\" stroke=\"black\" points=\"652.38,-390.28 656.93,-380.72 647.4,-385.36 652.38,-390.28\"/>\n",
       "</g>\n",
       "</g>\n",
       "</svg>\n"
      ],
      "text/plain": [
       "<graphviz.sources.Source at 0x1cf54dd9608>"
      ]
     },
     "execution_count": 34,
     "metadata": {},
     "output_type": "execute_result"
    }
   ],
   "source": [
    "# As before, but make the model name gini_model\n",
    "dot_data_gini = tree.export_graphviz(gini_model, out_file=None)\n",
    "graph = graphviz.Source(dot_data_gini)\n",
    "graph\n",
    "# Alternatively for class_names use gini_model.classes_\n",
    " "
   ]
  },
  {
   "cell_type": "code",
   "execution_count": 35,
   "metadata": {},
   "outputs": [
    {
     "data": {
      "image/svg+xml": [
       "<?xml version=\"1.0\" encoding=\"UTF-8\" standalone=\"no\"?>\n",
       "<!DOCTYPE svg PUBLIC \"-//W3C//DTD SVG 1.1//EN\"\n",
       " \"http://www.w3.org/Graphics/SVG/1.1/DTD/svg11.dtd\">\n",
       "<!-- Generated by graphviz version 12.2.1 (20241206.2353)\n",
       " -->\n",
       "<!-- Title: Tree Pages: 1 -->\n",
       "<svg width=\"743pt\" height=\"841pt\"\n",
       " viewBox=\"0.00 0.00 742.75 841.00\" xmlns=\"http://www.w3.org/2000/svg\" xmlns:xlink=\"http://www.w3.org/1999/xlink\">\n",
       "<g id=\"graph0\" class=\"graph\" transform=\"scale(1 1) rotate(0) translate(4 837)\">\n",
       "<title>Tree</title>\n",
       "<polygon fill=\"white\" stroke=\"none\" points=\"-4,4 -4,-837 738.75,-837 738.75,4 -4,4\"/>\n",
       "<!-- 0 -->\n",
       "<g id=\"node1\" class=\"node\">\n",
       "<title>0</title>\n",
       "<polygon fill=\"none\" stroke=\"black\" points=\"451.88,-833 333.88,-833 333.88,-742.5 451.88,-742.5 451.88,-833\"/>\n",
       "<text text-anchor=\"middle\" x=\"392.88\" y=\"-815.7\" font-family=\"Times New Roman,serif\" font-size=\"14.00\">X[3] &lt;= 100.5</text>\n",
       "<text text-anchor=\"middle\" x=\"392.88\" y=\"-799.2\" font-family=\"Times New Roman,serif\" font-size=\"14.00\">gini = 0.464</text>\n",
       "<text text-anchor=\"middle\" x=\"392.88\" y=\"-782.7\" font-family=\"Times New Roman,serif\" font-size=\"14.00\">samples = 355</text>\n",
       "<text text-anchor=\"middle\" x=\"392.88\" y=\"-766.2\" font-family=\"Times New Roman,serif\" font-size=\"14.00\">value = [130, 225]</text>\n",
       "<text text-anchor=\"middle\" x=\"392.88\" y=\"-749.7\" font-family=\"Times New Roman,serif\" font-size=\"14.00\">class = YES</text>\n",
       "</g>\n",
       "<!-- 1 -->\n",
       "<g id=\"node2\" class=\"node\">\n",
       "<title>1</title>\n",
       "<polygon fill=\"none\" stroke=\"black\" points=\"384.5,-706.5 273.25,-706.5 273.25,-616 384.5,-616 384.5,-706.5\"/>\n",
       "<text text-anchor=\"middle\" x=\"328.88\" y=\"-689.2\" font-family=\"Times New Roman,serif\" font-size=\"14.00\">X[5] &lt;= 3.754</text>\n",
       "<text text-anchor=\"middle\" x=\"328.88\" y=\"-672.7\" font-family=\"Times New Roman,serif\" font-size=\"14.00\">gini = 0.411</text>\n",
       "<text text-anchor=\"middle\" x=\"328.88\" y=\"-656.2\" font-family=\"Times New Roman,serif\" font-size=\"14.00\">samples = 152</text>\n",
       "<text text-anchor=\"middle\" x=\"328.88\" y=\"-639.7\" font-family=\"Times New Roman,serif\" font-size=\"14.00\">value = [108, 44]</text>\n",
       "<text text-anchor=\"middle\" x=\"328.88\" y=\"-623.2\" font-family=\"Times New Roman,serif\" font-size=\"14.00\">class = NO</text>\n",
       "</g>\n",
       "<!-- 0&#45;&gt;1 -->\n",
       "<g id=\"edge1\" class=\"edge\">\n",
       "<title>0&#45;&gt;1</title>\n",
       "<path fill=\"none\" stroke=\"black\" d=\"M369.95,-742.15C365.77,-734.02 361.36,-725.45 357.05,-717.05\"/>\n",
       "<polygon fill=\"black\" stroke=\"black\" points=\"360.23,-715.59 352.55,-708.3 354.01,-718.79 360.23,-715.59\"/>\n",
       "<text text-anchor=\"middle\" x=\"344.21\" y=\"-725.71\" font-family=\"Times New Roman,serif\" font-size=\"14.00\">True</text>\n",
       "</g>\n",
       "<!-- 16 -->\n",
       "<g id=\"node17\" class=\"node\">\n",
       "<title>16</title>\n",
       "<polygon fill=\"none\" stroke=\"black\" points=\"513.5,-706.5 402.25,-706.5 402.25,-616 513.5,-616 513.5,-706.5\"/>\n",
       "<text text-anchor=\"middle\" x=\"457.88\" y=\"-689.2\" font-family=\"Times New Roman,serif\" font-size=\"14.00\">X[5] &lt;= 8.047</text>\n",
       "<text text-anchor=\"middle\" x=\"457.88\" y=\"-672.7\" font-family=\"Times New Roman,serif\" font-size=\"14.00\">gini = 0.193</text>\n",
       "<text text-anchor=\"middle\" x=\"457.88\" y=\"-656.2\" font-family=\"Times New Roman,serif\" font-size=\"14.00\">samples = 203</text>\n",
       "<text text-anchor=\"middle\" x=\"457.88\" y=\"-639.7\" font-family=\"Times New Roman,serif\" font-size=\"14.00\">value = [22, 181]</text>\n",
       "<text text-anchor=\"middle\" x=\"457.88\" y=\"-623.2\" font-family=\"Times New Roman,serif\" font-size=\"14.00\">class = YES</text>\n",
       "</g>\n",
       "<!-- 0&#45;&gt;16 -->\n",
       "<g id=\"edge16\" class=\"edge\">\n",
       "<title>0&#45;&gt;16</title>\n",
       "<path fill=\"none\" stroke=\"black\" d=\"M416.16,-742.15C420.41,-734.02 424.88,-725.45 429.26,-717.05\"/>\n",
       "<polygon fill=\"black\" stroke=\"black\" points=\"432.31,-718.78 433.84,-708.29 426.1,-715.54 432.31,-718.78\"/>\n",
       "<text text-anchor=\"middle\" x=\"442.03\" y=\"-725.75\" font-family=\"Times New Roman,serif\" font-size=\"14.00\">False</text>\n",
       "</g>\n",
       "<!-- 2 -->\n",
       "<g id=\"node3\" class=\"node\">\n",
       "<title>2</title>\n",
       "<polygon fill=\"none\" stroke=\"black\" points=\"265.12,-580 160.62,-580 160.62,-489.5 265.12,-489.5 265.12,-580\"/>\n",
       "<text text-anchor=\"middle\" x=\"212.88\" y=\"-562.7\" font-family=\"Times New Roman,serif\" font-size=\"14.00\">X[3] &lt;= 24.5</text>\n",
       "<text text-anchor=\"middle\" x=\"212.88\" y=\"-546.2\" font-family=\"Times New Roman,serif\" font-size=\"14.00\">gini = 0.324</text>\n",
       "<text text-anchor=\"middle\" x=\"212.88\" y=\"-529.7\" font-family=\"Times New Roman,serif\" font-size=\"14.00\">samples = 54</text>\n",
       "<text text-anchor=\"middle\" x=\"212.88\" y=\"-513.2\" font-family=\"Times New Roman,serif\" font-size=\"14.00\">value = [11, 43]</text>\n",
       "<text text-anchor=\"middle\" x=\"212.88\" y=\"-496.7\" font-family=\"Times New Roman,serif\" font-size=\"14.00\">class = YES</text>\n",
       "</g>\n",
       "<!-- 1&#45;&gt;2 -->\n",
       "<g id=\"edge2\" class=\"edge\">\n",
       "<title>1&#45;&gt;2</title>\n",
       "<path fill=\"none\" stroke=\"black\" d=\"M287.32,-615.65C279.16,-606.89 270.52,-597.62 262.14,-588.62\"/>\n",
       "<polygon fill=\"black\" stroke=\"black\" points=\"264.94,-586.49 255.56,-581.56 259.81,-591.26 264.94,-586.49\"/>\n",
       "</g>\n",
       "<!-- 11 -->\n",
       "<g id=\"node12\" class=\"node\">\n",
       "<title>11</title>\n",
       "<polygon fill=\"none\" stroke=\"black\" points=\"380.75,-580 283,-580 283,-489.5 380.75,-489.5 380.75,-580\"/>\n",
       "<text text-anchor=\"middle\" x=\"331.88\" y=\"-562.7\" font-family=\"Times New Roman,serif\" font-size=\"14.00\">X[5] &lt;= 4.0</text>\n",
       "<text text-anchor=\"middle\" x=\"331.88\" y=\"-546.2\" font-family=\"Times New Roman,serif\" font-size=\"14.00\">gini = 0.02</text>\n",
       "<text text-anchor=\"middle\" x=\"331.88\" y=\"-529.7\" font-family=\"Times New Roman,serif\" font-size=\"14.00\">samples = 98</text>\n",
       "<text text-anchor=\"middle\" x=\"331.88\" y=\"-513.2\" font-family=\"Times New Roman,serif\" font-size=\"14.00\">value = [97, 1]</text>\n",
       "<text text-anchor=\"middle\" x=\"331.88\" y=\"-496.7\" font-family=\"Times New Roman,serif\" font-size=\"14.00\">class = NO</text>\n",
       "</g>\n",
       "<!-- 1&#45;&gt;11 -->\n",
       "<g id=\"edge11\" class=\"edge\">\n",
       "<title>1&#45;&gt;11</title>\n",
       "<path fill=\"none\" stroke=\"black\" d=\"M329.95,-615.65C330.13,-607.97 330.33,-599.89 330.52,-591.94\"/>\n",
       "<polygon fill=\"black\" stroke=\"black\" points=\"334.02,-592.05 330.76,-581.97 327.02,-591.88 334.02,-592.05\"/>\n",
       "</g>\n",
       "<!-- 3 -->\n",
       "<g id=\"node4\" class=\"node\">\n",
       "<title>3</title>\n",
       "<polygon fill=\"none\" stroke=\"black\" points=\"148.38,-445.25 57.38,-445.25 57.38,-371.25 148.38,-371.25 148.38,-445.25\"/>\n",
       "<text text-anchor=\"middle\" x=\"102.88\" y=\"-427.95\" font-family=\"Times New Roman,serif\" font-size=\"14.00\">gini = 0.0</text>\n",
       "<text text-anchor=\"middle\" x=\"102.88\" y=\"-411.45\" font-family=\"Times New Roman,serif\" font-size=\"14.00\">samples = 8</text>\n",
       "<text text-anchor=\"middle\" x=\"102.88\" y=\"-394.95\" font-family=\"Times New Roman,serif\" font-size=\"14.00\">value = [8, 0]</text>\n",
       "<text text-anchor=\"middle\" x=\"102.88\" y=\"-378.45\" font-family=\"Times New Roman,serif\" font-size=\"14.00\">class = NO</text>\n",
       "</g>\n",
       "<!-- 2&#45;&gt;3 -->\n",
       "<g id=\"edge3\" class=\"edge\">\n",
       "<title>2&#45;&gt;3</title>\n",
       "<path fill=\"none\" stroke=\"black\" d=\"M173.47,-489.15C163.35,-477.7 152.47,-465.38 142.34,-453.92\"/>\n",
       "<polygon fill=\"black\" stroke=\"black\" points=\"145.02,-451.67 135.78,-446.49 139.78,-456.3 145.02,-451.67\"/>\n",
       "</g>\n",
       "<!-- 4 -->\n",
       "<g id=\"node5\" class=\"node\">\n",
       "<title>4</title>\n",
       "<polygon fill=\"none\" stroke=\"black\" points=\"263.75,-453.5 166,-453.5 166,-363 263.75,-363 263.75,-453.5\"/>\n",
       "<text text-anchor=\"middle\" x=\"214.88\" y=\"-436.2\" font-family=\"Times New Roman,serif\" font-size=\"14.00\">X[0] &lt;= 57.5</text>\n",
       "<text text-anchor=\"middle\" x=\"214.88\" y=\"-419.7\" font-family=\"Times New Roman,serif\" font-size=\"14.00\">gini = 0.122</text>\n",
       "<text text-anchor=\"middle\" x=\"214.88\" y=\"-403.2\" font-family=\"Times New Roman,serif\" font-size=\"14.00\">samples = 46</text>\n",
       "<text text-anchor=\"middle\" x=\"214.88\" y=\"-386.7\" font-family=\"Times New Roman,serif\" font-size=\"14.00\">value = [3, 43]</text>\n",
       "<text text-anchor=\"middle\" x=\"214.88\" y=\"-370.2\" font-family=\"Times New Roman,serif\" font-size=\"14.00\">class = YES</text>\n",
       "</g>\n",
       "<!-- 2&#45;&gt;4 -->\n",
       "<g id=\"edge4\" class=\"edge\">\n",
       "<title>2&#45;&gt;4</title>\n",
       "<path fill=\"none\" stroke=\"black\" d=\"M213.59,-489.15C213.71,-481.47 213.84,-473.39 213.97,-465.44\"/>\n",
       "<polygon fill=\"black\" stroke=\"black\" points=\"217.47,-465.52 214.13,-455.47 210.47,-465.41 217.47,-465.52\"/>\n",
       "</g>\n",
       "<!-- 5 -->\n",
       "<g id=\"node6\" class=\"node\">\n",
       "<title>5</title>\n",
       "<polygon fill=\"none\" stroke=\"black\" points=\"153.75,-327 56,-327 56,-236.5 153.75,-236.5 153.75,-327\"/>\n",
       "<text text-anchor=\"middle\" x=\"104.88\" y=\"-309.7\" font-family=\"Times New Roman,serif\" font-size=\"14.00\">X[5] &lt;= 3.298</text>\n",
       "<text text-anchor=\"middle\" x=\"104.88\" y=\"-293.2\" font-family=\"Times New Roman,serif\" font-size=\"14.00\">gini = 0.044</text>\n",
       "<text text-anchor=\"middle\" x=\"104.88\" y=\"-276.7\" font-family=\"Times New Roman,serif\" font-size=\"14.00\">samples = 44</text>\n",
       "<text text-anchor=\"middle\" x=\"104.88\" y=\"-260.2\" font-family=\"Times New Roman,serif\" font-size=\"14.00\">value = [1, 43]</text>\n",
       "<text text-anchor=\"middle\" x=\"104.88\" y=\"-243.7\" font-family=\"Times New Roman,serif\" font-size=\"14.00\">class = YES</text>\n",
       "</g>\n",
       "<!-- 4&#45;&gt;5 -->\n",
       "<g id=\"edge5\" class=\"edge\">\n",
       "<title>4&#45;&gt;5</title>\n",
       "<path fill=\"none\" stroke=\"black\" d=\"M175.47,-362.65C167.81,-353.98 159.71,-344.81 151.83,-335.9\"/>\n",
       "<polygon fill=\"black\" stroke=\"black\" points=\"154.62,-333.76 145.37,-328.59 149.37,-338.4 154.62,-333.76\"/>\n",
       "</g>\n",
       "<!-- 10 -->\n",
       "<g id=\"node11\" class=\"node\">\n",
       "<title>10</title>\n",
       "<polygon fill=\"none\" stroke=\"black\" points=\"262.38,-318.75 171.38,-318.75 171.38,-244.75 262.38,-244.75 262.38,-318.75\"/>\n",
       "<text text-anchor=\"middle\" x=\"216.88\" y=\"-301.45\" font-family=\"Times New Roman,serif\" font-size=\"14.00\">gini = 0.0</text>\n",
       "<text text-anchor=\"middle\" x=\"216.88\" y=\"-284.95\" font-family=\"Times New Roman,serif\" font-size=\"14.00\">samples = 2</text>\n",
       "<text text-anchor=\"middle\" x=\"216.88\" y=\"-268.45\" font-family=\"Times New Roman,serif\" font-size=\"14.00\">value = [2, 0]</text>\n",
       "<text text-anchor=\"middle\" x=\"216.88\" y=\"-251.95\" font-family=\"Times New Roman,serif\" font-size=\"14.00\">class = NO</text>\n",
       "</g>\n",
       "<!-- 4&#45;&gt;10 -->\n",
       "<g id=\"edge10\" class=\"edge\">\n",
       "<title>4&#45;&gt;10</title>\n",
       "<path fill=\"none\" stroke=\"black\" d=\"M215.59,-362.65C215.76,-352.1 215.94,-340.81 216.11,-330.13\"/>\n",
       "<polygon fill=\"black\" stroke=\"black\" points=\"219.61,-330.42 216.27,-320.37 212.61,-330.31 219.61,-330.42\"/>\n",
       "</g>\n",
       "<!-- 6 -->\n",
       "<g id=\"node7\" class=\"node\">\n",
       "<title>6</title>\n",
       "<polygon fill=\"none\" stroke=\"black\" points=\"97.75,-192.25 0,-192.25 0,-118.25 97.75,-118.25 97.75,-192.25\"/>\n",
       "<text text-anchor=\"middle\" x=\"48.88\" y=\"-174.95\" font-family=\"Times New Roman,serif\" font-size=\"14.00\">gini = 0.0</text>\n",
       "<text text-anchor=\"middle\" x=\"48.88\" y=\"-158.45\" font-family=\"Times New Roman,serif\" font-size=\"14.00\">samples = 41</text>\n",
       "<text text-anchor=\"middle\" x=\"48.88\" y=\"-141.95\" font-family=\"Times New Roman,serif\" font-size=\"14.00\">value = [0, 41]</text>\n",
       "<text text-anchor=\"middle\" x=\"48.88\" y=\"-125.45\" font-family=\"Times New Roman,serif\" font-size=\"14.00\">class = YES</text>\n",
       "</g>\n",
       "<!-- 5&#45;&gt;6 -->\n",
       "<g id=\"edge6\" class=\"edge\">\n",
       "<title>5&#45;&gt;6</title>\n",
       "<path fill=\"none\" stroke=\"black\" d=\"M84.82,-236.15C79.92,-225.26 74.66,-213.58 69.73,-202.61\"/>\n",
       "<polygon fill=\"black\" stroke=\"black\" points=\"73.03,-201.42 65.74,-193.74 66.65,-204.29 73.03,-201.42\"/>\n",
       "</g>\n",
       "<!-- 7 -->\n",
       "<g id=\"node8\" class=\"node\">\n",
       "<title>7</title>\n",
       "<polygon fill=\"none\" stroke=\"black\" points=\"206.38,-200.5 115.38,-200.5 115.38,-110 206.38,-110 206.38,-200.5\"/>\n",
       "<text text-anchor=\"middle\" x=\"160.88\" y=\"-183.2\" font-family=\"Times New Roman,serif\" font-size=\"14.00\">X[3] &lt;= 59.5</text>\n",
       "<text text-anchor=\"middle\" x=\"160.88\" y=\"-166.7\" font-family=\"Times New Roman,serif\" font-size=\"14.00\">gini = 0.444</text>\n",
       "<text text-anchor=\"middle\" x=\"160.88\" y=\"-150.2\" font-family=\"Times New Roman,serif\" font-size=\"14.00\">samples = 3</text>\n",
       "<text text-anchor=\"middle\" x=\"160.88\" y=\"-133.7\" font-family=\"Times New Roman,serif\" font-size=\"14.00\">value = [1, 2]</text>\n",
       "<text text-anchor=\"middle\" x=\"160.88\" y=\"-117.2\" font-family=\"Times New Roman,serif\" font-size=\"14.00\">class = YES</text>\n",
       "</g>\n",
       "<!-- 5&#45;&gt;7 -->\n",
       "<g id=\"edge7\" class=\"edge\">\n",
       "<title>5&#45;&gt;7</title>\n",
       "<path fill=\"none\" stroke=\"black\" d=\"M124.93,-236.15C128.55,-228.11 132.36,-219.63 136.1,-211.33\"/>\n",
       "<polygon fill=\"black\" stroke=\"black\" points=\"139.24,-212.89 140.15,-202.33 132.85,-210.02 139.24,-212.89\"/>\n",
       "</g>\n",
       "<!-- 8 -->\n",
       "<g id=\"node9\" class=\"node\">\n",
       "<title>8</title>\n",
       "<polygon fill=\"none\" stroke=\"black\" points=\"151.38,-74 60.38,-74 60.38,0 151.38,0 151.38,-74\"/>\n",
       "<text text-anchor=\"middle\" x=\"105.88\" y=\"-56.7\" font-family=\"Times New Roman,serif\" font-size=\"14.00\">gini = 0.0</text>\n",
       "<text text-anchor=\"middle\" x=\"105.88\" y=\"-40.2\" font-family=\"Times New Roman,serif\" font-size=\"14.00\">samples = 1</text>\n",
       "<text text-anchor=\"middle\" x=\"105.88\" y=\"-23.7\" font-family=\"Times New Roman,serif\" font-size=\"14.00\">value = [1, 0]</text>\n",
       "<text text-anchor=\"middle\" x=\"105.88\" y=\"-7.2\" font-family=\"Times New Roman,serif\" font-size=\"14.00\">class = NO</text>\n",
       "</g>\n",
       "<!-- 7&#45;&gt;8 -->\n",
       "<g id=\"edge8\" class=\"edge\">\n",
       "<title>7&#45;&gt;8</title>\n",
       "<path fill=\"none\" stroke=\"black\" d=\"M139.77,-109.64C135.89,-101.44 131.84,-92.87 127.93,-84.62\"/>\n",
       "<polygon fill=\"black\" stroke=\"black\" points=\"131.18,-83.3 123.74,-75.76 124.85,-86.3 131.18,-83.3\"/>\n",
       "</g>\n",
       "<!-- 9 -->\n",
       "<g id=\"node10\" class=\"node\">\n",
       "<title>9</title>\n",
       "<polygon fill=\"none\" stroke=\"black\" points=\"260.38,-74 169.38,-74 169.38,0 260.38,0 260.38,-74\"/>\n",
       "<text text-anchor=\"middle\" x=\"214.88\" y=\"-56.7\" font-family=\"Times New Roman,serif\" font-size=\"14.00\">gini = 0.0</text>\n",
       "<text text-anchor=\"middle\" x=\"214.88\" y=\"-40.2\" font-family=\"Times New Roman,serif\" font-size=\"14.00\">samples = 2</text>\n",
       "<text text-anchor=\"middle\" x=\"214.88\" y=\"-23.7\" font-family=\"Times New Roman,serif\" font-size=\"14.00\">value = [0, 2]</text>\n",
       "<text text-anchor=\"middle\" x=\"214.88\" y=\"-7.2\" font-family=\"Times New Roman,serif\" font-size=\"14.00\">class = YES</text>\n",
       "</g>\n",
       "<!-- 7&#45;&gt;9 -->\n",
       "<g id=\"edge9\" class=\"edge\">\n",
       "<title>7&#45;&gt;9</title>\n",
       "<path fill=\"none\" stroke=\"black\" d=\"M181.6,-109.64C185.4,-101.44 189.39,-92.87 193.22,-84.62\"/>\n",
       "<polygon fill=\"black\" stroke=\"black\" points=\"196.29,-86.31 197.33,-75.77 189.94,-83.36 196.29,-86.31\"/>\n",
       "</g>\n",
       "<!-- 12 -->\n",
       "<g id=\"node13\" class=\"node\">\n",
       "<title>12</title>\n",
       "<polygon fill=\"none\" stroke=\"black\" points=\"375.38,-453.5 284.38,-453.5 284.38,-363 375.38,-363 375.38,-453.5\"/>\n",
       "<text text-anchor=\"middle\" x=\"329.88\" y=\"-436.2\" font-family=\"Times New Roman,serif\" font-size=\"14.00\">X[1] &lt;= 2.0</text>\n",
       "<text text-anchor=\"middle\" x=\"329.88\" y=\"-419.7\" font-family=\"Times New Roman,serif\" font-size=\"14.00\">gini = 0.444</text>\n",
       "<text text-anchor=\"middle\" x=\"329.88\" y=\"-403.2\" font-family=\"Times New Roman,serif\" font-size=\"14.00\">samples = 3</text>\n",
       "<text text-anchor=\"middle\" x=\"329.88\" y=\"-386.7\" font-family=\"Times New Roman,serif\" font-size=\"14.00\">value = [2, 1]</text>\n",
       "<text text-anchor=\"middle\" x=\"329.88\" y=\"-370.2\" font-family=\"Times New Roman,serif\" font-size=\"14.00\">class = NO</text>\n",
       "</g>\n",
       "<!-- 11&#45;&gt;12 -->\n",
       "<g id=\"edge12\" class=\"edge\">\n",
       "<title>11&#45;&gt;12</title>\n",
       "<path fill=\"none\" stroke=\"black\" d=\"M331.16,-489.15C331.04,-481.47 330.91,-473.39 330.78,-465.44\"/>\n",
       "<polygon fill=\"black\" stroke=\"black\" points=\"334.28,-465.41 330.62,-455.47 327.28,-465.52 334.28,-465.41\"/>\n",
       "</g>\n",
       "<!-- 15 -->\n",
       "<g id=\"node16\" class=\"node\">\n",
       "<title>15</title>\n",
       "<polygon fill=\"none\" stroke=\"black\" points=\"490.75,-445.25 393,-445.25 393,-371.25 490.75,-371.25 490.75,-445.25\"/>\n",
       "<text text-anchor=\"middle\" x=\"441.88\" y=\"-427.95\" font-family=\"Times New Roman,serif\" font-size=\"14.00\">gini = 0.0</text>\n",
       "<text text-anchor=\"middle\" x=\"441.88\" y=\"-411.45\" font-family=\"Times New Roman,serif\" font-size=\"14.00\">samples = 95</text>\n",
       "<text text-anchor=\"middle\" x=\"441.88\" y=\"-394.95\" font-family=\"Times New Roman,serif\" font-size=\"14.00\">value = [95, 0]</text>\n",
       "<text text-anchor=\"middle\" x=\"441.88\" y=\"-378.45\" font-family=\"Times New Roman,serif\" font-size=\"14.00\">class = NO</text>\n",
       "</g>\n",
       "<!-- 11&#45;&gt;15 -->\n",
       "<g id=\"edge15\" class=\"edge\">\n",
       "<title>11&#45;&gt;15</title>\n",
       "<path fill=\"none\" stroke=\"black\" d=\"M371.28,-489.15C381.4,-477.7 392.28,-465.38 402.41,-453.92\"/>\n",
       "<polygon fill=\"black\" stroke=\"black\" points=\"404.97,-456.3 408.97,-446.49 399.73,-451.67 404.97,-456.3\"/>\n",
       "</g>\n",
       "<!-- 13 -->\n",
       "<g id=\"node14\" class=\"node\">\n",
       "<title>13</title>\n",
       "<polygon fill=\"none\" stroke=\"black\" points=\"372.38,-318.75 281.38,-318.75 281.38,-244.75 372.38,-244.75 372.38,-318.75\"/>\n",
       "<text text-anchor=\"middle\" x=\"326.88\" y=\"-301.45\" font-family=\"Times New Roman,serif\" font-size=\"14.00\">gini = 0.0</text>\n",
       "<text text-anchor=\"middle\" x=\"326.88\" y=\"-284.95\" font-family=\"Times New Roman,serif\" font-size=\"14.00\">samples = 2</text>\n",
       "<text text-anchor=\"middle\" x=\"326.88\" y=\"-268.45\" font-family=\"Times New Roman,serif\" font-size=\"14.00\">value = [2, 0]</text>\n",
       "<text text-anchor=\"middle\" x=\"326.88\" y=\"-251.95\" font-family=\"Times New Roman,serif\" font-size=\"14.00\">class = NO</text>\n",
       "</g>\n",
       "<!-- 12&#45;&gt;13 -->\n",
       "<g id=\"edge13\" class=\"edge\">\n",
       "<title>12&#45;&gt;13</title>\n",
       "<path fill=\"none\" stroke=\"black\" d=\"M328.8,-362.65C328.55,-352.1 328.27,-340.81 328.02,-330.13\"/>\n",
       "<polygon fill=\"black\" stroke=\"black\" points=\"331.52,-330.28 327.78,-320.37 324.52,-330.45 331.52,-330.28\"/>\n",
       "</g>\n",
       "<!-- 14 -->\n",
       "<g id=\"node15\" class=\"node\">\n",
       "<title>14</title>\n",
       "<polygon fill=\"none\" stroke=\"black\" points=\"481.38,-318.75 390.38,-318.75 390.38,-244.75 481.38,-244.75 481.38,-318.75\"/>\n",
       "<text text-anchor=\"middle\" x=\"435.88\" y=\"-301.45\" font-family=\"Times New Roman,serif\" font-size=\"14.00\">gini = 0.0</text>\n",
       "<text text-anchor=\"middle\" x=\"435.88\" y=\"-284.95\" font-family=\"Times New Roman,serif\" font-size=\"14.00\">samples = 1</text>\n",
       "<text text-anchor=\"middle\" x=\"435.88\" y=\"-268.45\" font-family=\"Times New Roman,serif\" font-size=\"14.00\">value = [0, 1]</text>\n",
       "<text text-anchor=\"middle\" x=\"435.88\" y=\"-251.95\" font-family=\"Times New Roman,serif\" font-size=\"14.00\">class = YES</text>\n",
       "</g>\n",
       "<!-- 12&#45;&gt;14 -->\n",
       "<g id=\"edge14\" class=\"edge\">\n",
       "<title>12&#45;&gt;14</title>\n",
       "<path fill=\"none\" stroke=\"black\" d=\"M367.84,-362.65C377.6,-351.2 388.09,-338.88 397.84,-327.42\"/>\n",
       "<polygon fill=\"black\" stroke=\"black\" points=\"400.34,-329.89 404.15,-320.01 395.01,-325.35 400.34,-329.89\"/>\n",
       "</g>\n",
       "<!-- 17 -->\n",
       "<g id=\"node18\" class=\"node\">\n",
       "<title>17</title>\n",
       "<polygon fill=\"none\" stroke=\"black\" points=\"508.12,-571.75 403.62,-571.75 403.62,-497.75 508.12,-497.75 508.12,-571.75\"/>\n",
       "<text text-anchor=\"middle\" x=\"455.88\" y=\"-554.45\" font-family=\"Times New Roman,serif\" font-size=\"14.00\">gini = 0.0</text>\n",
       "<text text-anchor=\"middle\" x=\"455.88\" y=\"-537.95\" font-family=\"Times New Roman,serif\" font-size=\"14.00\">samples = 158</text>\n",
       "<text text-anchor=\"middle\" x=\"455.88\" y=\"-521.45\" font-family=\"Times New Roman,serif\" font-size=\"14.00\">value = [0, 158]</text>\n",
       "<text text-anchor=\"middle\" x=\"455.88\" y=\"-504.95\" font-family=\"Times New Roman,serif\" font-size=\"14.00\">class = YES</text>\n",
       "</g>\n",
       "<!-- 16&#45;&gt;17 -->\n",
       "<g id=\"edge17\" class=\"edge\">\n",
       "<title>16&#45;&gt;17</title>\n",
       "<path fill=\"none\" stroke=\"black\" d=\"M457.16,-615.65C456.99,-605.1 456.81,-593.81 456.64,-583.13\"/>\n",
       "<polygon fill=\"black\" stroke=\"black\" points=\"460.14,-583.31 456.48,-573.37 453.14,-583.42 460.14,-583.31\"/>\n",
       "</g>\n",
       "<!-- 18 -->\n",
       "<g id=\"node19\" class=\"node\">\n",
       "<title>18</title>\n",
       "<polygon fill=\"none\" stroke=\"black\" points=\"631.12,-580 526.62,-580 526.62,-489.5 631.12,-489.5 631.12,-580\"/>\n",
       "<text text-anchor=\"middle\" x=\"578.88\" y=\"-562.7\" font-family=\"Times New Roman,serif\" font-size=\"14.00\">X[3] &lt;= 140.5</text>\n",
       "<text text-anchor=\"middle\" x=\"578.88\" y=\"-546.2\" font-family=\"Times New Roman,serif\" font-size=\"14.00\">gini = 0.5</text>\n",
       "<text text-anchor=\"middle\" x=\"578.88\" y=\"-529.7\" font-family=\"Times New Roman,serif\" font-size=\"14.00\">samples = 45</text>\n",
       "<text text-anchor=\"middle\" x=\"578.88\" y=\"-513.2\" font-family=\"Times New Roman,serif\" font-size=\"14.00\">value = [22, 23]</text>\n",
       "<text text-anchor=\"middle\" x=\"578.88\" y=\"-496.7\" font-family=\"Times New Roman,serif\" font-size=\"14.00\">class = YES</text>\n",
       "</g>\n",
       "<!-- 16&#45;&gt;18 -->\n",
       "<g id=\"edge18\" class=\"edge\">\n",
       "<title>16&#45;&gt;18</title>\n",
       "<path fill=\"none\" stroke=\"black\" d=\"M501.22,-615.65C509.73,-606.89 518.74,-597.62 527.49,-588.62\"/>\n",
       "<polygon fill=\"black\" stroke=\"black\" points=\"529.91,-591.15 534.37,-581.54 524.89,-586.27 529.91,-591.15\"/>\n",
       "</g>\n",
       "<!-- 19 -->\n",
       "<g id=\"node20\" class=\"node\">\n",
       "<title>19</title>\n",
       "<polygon fill=\"none\" stroke=\"black\" points=\"618.75,-445.25 521,-445.25 521,-371.25 618.75,-371.25 618.75,-445.25\"/>\n",
       "<text text-anchor=\"middle\" x=\"569.88\" y=\"-427.95\" font-family=\"Times New Roman,serif\" font-size=\"14.00\">gini = 0.0</text>\n",
       "<text text-anchor=\"middle\" x=\"569.88\" y=\"-411.45\" font-family=\"Times New Roman,serif\" font-size=\"14.00\">samples = 22</text>\n",
       "<text text-anchor=\"middle\" x=\"569.88\" y=\"-394.95\" font-family=\"Times New Roman,serif\" font-size=\"14.00\">value = [22, 0]</text>\n",
       "<text text-anchor=\"middle\" x=\"569.88\" y=\"-378.45\" font-family=\"Times New Roman,serif\" font-size=\"14.00\">class = NO</text>\n",
       "</g>\n",
       "<!-- 18&#45;&gt;19 -->\n",
       "<g id=\"edge19\" class=\"edge\">\n",
       "<title>18&#45;&gt;19</title>\n",
       "<path fill=\"none\" stroke=\"black\" d=\"M575.65,-489.15C574.89,-478.6 574.07,-467.31 573.3,-456.63\"/>\n",
       "<polygon fill=\"black\" stroke=\"black\" points=\"576.81,-456.59 572.59,-446.87 569.82,-457.09 576.81,-456.59\"/>\n",
       "</g>\n",
       "<!-- 20 -->\n",
       "<g id=\"node21\" class=\"node\">\n",
       "<title>20</title>\n",
       "<polygon fill=\"none\" stroke=\"black\" points=\"734.75,-445.25 637,-445.25 637,-371.25 734.75,-371.25 734.75,-445.25\"/>\n",
       "<text text-anchor=\"middle\" x=\"685.88\" y=\"-427.95\" font-family=\"Times New Roman,serif\" font-size=\"14.00\">gini = 0.0</text>\n",
       "<text text-anchor=\"middle\" x=\"685.88\" y=\"-411.45\" font-family=\"Times New Roman,serif\" font-size=\"14.00\">samples = 23</text>\n",
       "<text text-anchor=\"middle\" x=\"685.88\" y=\"-394.95\" font-family=\"Times New Roman,serif\" font-size=\"14.00\">value = [0, 23]</text>\n",
       "<text text-anchor=\"middle\" x=\"685.88\" y=\"-378.45\" font-family=\"Times New Roman,serif\" font-size=\"14.00\">class = YES</text>\n",
       "</g>\n",
       "<!-- 18&#45;&gt;20 -->\n",
       "<g id=\"edge20\" class=\"edge\">\n",
       "<title>18&#45;&gt;20</title>\n",
       "<path fill=\"none\" stroke=\"black\" d=\"M617.2,-489.15C627.05,-477.7 637.64,-465.38 647.48,-453.92\"/>\n",
       "<polygon fill=\"black\" stroke=\"black\" points=\"649.99,-456.37 653.86,-446.5 644.69,-451.81 649.99,-456.37\"/>\n",
       "</g>\n",
       "</g>\n",
       "</svg>\n"
      ],
      "text/plain": [
       "<graphviz.sources.Source at 0x1cf54de1308>"
      ]
     },
     "execution_count": 35,
     "metadata": {},
     "output_type": "execute_result"
    }
   ],
   "source": [
    "# Alternatively for class_names use gini_model.classes\n",
    "dot_data_gini = tree.export_graphviz(gini_model, out_file=None, class_names=gini_model.classes_)\n",
    "graph = graphviz.Source(dot_data_gini)\n",
    "graph"
   ]
  },
  {
   "cell_type": "code",
   "execution_count": 36,
   "metadata": {
    "colab": {},
    "colab_type": "code",
    "id": "T0RadBy0DuWp"
   },
   "outputs": [
    {
     "name": "stdout",
     "output_type": "stream",
     "text": [
      "Model Gini impurity model\n",
      "Accuracy: 0.9831932773109243\n",
      "Balanced accuracy: 0.9813946216385241\n",
      "Precision score 0.9871794871794872\n",
      "Recall score 0.975609756097561\n"
     ]
    }
   ],
   "source": [
    "# Run this block for model evaluation\n",
    "print(\"Model Gini impurity model\")\n",
    "print(\"Accuracy:\", metrics.accuracy_score(y_test,y_pred))\n",
    "print(\"Balanced accuracy:\", metrics.balanced_accuracy_score(y_test,y_pred))\n",
    "print('Precision score' , metrics.precision_score(y_test,y_pred, pos_label = \"YES\"))\n",
    "print('Recall score' , metrics.recall_score(y_test,y_pred, pos_label = \"NO\"))"
   ]
  },
  {
   "cell_type": "markdown",
   "metadata": {
    "colab_type": "text",
    "id": "LR5LkC_yDuWs"
   },
   "source": [
    "How do the results here compare to the previous model? Write your judgements here: The model 2 is sightly less accurate than model 1"
   ]
  },
  {
   "cell_type": "markdown",
   "metadata": {
    "colab_type": "text",
    "id": "3PctBjTADuWs"
   },
   "source": [
    "## Model 3: Entropy model - max depth 3\n",
    "We're going to try to limit the depth of our decision tree, using entropy first.  \n",
    "\n",
    "As you know, we need to strike a balance with tree depth. \n",
    "\n",
    "Insufficiently deep, and we're not giving the tree the opportunity to spot the right patterns in the training data.\n",
    "\n",
    "Excessively deep, and we're probably going to make a tree that overfits to the training data, at the cost of very high error on the (hitherto unseen) test data. \n",
    "\n",
    "Sophisticated data scientists use methods like random search with cross-validation to systematically find a good depth for their tree. We'll start with picking 3, and see how that goes. "
   ]
  },
  {
   "cell_type": "code",
   "execution_count": 37,
   "metadata": {
    "colab": {},
    "colab_type": "code",
    "id": "cMiPjWClDuWt"
   },
   "outputs": [
    {
     "data": {
      "text/plain": [
       "DecisionTreeClassifier(ccp_alpha=0.0, class_weight=None, criterion='entropy',\n",
       "                       max_depth=3, max_features=None, max_leaf_nodes=None,\n",
       "                       min_impurity_decrease=0.0, min_impurity_split=None,\n",
       "                       min_samples_leaf=1, min_samples_split=2,\n",
       "                       min_weight_fraction_leaf=0.0, presort='deprecated',\n",
       "                       random_state=1234, splitter='best')"
      ]
     },
     "execution_count": 37,
     "metadata": {},
     "output_type": "execute_result"
    }
   ],
   "source": [
    "# Made a model as before, but call it entr_model2, and make the max_depth parameter equal to 3. \n",
    "# Execute the fitting, predicting, and Series operations as before\n",
    "entr_model2 = tree.DecisionTreeClassifier(criterion='entropy', random_state=1234, max_depth=3)\n",
    "\n",
    "entr_model2.fit(X_train, y_train)\n",
    "y_pred = entr_model2.predict(X_test)\n",
    "\n",
    "y_pred = pd.Series(y_pred)\n",
    "\n",
    "entr_model2"
   ]
  },
  {
   "cell_type": "code",
   "execution_count": 38,
   "metadata": {
    "colab": {},
    "colab_type": "code",
    "id": "IRuw72VMDuWv"
   },
   "outputs": [
    {
     "data": {
      "image/svg+xml": [
       "<?xml version=\"1.0\" encoding=\"UTF-8\" standalone=\"no\"?>\n",
       "<!DOCTYPE svg PUBLIC \"-//W3C//DTD SVG 1.1//EN\"\n",
       " \"http://www.w3.org/Graphics/SVG/1.1/DTD/svg11.dtd\">\n",
       "<!-- Generated by graphviz version 12.2.1 (20241206.2353)\n",
       " -->\n",
       "<!-- Title: Tree Pages: 1 -->\n",
       "<svg width=\"467pt\" height=\"396pt\"\n",
       " viewBox=\"0.00 0.00 466.75 395.50\" xmlns=\"http://www.w3.org/2000/svg\" xmlns:xlink=\"http://www.w3.org/1999/xlink\">\n",
       "<g id=\"graph0\" class=\"graph\" transform=\"scale(1 1) rotate(0) translate(4 391.5)\">\n",
       "<title>Tree</title>\n",
       "<polygon fill=\"white\" stroke=\"none\" points=\"-4,4 -4,-391.5 462.75,-391.5 462.75,4 -4,4\"/>\n",
       "<!-- 0 -->\n",
       "<g id=\"node1\" class=\"node\">\n",
       "<title>0</title>\n",
       "<polygon fill=\"none\" stroke=\"black\" points=\"345.5,-387.5 227.5,-387.5 227.5,-313.5 345.5,-313.5 345.5,-387.5\"/>\n",
       "<text text-anchor=\"middle\" x=\"286.5\" y=\"-370.2\" font-family=\"Times New Roman,serif\" font-size=\"14.00\">X[3] &lt;= 138.0</text>\n",
       "<text text-anchor=\"middle\" x=\"286.5\" y=\"-353.7\" font-family=\"Times New Roman,serif\" font-size=\"14.00\">entropy = 0.948</text>\n",
       "<text text-anchor=\"middle\" x=\"286.5\" y=\"-337.2\" font-family=\"Times New Roman,serif\" font-size=\"14.00\">samples = 355</text>\n",
       "<text text-anchor=\"middle\" x=\"286.5\" y=\"-320.7\" font-family=\"Times New Roman,serif\" font-size=\"14.00\">value = [130, 225]</text>\n",
       "</g>\n",
       "<!-- 1 -->\n",
       "<g id=\"node2\" class=\"node\">\n",
       "<title>1</title>\n",
       "<polygon fill=\"none\" stroke=\"black\" points=\"281.5,-277.5 163.5,-277.5 163.5,-203.5 281.5,-203.5 281.5,-277.5\"/>\n",
       "<text text-anchor=\"middle\" x=\"222.5\" y=\"-260.2\" font-family=\"Times New Roman,serif\" font-size=\"14.00\">X[5] &lt;= 3.524</text>\n",
       "<text text-anchor=\"middle\" x=\"222.5\" y=\"-243.7\" font-family=\"Times New Roman,serif\" font-size=\"14.00\">entropy = 0.991</text>\n",
       "<text text-anchor=\"middle\" x=\"222.5\" y=\"-227.2\" font-family=\"Times New Roman,serif\" font-size=\"14.00\">samples = 234</text>\n",
       "<text text-anchor=\"middle\" x=\"222.5\" y=\"-210.7\" font-family=\"Times New Roman,serif\" font-size=\"14.00\">value = [130, 104]</text>\n",
       "</g>\n",
       "<!-- 0&#45;&gt;1 -->\n",
       "<g id=\"edge1\" class=\"edge\">\n",
       "<title>0&#45;&gt;1</title>\n",
       "<path fill=\"none\" stroke=\"black\" d=\"M265.01,-313.24C260.16,-305.04 254.94,-296.24 249.88,-287.7\"/>\n",
       "<polygon fill=\"black\" stroke=\"black\" points=\"252.92,-285.97 244.81,-279.15 246.9,-289.54 252.92,-285.97\"/>\n",
       "<text text-anchor=\"middle\" x=\"237.85\" y=\"-297.02\" font-family=\"Times New Roman,serif\" font-size=\"14.00\">True</text>\n",
       "</g>\n",
       "<!-- 8 -->\n",
       "<g id=\"node9\" class=\"node\">\n",
       "<title>8</title>\n",
       "<polygon fill=\"none\" stroke=\"black\" points=\"403.75,-269.25 299.25,-269.25 299.25,-211.75 403.75,-211.75 403.75,-269.25\"/>\n",
       "<text text-anchor=\"middle\" x=\"351.5\" y=\"-251.95\" font-family=\"Times New Roman,serif\" font-size=\"14.00\">entropy = 0.0</text>\n",
       "<text text-anchor=\"middle\" x=\"351.5\" y=\"-235.45\" font-family=\"Times New Roman,serif\" font-size=\"14.00\">samples = 121</text>\n",
       "<text text-anchor=\"middle\" x=\"351.5\" y=\"-218.95\" font-family=\"Times New Roman,serif\" font-size=\"14.00\">value = [0, 121]</text>\n",
       "</g>\n",
       "<!-- 0&#45;&gt;8 -->\n",
       "<g id=\"edge8\" class=\"edge\">\n",
       "<title>0&#45;&gt;8</title>\n",
       "<path fill=\"none\" stroke=\"black\" d=\"M308.32,-313.24C314.88,-302.35 322.08,-290.39 328.69,-279.4\"/>\n",
       "<polygon fill=\"black\" stroke=\"black\" points=\"331.62,-281.31 333.78,-270.94 325.63,-277.7 331.62,-281.31\"/>\n",
       "<text text-anchor=\"middle\" x=\"340.59\" y=\"-288.85\" font-family=\"Times New Roman,serif\" font-size=\"14.00\">False</text>\n",
       "</g>\n",
       "<!-- 2 -->\n",
       "<g id=\"node3\" class=\"node\">\n",
       "<title>2</title>\n",
       "<polygon fill=\"none\" stroke=\"black\" points=\"211.38,-167.5 107.62,-167.5 107.62,-93.5 211.38,-93.5 211.38,-167.5\"/>\n",
       "<text text-anchor=\"middle\" x=\"159.5\" y=\"-150.2\" font-family=\"Times New Roman,serif\" font-size=\"14.00\">X[3] &lt;= 24.5</text>\n",
       "<text text-anchor=\"middle\" x=\"159.5\" y=\"-133.7\" font-family=\"Times New Roman,serif\" font-size=\"14.00\">entropy = 0.512</text>\n",
       "<text text-anchor=\"middle\" x=\"159.5\" y=\"-117.2\" font-family=\"Times New Roman,serif\" font-size=\"14.00\">samples = 79</text>\n",
       "<text text-anchor=\"middle\" x=\"159.5\" y=\"-100.7\" font-family=\"Times New Roman,serif\" font-size=\"14.00\">value = [9, 70]</text>\n",
       "</g>\n",
       "<!-- 1&#45;&gt;2 -->\n",
       "<g id=\"edge2\" class=\"edge\">\n",
       "<title>1&#45;&gt;2</title>\n",
       "<path fill=\"none\" stroke=\"black\" d=\"M201.35,-203.24C196.57,-195.04 191.43,-186.24 186.45,-177.7\"/>\n",
       "<polygon fill=\"black\" stroke=\"black\" points=\"189.53,-176.03 181.47,-169.16 183.48,-179.56 189.53,-176.03\"/>\n",
       "</g>\n",
       "<!-- 5 -->\n",
       "<g id=\"node6\" class=\"node\">\n",
       "<title>5</title>\n",
       "<polygon fill=\"none\" stroke=\"black\" points=\"341.12,-167.5 229.88,-167.5 229.88,-93.5 341.12,-93.5 341.12,-167.5\"/>\n",
       "<text text-anchor=\"middle\" x=\"285.5\" y=\"-150.2\" font-family=\"Times New Roman,serif\" font-size=\"14.00\">X[3] &lt;= 101.0</text>\n",
       "<text text-anchor=\"middle\" x=\"285.5\" y=\"-133.7\" font-family=\"Times New Roman,serif\" font-size=\"14.00\">entropy = 0.759</text>\n",
       "<text text-anchor=\"middle\" x=\"285.5\" y=\"-117.2\" font-family=\"Times New Roman,serif\" font-size=\"14.00\">samples = 155</text>\n",
       "<text text-anchor=\"middle\" x=\"285.5\" y=\"-100.7\" font-family=\"Times New Roman,serif\" font-size=\"14.00\">value = [121, 34]</text>\n",
       "</g>\n",
       "<!-- 1&#45;&gt;5 -->\n",
       "<g id=\"edge5\" class=\"edge\">\n",
       "<title>1&#45;&gt;5</title>\n",
       "<path fill=\"none\" stroke=\"black\" d=\"M243.65,-203.24C248.43,-195.04 253.57,-186.24 258.55,-177.7\"/>\n",
       "<polygon fill=\"black\" stroke=\"black\" points=\"261.52,-179.56 263.53,-169.16 255.47,-176.03 261.52,-179.56\"/>\n",
       "</g>\n",
       "<!-- 3 -->\n",
       "<g id=\"node4\" class=\"node\">\n",
       "<title>3</title>\n",
       "<polygon fill=\"none\" stroke=\"black\" points=\"91,-57.5 0,-57.5 0,0 91,0 91,-57.5\"/>\n",
       "<text text-anchor=\"middle\" x=\"45.5\" y=\"-40.2\" font-family=\"Times New Roman,serif\" font-size=\"14.00\">entropy = 0.0</text>\n",
       "<text text-anchor=\"middle\" x=\"45.5\" y=\"-23.7\" font-family=\"Times New Roman,serif\" font-size=\"14.00\">samples = 8</text>\n",
       "<text text-anchor=\"middle\" x=\"45.5\" y=\"-7.2\" font-family=\"Times New Roman,serif\" font-size=\"14.00\">value = [8, 0]</text>\n",
       "</g>\n",
       "<!-- 2&#45;&gt;3 -->\n",
       "<g id=\"edge3\" class=\"edge\">\n",
       "<title>2&#45;&gt;3</title>\n",
       "<path fill=\"none\" stroke=\"black\" d=\"M118.02,-93.21C107.58,-84.07 96.38,-74.27 85.98,-65.17\"/>\n",
       "<polygon fill=\"black\" stroke=\"black\" points=\"88.44,-62.68 78.61,-58.72 83.83,-67.94 88.44,-62.68\"/>\n",
       "</g>\n",
       "<!-- 4 -->\n",
       "<g id=\"node5\" class=\"node\">\n",
       "<title>4</title>\n",
       "<polygon fill=\"none\" stroke=\"black\" points=\"212.38,-57.5 108.62,-57.5 108.62,0 212.38,0 212.38,-57.5\"/>\n",
       "<text text-anchor=\"middle\" x=\"160.5\" y=\"-40.2\" font-family=\"Times New Roman,serif\" font-size=\"14.00\">entropy = 0.107</text>\n",
       "<text text-anchor=\"middle\" x=\"160.5\" y=\"-23.7\" font-family=\"Times New Roman,serif\" font-size=\"14.00\">samples = 71</text>\n",
       "<text text-anchor=\"middle\" x=\"160.5\" y=\"-7.2\" font-family=\"Times New Roman,serif\" font-size=\"14.00\">value = [1, 70]</text>\n",
       "</g>\n",
       "<!-- 2&#45;&gt;4 -->\n",
       "<g id=\"edge4\" class=\"edge\">\n",
       "<title>2&#45;&gt;4</title>\n",
       "<path fill=\"none\" stroke=\"black\" d=\"M159.86,-93.21C159.94,-85.35 160.03,-77 160.11,-69.03\"/>\n",
       "<polygon fill=\"black\" stroke=\"black\" points=\"163.6,-69.28 160.2,-59.24 156.6,-69.21 163.6,-69.28\"/>\n",
       "</g>\n",
       "<!-- 6 -->\n",
       "<g id=\"node7\" class=\"node\">\n",
       "<title>6</title>\n",
       "<polygon fill=\"none\" stroke=\"black\" points=\"336.38,-57.5 232.62,-57.5 232.62,0 336.38,0 336.38,-57.5\"/>\n",
       "<text text-anchor=\"middle\" x=\"284.5\" y=\"-40.2\" font-family=\"Times New Roman,serif\" font-size=\"14.00\">entropy = 0.191</text>\n",
       "<text text-anchor=\"middle\" x=\"284.5\" y=\"-23.7\" font-family=\"Times New Roman,serif\" font-size=\"14.00\">samples = 102</text>\n",
       "<text text-anchor=\"middle\" x=\"284.5\" y=\"-7.2\" font-family=\"Times New Roman,serif\" font-size=\"14.00\">value = [99, 3]</text>\n",
       "</g>\n",
       "<!-- 5&#45;&gt;6 -->\n",
       "<g id=\"edge6\" class=\"edge\">\n",
       "<title>5&#45;&gt;6</title>\n",
       "<path fill=\"none\" stroke=\"black\" d=\"M285.14,-93.21C285.06,-85.35 284.97,-77 284.89,-69.03\"/>\n",
       "<polygon fill=\"black\" stroke=\"black\" points=\"288.4,-69.21 284.8,-59.24 281.4,-69.28 288.4,-69.21\"/>\n",
       "</g>\n",
       "<!-- 7 -->\n",
       "<g id=\"node8\" class=\"node\">\n",
       "<title>7</title>\n",
       "<polygon fill=\"none\" stroke=\"black\" points=\"458.75,-57.5 354.25,-57.5 354.25,0 458.75,0 458.75,-57.5\"/>\n",
       "<text text-anchor=\"middle\" x=\"406.5\" y=\"-40.2\" font-family=\"Times New Roman,serif\" font-size=\"14.00\">entropy = 0.979</text>\n",
       "<text text-anchor=\"middle\" x=\"406.5\" y=\"-23.7\" font-family=\"Times New Roman,serif\" font-size=\"14.00\">samples = 53</text>\n",
       "<text text-anchor=\"middle\" x=\"406.5\" y=\"-7.2\" font-family=\"Times New Roman,serif\" font-size=\"14.00\">value = [22, 31]</text>\n",
       "</g>\n",
       "<!-- 5&#45;&gt;7 -->\n",
       "<g id=\"edge7\" class=\"edge\">\n",
       "<title>5&#45;&gt;7</title>\n",
       "<path fill=\"none\" stroke=\"black\" d=\"M329.53,-93.21C340.72,-83.98 352.73,-74.07 363.86,-64.9\"/>\n",
       "<polygon fill=\"black\" stroke=\"black\" points=\"365.9,-67.75 371.39,-58.69 361.45,-62.35 365.9,-67.75\"/>\n",
       "</g>\n",
       "</g>\n",
       "</svg>\n"
      ],
      "text/plain": [
       "<graphviz.sources.Source at 0x1cf54de6248>"
      ]
     },
     "execution_count": 38,
     "metadata": {},
     "output_type": "execute_result"
    }
   ],
   "source": [
    "# As before, we need to visualize the tree to grasp its nature\n",
    "dot_data_entr_model2 = tree.export_graphviz(entr_model2, out_file=None)\n",
    "graph_entr_model2 = graphviz.Source(dot_data_entr_model2)\n",
    "graph_entr_model2\n",
    "# Alternatively for class_names use entr_model2.classes_\n"
   ]
  },
  {
   "cell_type": "code",
   "execution_count": 39,
   "metadata": {},
   "outputs": [
    {
     "data": {
      "image/svg+xml": [
       "<?xml version=\"1.0\" encoding=\"UTF-8\" standalone=\"no\"?>\n",
       "<!DOCTYPE svg PUBLIC \"-//W3C//DTD SVG 1.1//EN\"\n",
       " \"http://www.w3.org/Graphics/SVG/1.1/DTD/svg11.dtd\">\n",
       "<!-- Generated by graphviz version 12.2.1 (20241206.2353)\n",
       " -->\n",
       "<!-- Title: Tree Pages: 1 -->\n",
       "<svg width=\"467pt\" height=\"462pt\"\n",
       " viewBox=\"0.00 0.00 466.75 461.50\" xmlns=\"http://www.w3.org/2000/svg\" xmlns:xlink=\"http://www.w3.org/1999/xlink\">\n",
       "<g id=\"graph0\" class=\"graph\" transform=\"scale(1 1) rotate(0) translate(4 457.5)\">\n",
       "<title>Tree</title>\n",
       "<polygon fill=\"white\" stroke=\"none\" points=\"-4,4 -4,-457.5 462.75,-457.5 462.75,4 -4,4\"/>\n",
       "<!-- 0 -->\n",
       "<g id=\"node1\" class=\"node\">\n",
       "<title>0</title>\n",
       "<polygon fill=\"none\" stroke=\"black\" points=\"345.5,-453.5 227.5,-453.5 227.5,-363 345.5,-363 345.5,-453.5\"/>\n",
       "<text text-anchor=\"middle\" x=\"286.5\" y=\"-436.2\" font-family=\"Times New Roman,serif\" font-size=\"14.00\">X[3] &lt;= 138.0</text>\n",
       "<text text-anchor=\"middle\" x=\"286.5\" y=\"-419.7\" font-family=\"Times New Roman,serif\" font-size=\"14.00\">entropy = 0.948</text>\n",
       "<text text-anchor=\"middle\" x=\"286.5\" y=\"-403.2\" font-family=\"Times New Roman,serif\" font-size=\"14.00\">samples = 355</text>\n",
       "<text text-anchor=\"middle\" x=\"286.5\" y=\"-386.7\" font-family=\"Times New Roman,serif\" font-size=\"14.00\">value = [130, 225]</text>\n",
       "<text text-anchor=\"middle\" x=\"286.5\" y=\"-370.2\" font-family=\"Times New Roman,serif\" font-size=\"14.00\">class = YES</text>\n",
       "</g>\n",
       "<!-- 1 -->\n",
       "<g id=\"node2\" class=\"node\">\n",
       "<title>1</title>\n",
       "<polygon fill=\"none\" stroke=\"black\" points=\"281.5,-327 163.5,-327 163.5,-236.5 281.5,-236.5 281.5,-327\"/>\n",
       "<text text-anchor=\"middle\" x=\"222.5\" y=\"-309.7\" font-family=\"Times New Roman,serif\" font-size=\"14.00\">X[5] &lt;= 3.524</text>\n",
       "<text text-anchor=\"middle\" x=\"222.5\" y=\"-293.2\" font-family=\"Times New Roman,serif\" font-size=\"14.00\">entropy = 0.991</text>\n",
       "<text text-anchor=\"middle\" x=\"222.5\" y=\"-276.7\" font-family=\"Times New Roman,serif\" font-size=\"14.00\">samples = 234</text>\n",
       "<text text-anchor=\"middle\" x=\"222.5\" y=\"-260.2\" font-family=\"Times New Roman,serif\" font-size=\"14.00\">value = [130, 104]</text>\n",
       "<text text-anchor=\"middle\" x=\"222.5\" y=\"-243.7\" font-family=\"Times New Roman,serif\" font-size=\"14.00\">class = NO</text>\n",
       "</g>\n",
       "<!-- 0&#45;&gt;1 -->\n",
       "<g id=\"edge1\" class=\"edge\">\n",
       "<title>0&#45;&gt;1</title>\n",
       "<path fill=\"none\" stroke=\"black\" d=\"M263.58,-362.65C259.39,-354.52 254.99,-345.95 250.67,-337.55\"/>\n",
       "<polygon fill=\"black\" stroke=\"black\" points=\"253.86,-336.09 246.17,-328.8 247.63,-339.29 253.86,-336.09\"/>\n",
       "<text text-anchor=\"middle\" x=\"237.84\" y=\"-346.21\" font-family=\"Times New Roman,serif\" font-size=\"14.00\">True</text>\n",
       "</g>\n",
       "<!-- 8 -->\n",
       "<g id=\"node9\" class=\"node\">\n",
       "<title>8</title>\n",
       "<polygon fill=\"none\" stroke=\"black\" points=\"403.75,-318.75 299.25,-318.75 299.25,-244.75 403.75,-244.75 403.75,-318.75\"/>\n",
       "<text text-anchor=\"middle\" x=\"351.5\" y=\"-301.45\" font-family=\"Times New Roman,serif\" font-size=\"14.00\">entropy = 0.0</text>\n",
       "<text text-anchor=\"middle\" x=\"351.5\" y=\"-284.95\" font-family=\"Times New Roman,serif\" font-size=\"14.00\">samples = 121</text>\n",
       "<text text-anchor=\"middle\" x=\"351.5\" y=\"-268.45\" font-family=\"Times New Roman,serif\" font-size=\"14.00\">value = [0, 121]</text>\n",
       "<text text-anchor=\"middle\" x=\"351.5\" y=\"-251.95\" font-family=\"Times New Roman,serif\" font-size=\"14.00\">class = YES</text>\n",
       "</g>\n",
       "<!-- 0&#45;&gt;8 -->\n",
       "<g id=\"edge8\" class=\"edge\">\n",
       "<title>0&#45;&gt;8</title>\n",
       "<path fill=\"none\" stroke=\"black\" d=\"M309.78,-362.65C315.53,-351.65 321.69,-339.84 327.47,-328.77\"/>\n",
       "<polygon fill=\"black\" stroke=\"black\" points=\"330.42,-330.68 331.95,-320.2 324.22,-327.44 330.42,-330.68\"/>\n",
       "<text text-anchor=\"middle\" x=\"340.14\" y=\"-337.66\" font-family=\"Times New Roman,serif\" font-size=\"14.00\">False</text>\n",
       "</g>\n",
       "<!-- 2 -->\n",
       "<g id=\"node3\" class=\"node\">\n",
       "<title>2</title>\n",
       "<polygon fill=\"none\" stroke=\"black\" points=\"211.38,-200.5 107.62,-200.5 107.62,-110 211.38,-110 211.38,-200.5\"/>\n",
       "<text text-anchor=\"middle\" x=\"159.5\" y=\"-183.2\" font-family=\"Times New Roman,serif\" font-size=\"14.00\">X[3] &lt;= 24.5</text>\n",
       "<text text-anchor=\"middle\" x=\"159.5\" y=\"-166.7\" font-family=\"Times New Roman,serif\" font-size=\"14.00\">entropy = 0.512</text>\n",
       "<text text-anchor=\"middle\" x=\"159.5\" y=\"-150.2\" font-family=\"Times New Roman,serif\" font-size=\"14.00\">samples = 79</text>\n",
       "<text text-anchor=\"middle\" x=\"159.5\" y=\"-133.7\" font-family=\"Times New Roman,serif\" font-size=\"14.00\">value = [9, 70]</text>\n",
       "<text text-anchor=\"middle\" x=\"159.5\" y=\"-117.2\" font-family=\"Times New Roman,serif\" font-size=\"14.00\">class = YES</text>\n",
       "</g>\n",
       "<!-- 1&#45;&gt;2 -->\n",
       "<g id=\"edge2\" class=\"edge\">\n",
       "<title>1&#45;&gt;2</title>\n",
       "<path fill=\"none\" stroke=\"black\" d=\"M199.93,-236.15C195.82,-228.02 191.48,-219.45 187.23,-211.05\"/>\n",
       "<polygon fill=\"black\" stroke=\"black\" points=\"190.44,-209.65 182.8,-202.3 184.2,-212.81 190.44,-209.65\"/>\n",
       "</g>\n",
       "<!-- 5 -->\n",
       "<g id=\"node6\" class=\"node\">\n",
       "<title>5</title>\n",
       "<polygon fill=\"none\" stroke=\"black\" points=\"341.12,-200.5 229.88,-200.5 229.88,-110 341.12,-110 341.12,-200.5\"/>\n",
       "<text text-anchor=\"middle\" x=\"285.5\" y=\"-183.2\" font-family=\"Times New Roman,serif\" font-size=\"14.00\">X[3] &lt;= 101.0</text>\n",
       "<text text-anchor=\"middle\" x=\"285.5\" y=\"-166.7\" font-family=\"Times New Roman,serif\" font-size=\"14.00\">entropy = 0.759</text>\n",
       "<text text-anchor=\"middle\" x=\"285.5\" y=\"-150.2\" font-family=\"Times New Roman,serif\" font-size=\"14.00\">samples = 155</text>\n",
       "<text text-anchor=\"middle\" x=\"285.5\" y=\"-133.7\" font-family=\"Times New Roman,serif\" font-size=\"14.00\">value = [121, 34]</text>\n",
       "<text text-anchor=\"middle\" x=\"285.5\" y=\"-117.2\" font-family=\"Times New Roman,serif\" font-size=\"14.00\">class = NO</text>\n",
       "</g>\n",
       "<!-- 1&#45;&gt;5 -->\n",
       "<g id=\"edge5\" class=\"edge\">\n",
       "<title>1&#45;&gt;5</title>\n",
       "<path fill=\"none\" stroke=\"black\" d=\"M245.07,-236.15C249.18,-228.02 253.52,-219.45 257.77,-211.05\"/>\n",
       "<polygon fill=\"black\" stroke=\"black\" points=\"260.8,-212.81 262.2,-202.3 254.56,-209.65 260.8,-212.81\"/>\n",
       "</g>\n",
       "<!-- 3 -->\n",
       "<g id=\"node4\" class=\"node\">\n",
       "<title>3</title>\n",
       "<polygon fill=\"none\" stroke=\"black\" points=\"91,-74 0,-74 0,0 91,0 91,-74\"/>\n",
       "<text text-anchor=\"middle\" x=\"45.5\" y=\"-56.7\" font-family=\"Times New Roman,serif\" font-size=\"14.00\">entropy = 0.0</text>\n",
       "<text text-anchor=\"middle\" x=\"45.5\" y=\"-40.2\" font-family=\"Times New Roman,serif\" font-size=\"14.00\">samples = 8</text>\n",
       "<text text-anchor=\"middle\" x=\"45.5\" y=\"-23.7\" font-family=\"Times New Roman,serif\" font-size=\"14.00\">value = [8, 0]</text>\n",
       "<text text-anchor=\"middle\" x=\"45.5\" y=\"-7.2\" font-family=\"Times New Roman,serif\" font-size=\"14.00\">class = NO</text>\n",
       "</g>\n",
       "<!-- 2&#45;&gt;3 -->\n",
       "<g id=\"edge3\" class=\"edge\">\n",
       "<title>2&#45;&gt;3</title>\n",
       "<path fill=\"none\" stroke=\"black\" d=\"M115.75,-109.64C107,-100.72 97.81,-91.34 89.07,-82.43\"/>\n",
       "<polygon fill=\"black\" stroke=\"black\" points=\"91.75,-80.16 82.25,-75.47 86.75,-85.06 91.75,-80.16\"/>\n",
       "</g>\n",
       "<!-- 4 -->\n",
       "<g id=\"node5\" class=\"node\">\n",
       "<title>4</title>\n",
       "<polygon fill=\"none\" stroke=\"black\" points=\"212.38,-74 108.62,-74 108.62,0 212.38,0 212.38,-74\"/>\n",
       "<text text-anchor=\"middle\" x=\"160.5\" y=\"-56.7\" font-family=\"Times New Roman,serif\" font-size=\"14.00\">entropy = 0.107</text>\n",
       "<text text-anchor=\"middle\" x=\"160.5\" y=\"-40.2\" font-family=\"Times New Roman,serif\" font-size=\"14.00\">samples = 71</text>\n",
       "<text text-anchor=\"middle\" x=\"160.5\" y=\"-23.7\" font-family=\"Times New Roman,serif\" font-size=\"14.00\">value = [1, 70]</text>\n",
       "<text text-anchor=\"middle\" x=\"160.5\" y=\"-7.2\" font-family=\"Times New Roman,serif\" font-size=\"14.00\">class = YES</text>\n",
       "</g>\n",
       "<!-- 2&#45;&gt;4 -->\n",
       "<g id=\"edge4\" class=\"edge\">\n",
       "<title>2&#45;&gt;4</title>\n",
       "<path fill=\"none\" stroke=\"black\" d=\"M159.88,-109.64C159.95,-101.81 160.02,-93.63 160.09,-85.72\"/>\n",
       "<polygon fill=\"black\" stroke=\"black\" points=\"163.59,-85.94 160.17,-75.91 156.59,-85.88 163.59,-85.94\"/>\n",
       "</g>\n",
       "<!-- 6 -->\n",
       "<g id=\"node7\" class=\"node\">\n",
       "<title>6</title>\n",
       "<polygon fill=\"none\" stroke=\"black\" points=\"336.38,-74 232.62,-74 232.62,0 336.38,0 336.38,-74\"/>\n",
       "<text text-anchor=\"middle\" x=\"284.5\" y=\"-56.7\" font-family=\"Times New Roman,serif\" font-size=\"14.00\">entropy = 0.191</text>\n",
       "<text text-anchor=\"middle\" x=\"284.5\" y=\"-40.2\" font-family=\"Times New Roman,serif\" font-size=\"14.00\">samples = 102</text>\n",
       "<text text-anchor=\"middle\" x=\"284.5\" y=\"-23.7\" font-family=\"Times New Roman,serif\" font-size=\"14.00\">value = [99, 3]</text>\n",
       "<text text-anchor=\"middle\" x=\"284.5\" y=\"-7.2\" font-family=\"Times New Roman,serif\" font-size=\"14.00\">class = NO</text>\n",
       "</g>\n",
       "<!-- 5&#45;&gt;6 -->\n",
       "<g id=\"edge6\" class=\"edge\">\n",
       "<title>5&#45;&gt;6</title>\n",
       "<path fill=\"none\" stroke=\"black\" d=\"M285.12,-109.64C285.05,-101.81 284.98,-93.63 284.91,-85.72\"/>\n",
       "<polygon fill=\"black\" stroke=\"black\" points=\"288.41,-85.88 284.83,-75.91 281.41,-85.94 288.41,-85.88\"/>\n",
       "</g>\n",
       "<!-- 7 -->\n",
       "<g id=\"node8\" class=\"node\">\n",
       "<title>7</title>\n",
       "<polygon fill=\"none\" stroke=\"black\" points=\"458.75,-74 354.25,-74 354.25,0 458.75,0 458.75,-74\"/>\n",
       "<text text-anchor=\"middle\" x=\"406.5\" y=\"-56.7\" font-family=\"Times New Roman,serif\" font-size=\"14.00\">entropy = 0.979</text>\n",
       "<text text-anchor=\"middle\" x=\"406.5\" y=\"-40.2\" font-family=\"Times New Roman,serif\" font-size=\"14.00\">samples = 53</text>\n",
       "<text text-anchor=\"middle\" x=\"406.5\" y=\"-23.7\" font-family=\"Times New Roman,serif\" font-size=\"14.00\">value = [22, 31]</text>\n",
       "<text text-anchor=\"middle\" x=\"406.5\" y=\"-7.2\" font-family=\"Times New Roman,serif\" font-size=\"14.00\">class = YES</text>\n",
       "</g>\n",
       "<!-- 5&#45;&gt;7 -->\n",
       "<g id=\"edge7\" class=\"edge\">\n",
       "<title>5&#45;&gt;7</title>\n",
       "<path fill=\"none\" stroke=\"black\" d=\"M331.94,-109.64C341.32,-100.62 351.18,-91.15 360.54,-82.15\"/>\n",
       "<polygon fill=\"black\" stroke=\"black\" points=\"362.74,-84.89 367.53,-75.44 357.89,-79.85 362.74,-84.89\"/>\n",
       "</g>\n",
       "</g>\n",
       "</svg>\n"
      ],
      "text/plain": [
       "<graphviz.sources.Source at 0x1cf54de6ec8>"
      ]
     },
     "execution_count": 39,
     "metadata": {},
     "output_type": "execute_result"
    }
   ],
   "source": [
    "# Alternatively for class_names use entr_model2.classes_\n",
    "dot_data_entr_model2 = tree.export_graphviz(entr_model2, out_file=None, class_names=entr_model2.classes_)\n",
    "graph_entr_model2 = graphviz.Source(dot_data_entr_model2)\n",
    "graph_entr_model2"
   ]
  },
  {
   "cell_type": "code",
   "execution_count": 40,
   "metadata": {
    "colab": {},
    "colab_type": "code",
    "id": "29f4vmmMDuWy"
   },
   "outputs": [
    {
     "name": "stdout",
     "output_type": "stream",
     "text": [
      "Model Entropy model max depth 3\n",
      "Accuracy: 0.907563025210084\n",
      "Balanced accuracy: 0.8658536585365854\n",
      "Precision score for \"Yes\" 0.8764044943820225\n",
      "Recall score for \"No\" 0.7317073170731707\n"
     ]
    }
   ],
   "source": [
    "# Run this block for model evaluation \n",
    "print(\"Model Entropy model max depth 3\")\n",
    "print(\"Accuracy:\", metrics.accuracy_score(y_test,y_pred))\n",
    "print(\"Balanced accuracy:\", metrics.balanced_accuracy_score(y_test,y_pred))\n",
    "print('Precision score for \"Yes\"' , metrics.precision_score(y_test,y_pred, pos_label = \"YES\"))\n",
    "print('Recall score for \"No\"' , metrics.recall_score(y_test,y_pred, pos_label = \"NO\"))"
   ]
  },
  {
   "cell_type": "markdown",
   "metadata": {
    "colab_type": "text",
    "id": "AG7S2YgUDuW4"
   },
   "source": [
    "So our accuracy decreased, but is this certainly an inferior tree to the max depth original tree we did with Model 1? Write your conclusions here: The accuracy is decreased beacuase we generalized to a test set ."
   ]
  },
  {
   "cell_type": "markdown",
   "metadata": {
    "colab_type": "text",
    "id": "FZTl4W3wDuW4"
   },
   "source": [
    "## Model 4: Gini impurity  model - max depth 3\n",
    "We're now going to try the same with the Gini impurity model. "
   ]
  },
  {
   "cell_type": "code",
   "execution_count": 41,
   "metadata": {
    "colab": {},
    "colab_type": "code",
    "id": "FJK1bkG3DuW5"
   },
   "outputs": [
    {
     "data": {
      "text/plain": [
       "DecisionTreeClassifier(ccp_alpha=0.0, class_weight=None, criterion='gini',\n",
       "                       max_depth=3, max_features=None, max_leaf_nodes=None,\n",
       "                       min_impurity_decrease=0.0, min_impurity_split=None,\n",
       "                       min_samples_leaf=1, min_samples_split=2,\n",
       "                       min_weight_fraction_leaf=0.0, presort='deprecated',\n",
       "                       random_state=1234, splitter='best')"
      ]
     },
     "execution_count": 41,
     "metadata": {},
     "output_type": "execute_result"
    }
   ],
   "source": [
    "# As before, make a variable, but call it gini_model2, and ensure the max_depth parameter is set to 3\n",
    "gini_model2 = tree.DecisionTreeClassifier(criterion ='gini', random_state=1234, max_depth=3)\n",
    "\n",
    "# Do the fit, predict, and series transformations as before. \n",
    "gini_model2.fit(X_train, y_train)\n",
    "\n",
    "y_pred = gini_model2.predict(X_test)\n",
    "y_pred = pd.Series(y_pred)\n",
    "\n",
    "gini_model2\n"
   ]
  },
  {
   "cell_type": "code",
   "execution_count": 42,
   "metadata": {
    "colab": {},
    "colab_type": "code",
    "id": "_UIWhKZBDuW7"
   },
   "outputs": [
    {
     "data": {
      "image/svg+xml": [
       "<?xml version=\"1.0\" encoding=\"UTF-8\" standalone=\"no\"?>\n",
       "<!DOCTYPE svg PUBLIC \"-//W3C//DTD SVG 1.1//EN\"\n",
       " \"http://www.w3.org/Graphics/SVG/1.1/DTD/svg11.dtd\">\n",
       "<!-- Generated by graphviz version 12.2.1 (20241206.2353)\n",
       " -->\n",
       "<!-- Title: Tree Pages: 1 -->\n",
       "<svg width=\"685pt\" height=\"396pt\"\n",
       " viewBox=\"0.00 0.00 685.38 395.50\" xmlns=\"http://www.w3.org/2000/svg\" xmlns:xlink=\"http://www.w3.org/1999/xlink\">\n",
       "<g id=\"graph0\" class=\"graph\" transform=\"scale(1 1) rotate(0) translate(4 391.5)\">\n",
       "<title>Tree</title>\n",
       "<polygon fill=\"white\" stroke=\"none\" points=\"-4,4 -4,-391.5 681.38,-391.5 681.38,4 -4,4\"/>\n",
       "<!-- 0 -->\n",
       "<g id=\"node1\" class=\"node\">\n",
       "<title>0</title>\n",
       "<polygon fill=\"none\" stroke=\"black\" points=\"394.5,-387.5 276.5,-387.5 276.5,-313.5 394.5,-313.5 394.5,-387.5\"/>\n",
       "<text text-anchor=\"middle\" x=\"335.5\" y=\"-370.2\" font-family=\"Times New Roman,serif\" font-size=\"14.00\">X[3] &lt;= 100.5</text>\n",
       "<text text-anchor=\"middle\" x=\"335.5\" y=\"-353.7\" font-family=\"Times New Roman,serif\" font-size=\"14.00\">gini = 0.464</text>\n",
       "<text text-anchor=\"middle\" x=\"335.5\" y=\"-337.2\" font-family=\"Times New Roman,serif\" font-size=\"14.00\">samples = 355</text>\n",
       "<text text-anchor=\"middle\" x=\"335.5\" y=\"-320.7\" font-family=\"Times New Roman,serif\" font-size=\"14.00\">value = [130, 225]</text>\n",
       "</g>\n",
       "<!-- 1 -->\n",
       "<g id=\"node2\" class=\"node\">\n",
       "<title>1</title>\n",
       "<polygon fill=\"none\" stroke=\"black\" points=\"327.12,-277.5 215.88,-277.5 215.88,-203.5 327.12,-203.5 327.12,-277.5\"/>\n",
       "<text text-anchor=\"middle\" x=\"271.5\" y=\"-260.2\" font-family=\"Times New Roman,serif\" font-size=\"14.00\">X[5] &lt;= 3.754</text>\n",
       "<text text-anchor=\"middle\" x=\"271.5\" y=\"-243.7\" font-family=\"Times New Roman,serif\" font-size=\"14.00\">gini = 0.411</text>\n",
       "<text text-anchor=\"middle\" x=\"271.5\" y=\"-227.2\" font-family=\"Times New Roman,serif\" font-size=\"14.00\">samples = 152</text>\n",
       "<text text-anchor=\"middle\" x=\"271.5\" y=\"-210.7\" font-family=\"Times New Roman,serif\" font-size=\"14.00\">value = [108, 44]</text>\n",
       "</g>\n",
       "<!-- 0&#45;&gt;1 -->\n",
       "<g id=\"edge1\" class=\"edge\">\n",
       "<title>0&#45;&gt;1</title>\n",
       "<path fill=\"none\" stroke=\"black\" d=\"M314.01,-313.24C309.16,-305.04 303.94,-296.24 298.88,-287.7\"/>\n",
       "<polygon fill=\"black\" stroke=\"black\" points=\"301.92,-285.97 293.81,-279.15 295.9,-289.54 301.92,-285.97\"/>\n",
       "<text text-anchor=\"middle\" x=\"286.85\" y=\"-297.02\" font-family=\"Times New Roman,serif\" font-size=\"14.00\">True</text>\n",
       "</g>\n",
       "<!-- 8 -->\n",
       "<g id=\"node9\" class=\"node\">\n",
       "<title>8</title>\n",
       "<polygon fill=\"none\" stroke=\"black\" points=\"456.12,-277.5 344.88,-277.5 344.88,-203.5 456.12,-203.5 456.12,-277.5\"/>\n",
       "<text text-anchor=\"middle\" x=\"400.5\" y=\"-260.2\" font-family=\"Times New Roman,serif\" font-size=\"14.00\">X[5] &lt;= 8.047</text>\n",
       "<text text-anchor=\"middle\" x=\"400.5\" y=\"-243.7\" font-family=\"Times New Roman,serif\" font-size=\"14.00\">gini = 0.193</text>\n",
       "<text text-anchor=\"middle\" x=\"400.5\" y=\"-227.2\" font-family=\"Times New Roman,serif\" font-size=\"14.00\">samples = 203</text>\n",
       "<text text-anchor=\"middle\" x=\"400.5\" y=\"-210.7\" font-family=\"Times New Roman,serif\" font-size=\"14.00\">value = [22, 181]</text>\n",
       "</g>\n",
       "<!-- 0&#45;&gt;8 -->\n",
       "<g id=\"edge8\" class=\"edge\">\n",
       "<title>0&#45;&gt;8</title>\n",
       "<path fill=\"none\" stroke=\"black\" d=\"M357.32,-313.24C362.26,-305.04 367.55,-296.24 372.69,-287.7\"/>\n",
       "<polygon fill=\"black\" stroke=\"black\" points=\"375.68,-289.52 377.84,-279.15 369.69,-285.91 375.68,-289.52\"/>\n",
       "<text text-anchor=\"middle\" x=\"384.65\" y=\"-297.06\" font-family=\"Times New Roman,serif\" font-size=\"14.00\">False</text>\n",
       "</g>\n",
       "<!-- 2 -->\n",
       "<g id=\"node3\" class=\"node\">\n",
       "<title>2</title>\n",
       "<polygon fill=\"none\" stroke=\"black\" points=\"207.75,-167.5 103.25,-167.5 103.25,-93.5 207.75,-93.5 207.75,-167.5\"/>\n",
       "<text text-anchor=\"middle\" x=\"155.5\" y=\"-150.2\" font-family=\"Times New Roman,serif\" font-size=\"14.00\">X[3] &lt;= 24.5</text>\n",
       "<text text-anchor=\"middle\" x=\"155.5\" y=\"-133.7\" font-family=\"Times New Roman,serif\" font-size=\"14.00\">gini = 0.324</text>\n",
       "<text text-anchor=\"middle\" x=\"155.5\" y=\"-117.2\" font-family=\"Times New Roman,serif\" font-size=\"14.00\">samples = 54</text>\n",
       "<text text-anchor=\"middle\" x=\"155.5\" y=\"-100.7\" font-family=\"Times New Roman,serif\" font-size=\"14.00\">value = [11, 43]</text>\n",
       "</g>\n",
       "<!-- 1&#45;&gt;2 -->\n",
       "<g id=\"edge2\" class=\"edge\">\n",
       "<title>1&#45;&gt;2</title>\n",
       "<path fill=\"none\" stroke=\"black\" d=\"M232.55,-203.24C222.99,-194.33 212.64,-184.7 202.74,-175.48\"/>\n",
       "<polygon fill=\"black\" stroke=\"black\" points=\"205.36,-173.13 195.65,-168.88 200.59,-178.26 205.36,-173.13\"/>\n",
       "</g>\n",
       "<!-- 5 -->\n",
       "<g id=\"node6\" class=\"node\">\n",
       "<title>5</title>\n",
       "<polygon fill=\"none\" stroke=\"black\" points=\"323.38,-167.5 225.62,-167.5 225.62,-93.5 323.38,-93.5 323.38,-167.5\"/>\n",
       "<text text-anchor=\"middle\" x=\"274.5\" y=\"-150.2\" font-family=\"Times New Roman,serif\" font-size=\"14.00\">X[5] &lt;= 4.0</text>\n",
       "<text text-anchor=\"middle\" x=\"274.5\" y=\"-133.7\" font-family=\"Times New Roman,serif\" font-size=\"14.00\">gini = 0.02</text>\n",
       "<text text-anchor=\"middle\" x=\"274.5\" y=\"-117.2\" font-family=\"Times New Roman,serif\" font-size=\"14.00\">samples = 98</text>\n",
       "<text text-anchor=\"middle\" x=\"274.5\" y=\"-100.7\" font-family=\"Times New Roman,serif\" font-size=\"14.00\">value = [97, 1]</text>\n",
       "</g>\n",
       "<!-- 1&#45;&gt;5 -->\n",
       "<g id=\"edge5\" class=\"edge\">\n",
       "<title>1&#45;&gt;5</title>\n",
       "<path fill=\"none\" stroke=\"black\" d=\"M272.51,-203.24C272.72,-195.49 272.95,-187.2 273.18,-179.1\"/>\n",
       "<polygon fill=\"black\" stroke=\"black\" points=\"276.67,-179.46 273.45,-169.36 269.67,-179.26 276.67,-179.46\"/>\n",
       "</g>\n",
       "<!-- 3 -->\n",
       "<g id=\"node4\" class=\"node\">\n",
       "<title>3</title>\n",
       "<polygon fill=\"none\" stroke=\"black\" points=\"91,-57.5 0,-57.5 0,0 91,0 91,-57.5\"/>\n",
       "<text text-anchor=\"middle\" x=\"45.5\" y=\"-40.2\" font-family=\"Times New Roman,serif\" font-size=\"14.00\">gini = 0.0</text>\n",
       "<text text-anchor=\"middle\" x=\"45.5\" y=\"-23.7\" font-family=\"Times New Roman,serif\" font-size=\"14.00\">samples = 8</text>\n",
       "<text text-anchor=\"middle\" x=\"45.5\" y=\"-7.2\" font-family=\"Times New Roman,serif\" font-size=\"14.00\">value = [8, 0]</text>\n",
       "</g>\n",
       "<!-- 2&#45;&gt;3 -->\n",
       "<g id=\"edge3\" class=\"edge\">\n",
       "<title>2&#45;&gt;3</title>\n",
       "<path fill=\"none\" stroke=\"black\" d=\"M115.48,-93.21C105.5,-84.16 94.81,-74.46 84.86,-65.45\"/>\n",
       "<polygon fill=\"black\" stroke=\"black\" points=\"87.23,-62.87 77.47,-58.74 82.53,-68.05 87.23,-62.87\"/>\n",
       "</g>\n",
       "<!-- 4 -->\n",
       "<g id=\"node5\" class=\"node\">\n",
       "<title>4</title>\n",
       "<polygon fill=\"none\" stroke=\"black\" points=\"206.38,-57.5 108.62,-57.5 108.62,0 206.38,0 206.38,-57.5\"/>\n",
       "<text text-anchor=\"middle\" x=\"157.5\" y=\"-40.2\" font-family=\"Times New Roman,serif\" font-size=\"14.00\">gini = 0.122</text>\n",
       "<text text-anchor=\"middle\" x=\"157.5\" y=\"-23.7\" font-family=\"Times New Roman,serif\" font-size=\"14.00\">samples = 46</text>\n",
       "<text text-anchor=\"middle\" x=\"157.5\" y=\"-7.2\" font-family=\"Times New Roman,serif\" font-size=\"14.00\">value = [3, 43]</text>\n",
       "</g>\n",
       "<!-- 2&#45;&gt;4 -->\n",
       "<g id=\"edge4\" class=\"edge\">\n",
       "<title>2&#45;&gt;4</title>\n",
       "<path fill=\"none\" stroke=\"black\" d=\"M156.23,-93.21C156.39,-85.35 156.55,-77 156.71,-69.03\"/>\n",
       "<polygon fill=\"black\" stroke=\"black\" points=\"160.21,-69.31 156.91,-59.24 153.21,-69.17 160.21,-69.31\"/>\n",
       "</g>\n",
       "<!-- 6 -->\n",
       "<g id=\"node7\" class=\"node\">\n",
       "<title>6</title>\n",
       "<polygon fill=\"none\" stroke=\"black\" points=\"318,-57.5 227,-57.5 227,0 318,0 318,-57.5\"/>\n",
       "<text text-anchor=\"middle\" x=\"272.5\" y=\"-40.2\" font-family=\"Times New Roman,serif\" font-size=\"14.00\">gini = 0.444</text>\n",
       "<text text-anchor=\"middle\" x=\"272.5\" y=\"-23.7\" font-family=\"Times New Roman,serif\" font-size=\"14.00\">samples = 3</text>\n",
       "<text text-anchor=\"middle\" x=\"272.5\" y=\"-7.2\" font-family=\"Times New Roman,serif\" font-size=\"14.00\">value = [2, 1]</text>\n",
       "</g>\n",
       "<!-- 5&#45;&gt;6 -->\n",
       "<g id=\"edge6\" class=\"edge\">\n",
       "<title>5&#45;&gt;6</title>\n",
       "<path fill=\"none\" stroke=\"black\" d=\"M273.77,-93.21C273.61,-85.35 273.45,-77 273.29,-69.03\"/>\n",
       "<polygon fill=\"black\" stroke=\"black\" points=\"276.79,-69.17 273.09,-59.24 269.79,-69.31 276.79,-69.17\"/>\n",
       "</g>\n",
       "<!-- 7 -->\n",
       "<g id=\"node8\" class=\"node\">\n",
       "<title>7</title>\n",
       "<polygon fill=\"none\" stroke=\"black\" points=\"433.38,-57.5 335.62,-57.5 335.62,0 433.38,0 433.38,-57.5\"/>\n",
       "<text text-anchor=\"middle\" x=\"384.5\" y=\"-40.2\" font-family=\"Times New Roman,serif\" font-size=\"14.00\">gini = 0.0</text>\n",
       "<text text-anchor=\"middle\" x=\"384.5\" y=\"-23.7\" font-family=\"Times New Roman,serif\" font-size=\"14.00\">samples = 95</text>\n",
       "<text text-anchor=\"middle\" x=\"384.5\" y=\"-7.2\" font-family=\"Times New Roman,serif\" font-size=\"14.00\">value = [95, 0]</text>\n",
       "</g>\n",
       "<!-- 5&#45;&gt;7 -->\n",
       "<g id=\"edge7\" class=\"edge\">\n",
       "<title>5&#45;&gt;7</title>\n",
       "<path fill=\"none\" stroke=\"black\" d=\"M314.52,-93.21C324.5,-84.16 335.19,-74.46 345.14,-65.45\"/>\n",
       "<polygon fill=\"black\" stroke=\"black\" points=\"347.47,-68.05 352.53,-58.74 342.77,-62.87 347.47,-68.05\"/>\n",
       "</g>\n",
       "<!-- 9 -->\n",
       "<g id=\"node10\" class=\"node\">\n",
       "<title>9</title>\n",
       "<polygon fill=\"none\" stroke=\"black\" points=\"450.75,-159.25 346.25,-159.25 346.25,-101.75 450.75,-101.75 450.75,-159.25\"/>\n",
       "<text text-anchor=\"middle\" x=\"398.5\" y=\"-141.95\" font-family=\"Times New Roman,serif\" font-size=\"14.00\">gini = 0.0</text>\n",
       "<text text-anchor=\"middle\" x=\"398.5\" y=\"-125.45\" font-family=\"Times New Roman,serif\" font-size=\"14.00\">samples = 158</text>\n",
       "<text text-anchor=\"middle\" x=\"398.5\" y=\"-108.95\" font-family=\"Times New Roman,serif\" font-size=\"14.00\">value = [0, 158]</text>\n",
       "</g>\n",
       "<!-- 8&#45;&gt;9 -->\n",
       "<g id=\"edge9\" class=\"edge\">\n",
       "<title>8&#45;&gt;9</title>\n",
       "<path fill=\"none\" stroke=\"black\" d=\"M399.83,-203.24C399.64,-192.91 399.43,-181.6 399.23,-171.09\"/>\n",
       "<polygon fill=\"black\" stroke=\"black\" points=\"402.73,-171.09 399.05,-161.16 395.74,-171.22 402.73,-171.09\"/>\n",
       "</g>\n",
       "<!-- 10 -->\n",
       "<g id=\"node11\" class=\"node\">\n",
       "<title>10</title>\n",
       "<polygon fill=\"none\" stroke=\"black\" points=\"573.75,-167.5 469.25,-167.5 469.25,-93.5 573.75,-93.5 573.75,-167.5\"/>\n",
       "<text text-anchor=\"middle\" x=\"521.5\" y=\"-150.2\" font-family=\"Times New Roman,serif\" font-size=\"14.00\">X[3] &lt;= 140.5</text>\n",
       "<text text-anchor=\"middle\" x=\"521.5\" y=\"-133.7\" font-family=\"Times New Roman,serif\" font-size=\"14.00\">gini = 0.5</text>\n",
       "<text text-anchor=\"middle\" x=\"521.5\" y=\"-117.2\" font-family=\"Times New Roman,serif\" font-size=\"14.00\">samples = 45</text>\n",
       "<text text-anchor=\"middle\" x=\"521.5\" y=\"-100.7\" font-family=\"Times New Roman,serif\" font-size=\"14.00\">value = [22, 23]</text>\n",
       "</g>\n",
       "<!-- 8&#45;&gt;10 -->\n",
       "<g id=\"edge10\" class=\"edge\">\n",
       "<title>8&#45;&gt;10</title>\n",
       "<path fill=\"none\" stroke=\"black\" d=\"M441.13,-203.24C451.1,-194.33 461.89,-184.7 472.23,-175.48\"/>\n",
       "<polygon fill=\"black\" stroke=\"black\" points=\"474.51,-178.13 479.64,-168.86 469.85,-172.91 474.51,-178.13\"/>\n",
       "</g>\n",
       "<!-- 11 -->\n",
       "<g id=\"node12\" class=\"node\">\n",
       "<title>11</title>\n",
       "<polygon fill=\"none\" stroke=\"black\" points=\"561.38,-57.5 463.62,-57.5 463.62,0 561.38,0 561.38,-57.5\"/>\n",
       "<text text-anchor=\"middle\" x=\"512.5\" y=\"-40.2\" font-family=\"Times New Roman,serif\" font-size=\"14.00\">gini = 0.0</text>\n",
       "<text text-anchor=\"middle\" x=\"512.5\" y=\"-23.7\" font-family=\"Times New Roman,serif\" font-size=\"14.00\">samples = 22</text>\n",
       "<text text-anchor=\"middle\" x=\"512.5\" y=\"-7.2\" font-family=\"Times New Roman,serif\" font-size=\"14.00\">value = [22, 0]</text>\n",
       "</g>\n",
       "<!-- 10&#45;&gt;11 -->\n",
       "<g id=\"edge11\" class=\"edge\">\n",
       "<title>10&#45;&gt;11</title>\n",
       "<path fill=\"none\" stroke=\"black\" d=\"M518.23,-93.21C517.52,-85.35 516.76,-77 516.04,-69.03\"/>\n",
       "<polygon fill=\"black\" stroke=\"black\" points=\"519.54,-68.88 515.16,-59.24 512.57,-69.51 519.54,-68.88\"/>\n",
       "</g>\n",
       "<!-- 12 -->\n",
       "<g id=\"node13\" class=\"node\">\n",
       "<title>12</title>\n",
       "<polygon fill=\"none\" stroke=\"black\" points=\"677.38,-57.5 579.62,-57.5 579.62,0 677.38,0 677.38,-57.5\"/>\n",
       "<text text-anchor=\"middle\" x=\"628.5\" y=\"-40.2\" font-family=\"Times New Roman,serif\" font-size=\"14.00\">gini = 0.0</text>\n",
       "<text text-anchor=\"middle\" x=\"628.5\" y=\"-23.7\" font-family=\"Times New Roman,serif\" font-size=\"14.00\">samples = 23</text>\n",
       "<text text-anchor=\"middle\" x=\"628.5\" y=\"-7.2\" font-family=\"Times New Roman,serif\" font-size=\"14.00\">value = [0, 23]</text>\n",
       "</g>\n",
       "<!-- 10&#45;&gt;12 -->\n",
       "<g id=\"edge12\" class=\"edge\">\n",
       "<title>10&#45;&gt;12</title>\n",
       "<path fill=\"none\" stroke=\"black\" d=\"M560.43,-93.21C570.14,-84.16 580.54,-74.46 590.21,-65.45\"/>\n",
       "<polygon fill=\"black\" stroke=\"black\" points=\"592.45,-68.14 597.38,-58.76 587.68,-63.02 592.45,-68.14\"/>\n",
       "</g>\n",
       "</g>\n",
       "</svg>\n"
      ],
      "text/plain": [
       "<graphviz.sources.Source at 0x1cf54de2388>"
      ]
     },
     "execution_count": 42,
     "metadata": {},
     "output_type": "execute_result"
    }
   ],
   "source": [
    "dot_data = StringIO()\n",
    "dot_data = tree.export_graphviz(gini_model2, out_file=None)\n",
    "graph = graphviz.Source(dot_data)\n",
    "graph\n",
    "\n",
    "# Alternatively for class_names use gini_model2.classes_\n"
   ]
  },
  {
   "cell_type": "code",
   "execution_count": 43,
   "metadata": {},
   "outputs": [
    {
     "data": {
      "image/svg+xml": [
       "<?xml version=\"1.0\" encoding=\"UTF-8\" standalone=\"no\"?>\n",
       "<!DOCTYPE svg PUBLIC \"-//W3C//DTD SVG 1.1//EN\"\n",
       " \"http://www.w3.org/Graphics/SVG/1.1/DTD/svg11.dtd\">\n",
       "<!-- Generated by graphviz version 12.2.1 (20241206.2353)\n",
       " -->\n",
       "<!-- Title: Tree Pages: 1 -->\n",
       "<svg width=\"685pt\" height=\"462pt\"\n",
       " viewBox=\"0.00 0.00 685.38 461.50\" xmlns=\"http://www.w3.org/2000/svg\" xmlns:xlink=\"http://www.w3.org/1999/xlink\">\n",
       "<g id=\"graph0\" class=\"graph\" transform=\"scale(1 1) rotate(0) translate(4 457.5)\">\n",
       "<title>Tree</title>\n",
       "<polygon fill=\"white\" stroke=\"none\" points=\"-4,4 -4,-457.5 681.38,-457.5 681.38,4 -4,4\"/>\n",
       "<!-- 0 -->\n",
       "<g id=\"node1\" class=\"node\">\n",
       "<title>0</title>\n",
       "<polygon fill=\"none\" stroke=\"black\" points=\"394.5,-453.5 276.5,-453.5 276.5,-363 394.5,-363 394.5,-453.5\"/>\n",
       "<text text-anchor=\"middle\" x=\"335.5\" y=\"-436.2\" font-family=\"Times New Roman,serif\" font-size=\"14.00\">X[3] &lt;= 100.5</text>\n",
       "<text text-anchor=\"middle\" x=\"335.5\" y=\"-419.7\" font-family=\"Times New Roman,serif\" font-size=\"14.00\">gini = 0.464</text>\n",
       "<text text-anchor=\"middle\" x=\"335.5\" y=\"-403.2\" font-family=\"Times New Roman,serif\" font-size=\"14.00\">samples = 355</text>\n",
       "<text text-anchor=\"middle\" x=\"335.5\" y=\"-386.7\" font-family=\"Times New Roman,serif\" font-size=\"14.00\">value = [130, 225]</text>\n",
       "<text text-anchor=\"middle\" x=\"335.5\" y=\"-370.2\" font-family=\"Times New Roman,serif\" font-size=\"14.00\">class = YES</text>\n",
       "</g>\n",
       "<!-- 1 -->\n",
       "<g id=\"node2\" class=\"node\">\n",
       "<title>1</title>\n",
       "<polygon fill=\"none\" stroke=\"black\" points=\"327.12,-327 215.88,-327 215.88,-236.5 327.12,-236.5 327.12,-327\"/>\n",
       "<text text-anchor=\"middle\" x=\"271.5\" y=\"-309.7\" font-family=\"Times New Roman,serif\" font-size=\"14.00\">X[5] &lt;= 3.754</text>\n",
       "<text text-anchor=\"middle\" x=\"271.5\" y=\"-293.2\" font-family=\"Times New Roman,serif\" font-size=\"14.00\">gini = 0.411</text>\n",
       "<text text-anchor=\"middle\" x=\"271.5\" y=\"-276.7\" font-family=\"Times New Roman,serif\" font-size=\"14.00\">samples = 152</text>\n",
       "<text text-anchor=\"middle\" x=\"271.5\" y=\"-260.2\" font-family=\"Times New Roman,serif\" font-size=\"14.00\">value = [108, 44]</text>\n",
       "<text text-anchor=\"middle\" x=\"271.5\" y=\"-243.7\" font-family=\"Times New Roman,serif\" font-size=\"14.00\">class = NO</text>\n",
       "</g>\n",
       "<!-- 0&#45;&gt;1 -->\n",
       "<g id=\"edge1\" class=\"edge\">\n",
       "<title>0&#45;&gt;1</title>\n",
       "<path fill=\"none\" stroke=\"black\" d=\"M312.58,-362.65C308.39,-354.52 303.99,-345.95 299.67,-337.55\"/>\n",
       "<polygon fill=\"black\" stroke=\"black\" points=\"302.86,-336.09 295.17,-328.8 296.63,-339.29 302.86,-336.09\"/>\n",
       "<text text-anchor=\"middle\" x=\"286.84\" y=\"-346.21\" font-family=\"Times New Roman,serif\" font-size=\"14.00\">True</text>\n",
       "</g>\n",
       "<!-- 8 -->\n",
       "<g id=\"node9\" class=\"node\">\n",
       "<title>8</title>\n",
       "<polygon fill=\"none\" stroke=\"black\" points=\"456.12,-327 344.88,-327 344.88,-236.5 456.12,-236.5 456.12,-327\"/>\n",
       "<text text-anchor=\"middle\" x=\"400.5\" y=\"-309.7\" font-family=\"Times New Roman,serif\" font-size=\"14.00\">X[5] &lt;= 8.047</text>\n",
       "<text text-anchor=\"middle\" x=\"400.5\" y=\"-293.2\" font-family=\"Times New Roman,serif\" font-size=\"14.00\">gini = 0.193</text>\n",
       "<text text-anchor=\"middle\" x=\"400.5\" y=\"-276.7\" font-family=\"Times New Roman,serif\" font-size=\"14.00\">samples = 203</text>\n",
       "<text text-anchor=\"middle\" x=\"400.5\" y=\"-260.2\" font-family=\"Times New Roman,serif\" font-size=\"14.00\">value = [22, 181]</text>\n",
       "<text text-anchor=\"middle\" x=\"400.5\" y=\"-243.7\" font-family=\"Times New Roman,serif\" font-size=\"14.00\">class = YES</text>\n",
       "</g>\n",
       "<!-- 0&#45;&gt;8 -->\n",
       "<g id=\"edge8\" class=\"edge\">\n",
       "<title>0&#45;&gt;8</title>\n",
       "<path fill=\"none\" stroke=\"black\" d=\"M358.78,-362.65C363.03,-354.52 367.51,-345.95 371.89,-337.55\"/>\n",
       "<polygon fill=\"black\" stroke=\"black\" points=\"374.94,-339.28 376.46,-328.79 368.73,-336.04 374.94,-339.28\"/>\n",
       "<text text-anchor=\"middle\" x=\"384.65\" y=\"-346.25\" font-family=\"Times New Roman,serif\" font-size=\"14.00\">False</text>\n",
       "</g>\n",
       "<!-- 2 -->\n",
       "<g id=\"node3\" class=\"node\">\n",
       "<title>2</title>\n",
       "<polygon fill=\"none\" stroke=\"black\" points=\"207.75,-200.5 103.25,-200.5 103.25,-110 207.75,-110 207.75,-200.5\"/>\n",
       "<text text-anchor=\"middle\" x=\"155.5\" y=\"-183.2\" font-family=\"Times New Roman,serif\" font-size=\"14.00\">X[3] &lt;= 24.5</text>\n",
       "<text text-anchor=\"middle\" x=\"155.5\" y=\"-166.7\" font-family=\"Times New Roman,serif\" font-size=\"14.00\">gini = 0.324</text>\n",
       "<text text-anchor=\"middle\" x=\"155.5\" y=\"-150.2\" font-family=\"Times New Roman,serif\" font-size=\"14.00\">samples = 54</text>\n",
       "<text text-anchor=\"middle\" x=\"155.5\" y=\"-133.7\" font-family=\"Times New Roman,serif\" font-size=\"14.00\">value = [11, 43]</text>\n",
       "<text text-anchor=\"middle\" x=\"155.5\" y=\"-117.2\" font-family=\"Times New Roman,serif\" font-size=\"14.00\">class = YES</text>\n",
       "</g>\n",
       "<!-- 1&#45;&gt;2 -->\n",
       "<g id=\"edge2\" class=\"edge\">\n",
       "<title>1&#45;&gt;2</title>\n",
       "<path fill=\"none\" stroke=\"black\" d=\"M229.95,-236.15C221.79,-227.39 213.15,-218.12 204.76,-209.12\"/>\n",
       "<polygon fill=\"black\" stroke=\"black\" points=\"207.56,-206.99 198.18,-202.06 202.44,-211.76 207.56,-206.99\"/>\n",
       "</g>\n",
       "<!-- 5 -->\n",
       "<g id=\"node6\" class=\"node\">\n",
       "<title>5</title>\n",
       "<polygon fill=\"none\" stroke=\"black\" points=\"323.38,-200.5 225.62,-200.5 225.62,-110 323.38,-110 323.38,-200.5\"/>\n",
       "<text text-anchor=\"middle\" x=\"274.5\" y=\"-183.2\" font-family=\"Times New Roman,serif\" font-size=\"14.00\">X[5] &lt;= 4.0</text>\n",
       "<text text-anchor=\"middle\" x=\"274.5\" y=\"-166.7\" font-family=\"Times New Roman,serif\" font-size=\"14.00\">gini = 0.02</text>\n",
       "<text text-anchor=\"middle\" x=\"274.5\" y=\"-150.2\" font-family=\"Times New Roman,serif\" font-size=\"14.00\">samples = 98</text>\n",
       "<text text-anchor=\"middle\" x=\"274.5\" y=\"-133.7\" font-family=\"Times New Roman,serif\" font-size=\"14.00\">value = [97, 1]</text>\n",
       "<text text-anchor=\"middle\" x=\"274.5\" y=\"-117.2\" font-family=\"Times New Roman,serif\" font-size=\"14.00\">class = NO</text>\n",
       "</g>\n",
       "<!-- 1&#45;&gt;5 -->\n",
       "<g id=\"edge5\" class=\"edge\">\n",
       "<title>1&#45;&gt;5</title>\n",
       "<path fill=\"none\" stroke=\"black\" d=\"M272.57,-236.15C272.76,-228.47 272.95,-220.39 273.15,-212.44\"/>\n",
       "<polygon fill=\"black\" stroke=\"black\" points=\"276.64,-212.55 273.39,-202.47 269.65,-212.38 276.64,-212.55\"/>\n",
       "</g>\n",
       "<!-- 3 -->\n",
       "<g id=\"node4\" class=\"node\">\n",
       "<title>3</title>\n",
       "<polygon fill=\"none\" stroke=\"black\" points=\"91,-74 0,-74 0,0 91,0 91,-74\"/>\n",
       "<text text-anchor=\"middle\" x=\"45.5\" y=\"-56.7\" font-family=\"Times New Roman,serif\" font-size=\"14.00\">gini = 0.0</text>\n",
       "<text text-anchor=\"middle\" x=\"45.5\" y=\"-40.2\" font-family=\"Times New Roman,serif\" font-size=\"14.00\">samples = 8</text>\n",
       "<text text-anchor=\"middle\" x=\"45.5\" y=\"-23.7\" font-family=\"Times New Roman,serif\" font-size=\"14.00\">value = [8, 0]</text>\n",
       "<text text-anchor=\"middle\" x=\"45.5\" y=\"-7.2\" font-family=\"Times New Roman,serif\" font-size=\"14.00\">class = NO</text>\n",
       "</g>\n",
       "<!-- 2&#45;&gt;3 -->\n",
       "<g id=\"edge3\" class=\"edge\">\n",
       "<title>2&#45;&gt;3</title>\n",
       "<path fill=\"none\" stroke=\"black\" d=\"M113.29,-109.64C104.93,-100.81 96.16,-91.53 87.8,-82.7\"/>\n",
       "<polygon fill=\"black\" stroke=\"black\" points=\"90.39,-80.35 80.98,-75.49 85.31,-85.16 90.39,-80.35\"/>\n",
       "</g>\n",
       "<!-- 4 -->\n",
       "<g id=\"node5\" class=\"node\">\n",
       "<title>4</title>\n",
       "<polygon fill=\"none\" stroke=\"black\" points=\"206.38,-74 108.62,-74 108.62,0 206.38,0 206.38,-74\"/>\n",
       "<text text-anchor=\"middle\" x=\"157.5\" y=\"-56.7\" font-family=\"Times New Roman,serif\" font-size=\"14.00\">gini = 0.122</text>\n",
       "<text text-anchor=\"middle\" x=\"157.5\" y=\"-40.2\" font-family=\"Times New Roman,serif\" font-size=\"14.00\">samples = 46</text>\n",
       "<text text-anchor=\"middle\" x=\"157.5\" y=\"-23.7\" font-family=\"Times New Roman,serif\" font-size=\"14.00\">value = [3, 43]</text>\n",
       "<text text-anchor=\"middle\" x=\"157.5\" y=\"-7.2\" font-family=\"Times New Roman,serif\" font-size=\"14.00\">class = YES</text>\n",
       "</g>\n",
       "<!-- 2&#45;&gt;4 -->\n",
       "<g id=\"edge4\" class=\"edge\">\n",
       "<title>2&#45;&gt;4</title>\n",
       "<path fill=\"none\" stroke=\"black\" d=\"M156.27,-109.64C156.4,-101.81 156.54,-93.63 156.68,-85.72\"/>\n",
       "<polygon fill=\"black\" stroke=\"black\" points=\"160.18,-85.97 156.85,-75.91 153.18,-85.85 160.18,-85.97\"/>\n",
       "</g>\n",
       "<!-- 6 -->\n",
       "<g id=\"node7\" class=\"node\">\n",
       "<title>6</title>\n",
       "<polygon fill=\"none\" stroke=\"black\" points=\"318,-74 227,-74 227,0 318,0 318,-74\"/>\n",
       "<text text-anchor=\"middle\" x=\"272.5\" y=\"-56.7\" font-family=\"Times New Roman,serif\" font-size=\"14.00\">gini = 0.444</text>\n",
       "<text text-anchor=\"middle\" x=\"272.5\" y=\"-40.2\" font-family=\"Times New Roman,serif\" font-size=\"14.00\">samples = 3</text>\n",
       "<text text-anchor=\"middle\" x=\"272.5\" y=\"-23.7\" font-family=\"Times New Roman,serif\" font-size=\"14.00\">value = [2, 1]</text>\n",
       "<text text-anchor=\"middle\" x=\"272.5\" y=\"-7.2\" font-family=\"Times New Roman,serif\" font-size=\"14.00\">class = NO</text>\n",
       "</g>\n",
       "<!-- 5&#45;&gt;6 -->\n",
       "<g id=\"edge6\" class=\"edge\">\n",
       "<title>5&#45;&gt;6</title>\n",
       "<path fill=\"none\" stroke=\"black\" d=\"M273.73,-109.64C273.6,-101.81 273.46,-93.63 273.32,-85.72\"/>\n",
       "<polygon fill=\"black\" stroke=\"black\" points=\"276.82,-85.85 273.15,-75.91 269.82,-85.97 276.82,-85.85\"/>\n",
       "</g>\n",
       "<!-- 7 -->\n",
       "<g id=\"node8\" class=\"node\">\n",
       "<title>7</title>\n",
       "<polygon fill=\"none\" stroke=\"black\" points=\"433.38,-74 335.62,-74 335.62,0 433.38,0 433.38,-74\"/>\n",
       "<text text-anchor=\"middle\" x=\"384.5\" y=\"-56.7\" font-family=\"Times New Roman,serif\" font-size=\"14.00\">gini = 0.0</text>\n",
       "<text text-anchor=\"middle\" x=\"384.5\" y=\"-40.2\" font-family=\"Times New Roman,serif\" font-size=\"14.00\">samples = 95</text>\n",
       "<text text-anchor=\"middle\" x=\"384.5\" y=\"-23.7\" font-family=\"Times New Roman,serif\" font-size=\"14.00\">value = [95, 0]</text>\n",
       "<text text-anchor=\"middle\" x=\"384.5\" y=\"-7.2\" font-family=\"Times New Roman,serif\" font-size=\"14.00\">class = NO</text>\n",
       "</g>\n",
       "<!-- 5&#45;&gt;7 -->\n",
       "<g id=\"edge7\" class=\"edge\">\n",
       "<title>5&#45;&gt;7</title>\n",
       "<path fill=\"none\" stroke=\"black\" d=\"M316.71,-109.64C325.07,-100.81 333.84,-91.53 342.2,-82.7\"/>\n",
       "<polygon fill=\"black\" stroke=\"black\" points=\"344.69,-85.16 349.02,-75.49 339.61,-80.35 344.69,-85.16\"/>\n",
       "</g>\n",
       "<!-- 9 -->\n",
       "<g id=\"node10\" class=\"node\">\n",
       "<title>9</title>\n",
       "<polygon fill=\"none\" stroke=\"black\" points=\"450.75,-192.25 346.25,-192.25 346.25,-118.25 450.75,-118.25 450.75,-192.25\"/>\n",
       "<text text-anchor=\"middle\" x=\"398.5\" y=\"-174.95\" font-family=\"Times New Roman,serif\" font-size=\"14.00\">gini = 0.0</text>\n",
       "<text text-anchor=\"middle\" x=\"398.5\" y=\"-158.45\" font-family=\"Times New Roman,serif\" font-size=\"14.00\">samples = 158</text>\n",
       "<text text-anchor=\"middle\" x=\"398.5\" y=\"-141.95\" font-family=\"Times New Roman,serif\" font-size=\"14.00\">value = [0, 158]</text>\n",
       "<text text-anchor=\"middle\" x=\"398.5\" y=\"-125.45\" font-family=\"Times New Roman,serif\" font-size=\"14.00\">class = YES</text>\n",
       "</g>\n",
       "<!-- 8&#45;&gt;9 -->\n",
       "<g id=\"edge9\" class=\"edge\">\n",
       "<title>8&#45;&gt;9</title>\n",
       "<path fill=\"none\" stroke=\"black\" d=\"M399.78,-236.15C399.61,-225.6 399.43,-214.31 399.26,-203.63\"/>\n",
       "<polygon fill=\"black\" stroke=\"black\" points=\"402.76,-203.81 399.1,-193.87 395.77,-203.92 402.76,-203.81\"/>\n",
       "</g>\n",
       "<!-- 10 -->\n",
       "<g id=\"node11\" class=\"node\">\n",
       "<title>10</title>\n",
       "<polygon fill=\"none\" stroke=\"black\" points=\"573.75,-200.5 469.25,-200.5 469.25,-110 573.75,-110 573.75,-200.5\"/>\n",
       "<text text-anchor=\"middle\" x=\"521.5\" y=\"-183.2\" font-family=\"Times New Roman,serif\" font-size=\"14.00\">X[3] &lt;= 140.5</text>\n",
       "<text text-anchor=\"middle\" x=\"521.5\" y=\"-166.7\" font-family=\"Times New Roman,serif\" font-size=\"14.00\">gini = 0.5</text>\n",
       "<text text-anchor=\"middle\" x=\"521.5\" y=\"-150.2\" font-family=\"Times New Roman,serif\" font-size=\"14.00\">samples = 45</text>\n",
       "<text text-anchor=\"middle\" x=\"521.5\" y=\"-133.7\" font-family=\"Times New Roman,serif\" font-size=\"14.00\">value = [22, 23]</text>\n",
       "<text text-anchor=\"middle\" x=\"521.5\" y=\"-117.2\" font-family=\"Times New Roman,serif\" font-size=\"14.00\">class = YES</text>\n",
       "</g>\n",
       "<!-- 8&#45;&gt;10 -->\n",
       "<g id=\"edge10\" class=\"edge\">\n",
       "<title>8&#45;&gt;10</title>\n",
       "<path fill=\"none\" stroke=\"black\" d=\"M443.84,-236.15C452.36,-227.39 461.37,-218.12 470.11,-209.12\"/>\n",
       "<polygon fill=\"black\" stroke=\"black\" points=\"472.54,-211.65 477,-202.04 467.52,-206.77 472.54,-211.65\"/>\n",
       "</g>\n",
       "<!-- 11 -->\n",
       "<g id=\"node12\" class=\"node\">\n",
       "<title>11</title>\n",
       "<polygon fill=\"none\" stroke=\"black\" points=\"561.38,-74 463.62,-74 463.62,0 561.38,0 561.38,-74\"/>\n",
       "<text text-anchor=\"middle\" x=\"512.5\" y=\"-56.7\" font-family=\"Times New Roman,serif\" font-size=\"14.00\">gini = 0.0</text>\n",
       "<text text-anchor=\"middle\" x=\"512.5\" y=\"-40.2\" font-family=\"Times New Roman,serif\" font-size=\"14.00\">samples = 22</text>\n",
       "<text text-anchor=\"middle\" x=\"512.5\" y=\"-23.7\" font-family=\"Times New Roman,serif\" font-size=\"14.00\">value = [22, 0]</text>\n",
       "<text text-anchor=\"middle\" x=\"512.5\" y=\"-7.2\" font-family=\"Times New Roman,serif\" font-size=\"14.00\">class = NO</text>\n",
       "</g>\n",
       "<!-- 10&#45;&gt;11 -->\n",
       "<g id=\"edge11\" class=\"edge\">\n",
       "<title>10&#45;&gt;11</title>\n",
       "<path fill=\"none\" stroke=\"black\" d=\"M518.05,-109.64C517.44,-101.81 516.81,-93.63 516.19,-85.72\"/>\n",
       "<polygon fill=\"black\" stroke=\"black\" points=\"519.7,-85.6 515.43,-75.9 512.72,-86.14 519.7,-85.6\"/>\n",
       "</g>\n",
       "<!-- 12 -->\n",
       "<g id=\"node13\" class=\"node\">\n",
       "<title>12</title>\n",
       "<polygon fill=\"none\" stroke=\"black\" points=\"677.38,-74 579.62,-74 579.62,0 677.38,0 677.38,-74\"/>\n",
       "<text text-anchor=\"middle\" x=\"628.5\" y=\"-56.7\" font-family=\"Times New Roman,serif\" font-size=\"14.00\">gini = 0.0</text>\n",
       "<text text-anchor=\"middle\" x=\"628.5\" y=\"-40.2\" font-family=\"Times New Roman,serif\" font-size=\"14.00\">samples = 23</text>\n",
       "<text text-anchor=\"middle\" x=\"628.5\" y=\"-23.7\" font-family=\"Times New Roman,serif\" font-size=\"14.00\">value = [0, 23]</text>\n",
       "<text text-anchor=\"middle\" x=\"628.5\" y=\"-7.2\" font-family=\"Times New Roman,serif\" font-size=\"14.00\">class = YES</text>\n",
       "</g>\n",
       "<!-- 10&#45;&gt;12 -->\n",
       "<g id=\"edge12\" class=\"edge\">\n",
       "<title>10&#45;&gt;12</title>\n",
       "<path fill=\"none\" stroke=\"black\" d=\"M562.56,-109.64C570.69,-100.81 579.23,-91.53 587.36,-82.7\"/>\n",
       "<polygon fill=\"black\" stroke=\"black\" points=\"589.78,-85.24 593.98,-75.51 584.63,-80.49 589.78,-85.24\"/>\n",
       "</g>\n",
       "</g>\n",
       "</svg>\n"
      ],
      "text/plain": [
       "<graphviz.sources.Source at 0x1cf54de1b48>"
      ]
     },
     "execution_count": 43,
     "metadata": {},
     "output_type": "execute_result"
    }
   ],
   "source": [
    "# Alternatively for class_names use gini_model2.classes_\n",
    "dot_data = tree.export_graphviz(gini_model2, out_file=None, class_names=gini_model2.classes_)\n",
    "graph = graphviz.Source(dot_data)\n",
    "graph"
   ]
  },
  {
   "cell_type": "code",
   "execution_count": 44,
   "metadata": {
    "colab": {},
    "colab_type": "code",
    "id": "R4t7e9-GDuW9"
   },
   "outputs": [
    {
     "name": "stdout",
     "output_type": "stream",
     "text": [
      "Gini impurity  model - max depth 3\n",
      "Accuracy: 0.9747899159663865\n",
      "Balanced accuracy: 0.9691994996873046\n",
      "Precision score 0.9746835443037974\n",
      "Recall score 0.9512195121951219\n"
     ]
    }
   ],
   "source": [
    "print(\"Gini impurity  model - max depth 3\")\n",
    "print(\"Accuracy:\", metrics.accuracy_score(y_test,y_pred))\n",
    "print(\"Balanced accuracy:\", metrics.balanced_accuracy_score(y_test,y_pred))\n",
    "print('Precision score' , metrics.precision_score(y_test,y_pred, pos_label = \"YES\"))\n",
    "print('Recall score' , metrics.recall_score(y_test,y_pred, pos_label = \"NO\"))"
   ]
  },
  {
   "cell_type": "markdown",
   "metadata": {
    "colab_type": "text",
    "id": "UzGThBXSDuW-"
   },
   "source": [
    "Now this is an elegant tree. Its accuracy might not be the highest, but it's still the best model we've produced so far. Why is that? Write your answer here: The combination of simplicity and accuracy mean an even higher degree of generalizability than the models presented above."
   ]
  },
  {
   "cell_type": "markdown",
   "metadata": {
    "colab_type": "text",
    "id": "jS1niFlCDuW_"
   },
   "source": [
    "# 4. Evaluating and concluding\n",
    "## 4a. How many customers will buy Hidden Farm coffee? \n",
    "Let's first ascertain how many loyal customers claimed, in the survey, that they will purchase the Hidden Farm coffee. "
   ]
  },
  {
   "cell_type": "code",
   "execution_count": 45,
   "metadata": {
    "colab": {},
    "colab_type": "code",
    "id": "QPHXnHZvDuXC"
   },
   "outputs": [
    {
     "data": {
      "text/plain": [
       "YES    303\n",
       "NO     171\n",
       "Name: Decision, dtype: int64"
      ]
     },
     "execution_count": 45,
     "metadata": {},
     "output_type": "execute_result"
    }
   ],
   "source": [
    "# Call value_counts() on the 'Decision' column of the coffeeDataoriginal coffeeData\n",
    "coffeeData['Decision'].value_counts()"
   ]
  },
  {
   "cell_type": "markdown",
   "metadata": {
    "colab_type": "text",
    "id": "kw_5g_ZEDuXD"
   },
   "source": [
    "Let's now determine the number of people that, according to the model, will be willing to buy the Hidden Farm coffee. \n",
    "1. First we subset the Prediction dataset into `new_X` considering all the variables except `Decision` \n",
    "2. Use that dataset to predict a new variable called `potential_buyers`"
   ]
  },
  {
   "cell_type": "code",
   "execution_count": 46,
   "metadata": {
    "colab": {},
    "colab_type": "code",
    "id": "mwypR8ymDuXE"
   },
   "outputs": [],
   "source": [
    "# Feature selection\n",
    "# Make a variable called feature_cols, and assign it a list containing all the column names except 'Decision'\n",
    "feature_cols = [column for column in coffeeData.columns if column != 'Decision']\n",
    "\n",
    "# Make a variable called new_X, and assign it the subset of Prediction, containing just the feature_cols \n",
    "new_X = prediction[feature_cols]"
   ]
  },
  {
   "cell_type": "code",
   "execution_count": 47,
   "metadata": {
    "colab": {},
    "colab_type": "code",
    "id": "0ajvbeRSDuXG"
   },
   "outputs": [],
   "source": [
    "# Call get_dummies() on the Pandas object pd, with new_X plugged in, to one-hot encode all features in the training set\n",
    "new_X = pd.get_dummies(new_X)\n",
    "\n",
    "# Make a variable called potential_buyers, and assign it the result of calling predict() on a model of your choice; \n",
    "# don't forget to pass new_X to predict()\n",
    "potential_buyers = gini_model2.predict(new_X)"
   ]
  },
  {
   "cell_type": "code",
   "execution_count": 48,
   "metadata": {
    "colab": {},
    "colab_type": "code",
    "id": "-MO_KWT9DuXI"
   },
   "outputs": [
    {
     "data": {
      "text/plain": [
       "(array(['NO', 'YES'], dtype=object), array([ 45, 183], dtype=int64))"
      ]
     },
     "execution_count": 48,
     "metadata": {},
     "output_type": "execute_result"
    }
   ],
   "source": [
    "# Let's get the numbers of YES's and NO's in the potential buyers \n",
    "# Call unique() on np, and pass potential_buyers and return_counts=True \n",
    "np.unique(potential_buyers, return_counts=True)"
   ]
  },
  {
   "cell_type": "markdown",
   "metadata": {
    "colab_type": "text",
    "id": "3CB7HbiTDuXJ"
   },
   "source": [
    "The total number of potential buyers is 303 + 183 = 486"
   ]
  },
  {
   "cell_type": "code",
   "execution_count": 49,
   "metadata": {
    "colab": {},
    "colab_type": "code",
    "id": "9EGFQcTuDuXK"
   },
   "outputs": [
    {
     "data": {
      "text/plain": [
       "702"
      ]
     },
     "execution_count": 49,
     "metadata": {},
     "output_type": "execute_result"
    }
   ],
   "source": [
    "# Print the total number of surveyed people \n",
    "len(coffeeData)"
   ]
  },
  {
   "cell_type": "code",
   "execution_count": 50,
   "metadata": {
    "colab": {},
    "colab_type": "code",
    "id": "22_KRMX4DuXM"
   },
   "outputs": [
    {
     "data": {
      "text/plain": [
       "0.6923076923076923"
      ]
     },
     "execution_count": 50,
     "metadata": {},
     "output_type": "execute_result"
    }
   ],
   "source": [
    "# Let's calculate the proportion of buyers\n",
    "486/702"
   ]
  },
  {
   "cell_type": "code",
   "execution_count": 51,
   "metadata": {
    "colab": {},
    "colab_type": "code",
    "id": "xLMCDMpmDuXO"
   },
   "outputs": [
    {
     "data": {
      "text/plain": [
       "0.8026315789473685"
      ]
     },
     "execution_count": 51,
     "metadata": {},
     "output_type": "execute_result"
    }
   ],
   "source": [
    "# Print the percentage of people who want to buy the Hidden Farm coffee, by our model \n",
    "potential_buyers[:5],potential_buyers[-5:]\n",
    "\n",
    "buyers = len(potential_buyers[potential_buyers=='YES'])\n",
    "total = len(potential_buyers)\n",
    "buyers/total"
   ]
  },
  {
   "cell_type": "markdown",
   "metadata": {
    "colab_type": "text",
    "id": "9bRDyi6rDuXQ"
   },
   "source": [
    "## 4b. Decision\n",
    "Remember how you thought at the start: if more than 70% of the interviewed customers are likely to buy the Hidden Farm coffee, you will strike the deal with the local Hidden Farm farmers and sell the coffee. Otherwise, you won't strike the deal and the Hidden Farm coffee will remain in legends only. Well now's crunch time. Are you going to go ahead with that idea? If so, you won't be striking the deal with the Chinese farmers. \n",
    "\n",
    "They're called `decision trees`, aren't they? So where's the decision? What should you do? (Cue existential cat emoji). \n",
    "\n",
    "Ultimately, though, we can't write an algorithm to actually *make the business decision* for us. This is because such decisions depend on our values, what risks we are willing to take, the stakes of our decisions, and how important it us for us to *know* that we will succeed. What are you going to do with the models you've made? Are you going to risk everything, strike the deal with the *Hidden Farm* farmers, and sell the coffee? \n",
    "\n",
    "The philosopher of language Jason Stanley once wrote that the number of doubts our evidence has to rule out in order for us to know a given proposition depends on our stakes: the higher our stakes, the more doubts our evidence has to rule out, and therefore the harder it is for us to know things. We can end up paralyzed in predicaments; sometimes, we can act to better our situation only if we already know certain things, which we can only if our stakes were lower and we'd *already* bettered our situation. \n",
    "\n",
    "Data science and machine learning can't solve such problems. But what it can do is help us make great use of our data to help *inform* our decisions."
   ]
  },
  {
   "cell_type": "markdown",
   "metadata": {
    "colab_type": "text",
    "id": "crWWrpdox8i-"
   },
   "source": [
    "## 5. Random Forest\n",
    "You might have noticed an important fact about decision trees. Each time we run a given decision tree algorithm to make a prediction (such as whether customers will buy the Hidden Farm coffee) we will actually get a slightly different result. This might seem weird, but it has a simple explanation: machine learning algorithms are by definition ***stochastic***, in that their output is at least partly determined by randomness. \n",
    "\n",
    "To account for this variability and ensure that we get the most accurate prediction, we might want to actually make lots of decision trees, and get a value that captures the centre or average of the outputs of those trees. Luckily, there's a method for this, known as the ***Random Forest***. \n",
    "\n",
    "Essentially, Random Forest involves making lots of trees with similar properties, and then performing summary statistics on the outputs of those trees to reach that central value. Random forests are hugely powerful classifers, and they can improve predictive accuracy and control over-fitting. \n",
    "\n",
    "Why not try to inform your decision with random forest? You'll need to make use of the RandomForestClassifier function within the sklearn.ensemble module, found [here](https://scikit-learn.org/stable/modules/generated/sklearn.ensemble.RandomForestClassifier.html). "
   ]
  },
  {
   "cell_type": "markdown",
   "metadata": {
    "colab_type": "text",
    "id": "fI4fiVWq0IH9"
   },
   "source": [
    "### 5a. Import necessary modules"
   ]
  },
  {
   "cell_type": "code",
   "execution_count": 52,
   "metadata": {
    "colab": {},
    "colab_type": "code",
    "id": "vSRTnHnD0D-O"
   },
   "outputs": [],
   "source": [
    "from sklearn.ensemble import RandomForestClassifier\n",
    "from sklearn.datasets import make_classification"
   ]
  },
  {
   "cell_type": "markdown",
   "metadata": {
    "colab_type": "text",
    "id": "jKmFvvjb0WB9"
   },
   "source": [
    "### 5b. Model\n",
    "You'll use your X_train and y_train variables just as before.\n",
    "\n",
    "You'll then need to make a variable (call it firstRFModel) to store your new Random Forest model. You'll assign this variable the result of calling RandomForestClassifier().\n",
    "\n",
    "Then, just as before, you'll call fit() on that firstRFModel variable, and plug in X_train and y_train.\n",
    "\n",
    "Finally, you should make a variable called y_pred, and assign it the result of calling the predict() method on your new firstRFModel, with the X_test data passed to it. "
   ]
  },
  {
   "cell_type": "code",
   "execution_count": 53,
   "metadata": {
    "colab": {},
    "colab_type": "code",
    "id": "OQEeTiRG1aSm"
   },
   "outputs": [
    {
     "name": "stdout",
     "output_type": "stream",
     "text": [
      "Random Forest model with max depth 3\n",
      "Accuracy: 0.9411764705882353\n",
      "Balanced accuracy: 0.9204190118824265\n",
      "Precision score 0.927710843373494\n",
      "Recall score 0.8536585365853658\n"
     ]
    }
   ],
   "source": [
    "# Plug in appropriate max_depth and random_state parameters \n",
    "rf = RandomForestClassifier(max_depth=3, random_state=1234)\n",
    "\n",
    "# Model and fit\n",
    "rf.fit(X_train, y_train)\n",
    "y_pred = rf.predict(X_test)\n",
    "print('Random Forest model with max depth 3')\n",
    "print(\"Accuracy:\", metrics.accuracy_score(y_test,y_pred))\n",
    "print(\"Balanced accuracy:\", metrics.balanced_accuracy_score(y_test,y_pred))\n",
    "print('Precision score' , metrics.precision_score(y_test,y_pred, pos_label = \"YES\"))\n",
    "print('Recall score' , metrics.recall_score(y_test,y_pred, pos_label = \"NO\"))\n",
    "\n"
   ]
  },
  {
   "cell_type": "code",
   "execution_count": 54,
   "metadata": {},
   "outputs": [
    {
     "data": {
      "text/plain": [
       "(array(['NO', 'YES'], dtype=object), array([ 39, 189], dtype=int64))"
      ]
     },
     "execution_count": 54,
     "metadata": {},
     "output_type": "execute_result"
    }
   ],
   "source": [
    "RF_potential_buyers = rf.predict(new_X)\n",
    "np.unique(RF_potential_buyers, return_counts=True)"
   ]
  },
  {
   "cell_type": "code",
   "execution_count": 55,
   "metadata": {},
   "outputs": [
    {
     "data": {
      "text/plain": [
       "0.8289473684210527"
      ]
     },
     "execution_count": 55,
     "metadata": {},
     "output_type": "execute_result"
    }
   ],
   "source": [
    "buyers = len(RF_potential_buyers[RF_potential_buyers=='YES'])\n",
    "total = len(RF_potential_buyers)\n",
    "buyers/total"
   ]
  },
  {
   "cell_type": "markdown",
   "metadata": {
    "colab_type": "text",
    "id": "sCIt6pyn1zpb"
   },
   "source": [
    "### 5c. Revise conclusion\n",
    "\n",
    "Has your conclusion changed? Or is the result of executing random forest the same as your best model reached by a single decision tree? RR should purchase coffee From Hidden as the percentage of potential buyer increased by 2 percent based on random forest model."
   ]
  }
 ],
 "metadata": {
  "colab": {
   "collapsed_sections": [],
   "name": "Springboard Decision Tree Specialty Coffee Case Study - Tier 3.ipynb",
   "provenance": []
  },
  "kernelspec": {
   "display_name": "Python 3",
   "language": "python",
   "name": "python3"
  },
  "language_info": {
   "codemirror_mode": {
    "name": "ipython",
    "version": 3
   },
   "file_extension": ".py",
   "mimetype": "text/x-python",
   "name": "python",
   "nbconvert_exporter": "python",
   "pygments_lexer": "ipython3",
   "version": "3.7.6"
  }
 },
 "nbformat": 4,
 "nbformat_minor": 4
}
